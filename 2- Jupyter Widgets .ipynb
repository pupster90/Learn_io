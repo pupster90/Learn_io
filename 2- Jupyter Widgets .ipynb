{
 "cells": [
  {
   "cell_type": "markdown",
   "metadata": {},
   "source": [
    "<font size=7>Jupyter Widgets</font>"
   ]
  },
  {
   "cell_type": "markdown",
   "metadata": {},
   "source": [
    "In ths tutorial we will learn how to use <font color=\"Green\">Jupyter Widgets</font>. Jupyter widgets are the easiest way to create interactive applications in python. This tutorial will show you the basics of how they work. See the next tutorial to learn how to make a video game!"
   ]
  },
  {
   "cell_type": "markdown",
   "metadata": {},
   "source": [
    "**Useful Links**\n",
    "\n",
    "* [List of Widgets](https://ipywidgets.readthedocs.io/en/stable/examples/Widget%20List.html)\n",
    "* [Widgets Layout](https://ipywidgets.readthedocs.io/en/stable/examples/Widget%20Styling.html)\n",
    "* [interact functions](https://ipywidgets.readthedocs.io/en/stable/examples/Using%20Interact.html)\n",
    "* [HTML Tutorials](https://www.w3schools.com/html/)\n",
    "* [fontawesome icons](https://fontawesome.com/icons?d=gallery&m=free)"
   ]
  },
  {
   "cell_type": "code",
   "execution_count": null,
   "metadata": {},
   "outputs": [],
   "source": [
    "from IPython.core.display import HTML\n",
    "HTML(\"\"\"<div class=\"row\"><div class=\"col-xs-12 col-md-offset-3 col-md-6\"><div class=\"embed-responsive embed-responsive-16by9\"><iframe class=\"embed-responsive-item\"src='https://www.youtube.com/embed/abXuRM0QVD0'></iframe></div></div></div>\"\"\")\n"
   ]
  },
  {
   "cell_type": "markdown",
   "metadata": {},
   "source": [
    "# Import <font color=\"green\">Widgets</font>"
   ]
  },
  {
   "cell_type": "markdown",
   "metadata": {},
   "source": [
    "## Simplest Way"
   ]
  },
  {
   "cell_type": "markdown",
   "metadata": {},
   "source": [
    "Here is the easiest way simplest to import a **python package**. A Python package is a <font color=\"blue\">toolbox</font> of useful premade python functions."
   ]
  },
  {
   "cell_type": "code",
   "execution_count": null,
   "metadata": {},
   "outputs": [],
   "source": [
    "import ipywidgets"
   ]
  },
  {
   "cell_type": "markdown",
   "metadata": {},
   "source": [
    "However, importing the package this way forces you to type more code to run stuff."
   ]
  },
  {
   "cell_type": "code",
   "execution_count": null,
   "metadata": {},
   "outputs": [],
   "source": [
    "ipywidgets.IntSlider()"
   ]
  },
  {
   "cell_type": "markdown",
   "metadata": {},
   "source": [
    "## Lazy Way"
   ]
  },
  {
   "cell_type": "markdown",
   "metadata": {},
   "source": [
    "Importing the package this way makes it so that you type the least amount of code."
   ]
  },
  {
   "cell_type": "code",
   "execution_count": null,
   "metadata": {},
   "outputs": [],
   "source": [
    "from ipywidgets import *"
   ]
  },
  {
   "cell_type": "code",
   "execution_count": null,
   "metadata": {},
   "outputs": [],
   "source": [
    "IntSlider()"
   ]
  },
  {
   "cell_type": "markdown",
   "metadata": {},
   "source": [
    "However, this can get dangerous when you start using multiple packages."
   ]
  },
  {
   "cell_type": "code",
   "execution_count": null,
   "metadata": {},
   "outputs": [],
   "source": [
    "HTML(\"<font color='red'>Howdy</font>\")"
   ]
  },
  {
   "cell_type": "code",
   "execution_count": null,
   "metadata": {},
   "outputs": [],
   "source": [
    "from IPython.core.display import HTML"
   ]
  },
  {
   "cell_type": "code",
   "execution_count": null,
   "metadata": {},
   "outputs": [],
   "source": [
    "HTML(\"<font color='red'>Howdy</font>\")"
   ]
  },
  {
   "cell_type": "markdown",
   "metadata": {},
   "source": [
    "## Best Way"
   ]
  },
  {
   "cell_type": "markdown",
   "metadata": {},
   "source": [
    "Here's a good compromise for safe short code."
   ]
  },
  {
   "cell_type": "code",
   "execution_count": null,
   "metadata": {},
   "outputs": [],
   "source": [
    "import ipywidgets as ipw"
   ]
  },
  {
   "cell_type": "code",
   "execution_count": null,
   "metadata": {},
   "outputs": [],
   "source": [
    "ipw.IntSlider()"
   ]
  },
  {
   "cell_type": "markdown",
   "metadata": {},
   "source": [
    "## Other Useful Packages"
   ]
  },
  {
   "cell_type": "code",
   "execution_count": null,
   "metadata": {},
   "outputs": [],
   "source": [
    "from IPython.core.display import HTML, display, Javascript, clear_output\n",
    "from ipywidgets import interact, interactive, fixed, interact_manual"
   ]
  },
  {
   "cell_type": "markdown",
   "metadata": {},
   "source": [
    "# Different Types of <font color=\"green\">Widgets</font> "
   ]
  },
  {
   "cell_type": "markdown",
   "metadata": {},
   "source": [
    "In this section I show the most common widgets I use. To see all the widgets check out the [List of Widgets](https://ipywidgets.readthedocs.io/en/stable/examples/Widget%20List.html) link."
   ]
  },
  {
   "cell_type": "markdown",
   "metadata": {},
   "source": [
    "## Button"
   ]
  },
  {
   "cell_type": "code",
   "execution_count": null,
   "metadata": {},
   "outputs": [],
   "source": [
    "widgets.Button(\n",
    "    description='Click me',\n",
    "    disabled=False,\n",
    "    button_style='', # 'success', 'info', 'warning', 'danger' or ''\n",
    "    tooltip='Click me',\n",
    "    icon='check'\n",
    ")"
   ]
  },
  {
   "cell_type": "markdown",
   "metadata": {},
   "source": [
    "A Fancier looking button that uses [fontawesome icons](https://fontawesome.com/icons?d=gallery&m=free)"
   ]
  },
  {
   "cell_type": "code",
   "execution_count": null,
   "metadata": {},
   "outputs": [],
   "source": [
    "Button( icon=\"battery-quarter\", button_style=\"danger\", layout=Layout(width='auto'))"
   ]
  },
  {
   "cell_type": "markdown",
   "metadata": {},
   "source": [
    "## Slider"
   ]
  },
  {
   "cell_type": "code",
   "execution_count": null,
   "metadata": {},
   "outputs": [],
   "source": [
    "widgets.FloatSlider(\n",
    "    value=7.5,\n",
    "    min=0,\n",
    "    max=10.0,\n",
    "    step=0.1,\n",
    "    description='Test:',\n",
    "    orientation='horizontal',\n",
    ")"
   ]
  },
  {
   "cell_type": "markdown",
   "metadata": {},
   "source": [
    "## Dropdown"
   ]
  },
  {
   "cell_type": "code",
   "execution_count": null,
   "metadata": {},
   "outputs": [],
   "source": [
    "ipw.Dropdown(\n",
    "    options=['Apple', 'Orange', 'Pineapple'],\n",
    "    description='Fruit:',\n",
    ")"
   ]
  },
  {
   "cell_type": "markdown",
   "metadata": {},
   "source": [
    "## Text"
   ]
  },
  {
   "cell_type": "code",
   "execution_count": null,
   "metadata": {},
   "outputs": [],
   "source": [
    "ipw.Text(\n",
    "    placeholder='Type something',\n",
    "    description='String:',\n",
    ")"
   ]
  },
  {
   "cell_type": "markdown",
   "metadata": {},
   "source": [
    "## Progress Bar"
   ]
  },
  {
   "cell_type": "code",
   "execution_count": null,
   "metadata": {},
   "outputs": [],
   "source": [
    "widgets.IntProgress(\n",
    "    value=5,\n",
    "    min=0,\n",
    "    max=10,\n",
    "    step=1,\n",
    "    description='Loading:',\n",
    "    bar_style='', # 'success', 'info', 'warning', 'danger' or ''\n",
    "    orientation='horizontal'\n",
    ")"
   ]
  },
  {
   "cell_type": "markdown",
   "metadata": {},
   "source": [
    "# <font color=\"green\">widget</font> as <font color=\"blue\">variables</font>"
   ]
  },
  {
   "cell_type": "markdown",
   "metadata": {},
   "source": [
    "## Changing a <font color=\"green\">widget</font> value"
   ]
  },
  {
   "cell_type": "markdown",
   "metadata": {},
   "source": [
    "So how do we actually make the progress bar move?"
   ]
  },
  {
   "cell_type": "markdown",
   "metadata": {},
   "source": [
    "First off we can save the <font color=\"green\">widget</font> as a <font color=\"blue\">python variable</font>"
   ]
  },
  {
   "cell_type": "code",
   "execution_count": null,
   "metadata": {},
   "outputs": [],
   "source": [
    "# good to check variable is free\n",
    "progress"
   ]
  },
  {
   "cell_type": "code",
   "execution_count": null,
   "metadata": {},
   "outputs": [],
   "source": [
    "progress = widgets.IntProgress(\n",
    "    value=5,\n",
    "    min=0,\n",
    "    max=10,\n",
    "    step=1,\n",
    "    description='Loading:',\n",
    "    bar_style='', # 'success', 'info', 'warning', 'danger' or ''\n",
    "    orientation='horizontal'\n",
    ")"
   ]
  },
  {
   "cell_type": "code",
   "execution_count": null,
   "metadata": {},
   "outputs": [],
   "source": [
    "progress"
   ]
  },
  {
   "cell_type": "code",
   "execution_count": null,
   "metadata": {},
   "outputs": [],
   "source": [
    "progress.value"
   ]
  },
  {
   "cell_type": "code",
   "execution_count": null,
   "metadata": {},
   "outputs": [],
   "source": [
    "progress.value = 2"
   ]
  },
  {
   "cell_type": "code",
   "execution_count": null,
   "metadata": {},
   "outputs": [],
   "source": [
    "progress.value += 1"
   ]
  },
  {
   "cell_type": "markdown",
   "metadata": {},
   "source": [
    "##  A <font color=\"green\">widget</font> function"
   ]
  },
  {
   "cell_type": "markdown",
   "metadata": {},
   "source": [
    "In python, <font color=\"blue\">functions</font> are what you use to do stuff, they are what make the code your write run. So if you want a <font color=\"green\">widget</font> you create to do something, you need to give it a <font color=\"blue\">function</font>. In the next video, you will see how this can be used to create a video game!"
   ]
  },
  {
   "cell_type": "markdown",
   "metadata": {},
   "source": [
    "Here we assign a function to a button"
   ]
  },
  {
   "cell_type": "code",
   "execution_count": null,
   "metadata": {},
   "outputs": [],
   "source": [
    "# Check variable doesn't already exist\n",
    "btn"
   ]
  },
  {
   "cell_type": "code",
   "execution_count": null,
   "metadata": {},
   "outputs": [],
   "source": [
    "btn = ipw.Button(description=\"Say Hello\")"
   ]
  },
  {
   "cell_type": "code",
   "execution_count": null,
   "metadata": {},
   "outputs": [],
   "source": [
    "btn"
   ]
  },
  {
   "cell_type": "markdown",
   "metadata": {},
   "source": [
    "Now we will write a function and assign to the button.\n",
    "\n",
    "<font color=\"grey\">the function must take a dummy variable (in this case \"b\")</font>"
   ]
  },
  {
   "cell_type": "code",
   "execution_count": null,
   "metadata": {},
   "outputs": [],
   "source": [
    "def printHello(b):\n",
    "    print(\"hello\")"
   ]
  },
  {
   "cell_type": "code",
   "execution_count": null,
   "metadata": {},
   "outputs": [],
   "source": [
    "btn.on_click( printHello )"
   ]
  },
  {
   "cell_type": "markdown",
   "metadata": {},
   "source": [
    "# <font color=\"hotpink\">Interact</font> <font color=\"blue\">function</font> "
   ]
  },
  {
   "cell_type": "markdown",
   "metadata": {},
   "source": [
    "## Simple Example"
   ]
  },
  {
   "cell_type": "markdown",
   "metadata": {},
   "source": [
    "Adding functions to widgets can get pretty complicated. To make things easier I reccomend you start out by using the <font color=\"hotpink\">Interact</font> function. You can learn more about interact functions [here](https://ipywidgets.readthedocs.io/en/stable/examples/Using%20Interact.html). The simplest way to do this is with the <font color=\"hotpink\">interact decorator</font>"
   ]
  },
  {
   "cell_type": "code",
   "execution_count": null,
   "metadata": {},
   "outputs": [],
   "source": [
    "@interact( text=\"\", times=(0,2) ) \n",
    "def printIt( text, times ):\n",
    "    print( text * times )"
   ]
  },
  {
   "cell_type": "markdown",
   "metadata": {},
   "source": [
    "## <font color=\"hotpink\">Interact Manual</font>"
   ]
  },
  {
   "cell_type": "markdown",
   "metadata": {},
   "source": [
    "For this example we are going make a graph, so we need to import some more packages. If you have not heard of **<font color=\"purple\">numpy</font>** or **<font color=\"purple\">matplotlib</font>** then as an exercise try reading some tutorials on these packages."
   ]
  },
  {
   "cell_type": "code",
   "execution_count": null,
   "metadata": {},
   "outputs": [],
   "source": [
    "%matplotlib inline\n",
    "from ipywidgets import interactive\n",
    "import matplotlib.pyplot as plt\n",
    "import numpy as np"
   ]
  },
  {
   "cell_type": "markdown",
   "metadata": {},
   "source": [
    "Using the `@interact` decorator can sometimes cause problems when you're using complicated functions. "
   ]
  },
  {
   "cell_type": "code",
   "execution_count": null,
   "metadata": {},
   "outputs": [],
   "source": [
    "@interact( m=(-2.0, 2.0), b=(-3, 3, 0.5) ) \n",
    "def f(m, b):\n",
    "    plt.figure(2)\n",
    "    x = np.linspace(-10, 10, num=1000)\n",
    "    plt.plot(x, m * x + b)\n",
    "    plt.ylim(-5, 5)\n",
    "    plt.show()"
   ]
  },
  {
   "cell_type": "markdown",
   "metadata": {},
   "source": [
    "To get around this you should use `@interact_manual` "
   ]
  },
  {
   "cell_type": "code",
   "execution_count": null,
   "metadata": {},
   "outputs": [],
   "source": [
    "@interact_manual( m=(-2.0, 2.0), b=(-3, 3, 0.5) ) \n",
    "def f(m, b):\n",
    "    plt.figure(2)\n",
    "    x = np.linspace(-10, 10, num=1000)\n",
    "    plt.plot(x, m * x + b)\n",
    "    plt.ylim(-5, 5)\n",
    "    plt.show()"
   ]
  },
  {
   "cell_type": "markdown",
   "metadata": {},
   "source": [
    "# <font color=\"green\">Widget</font> <font color=\"orchid\">Layout Box</font>"
   ]
  },
  {
   "cell_type": "markdown",
   "metadata": {},
   "source": [
    "In order to make your application look professional it's important to have your widgets layed out in a well organized way. [Here](https://ipywidgets.readthedocs.io/en/stable/examples/Widget%20Styling.html) you can find a detailed description about widget layouts. You should also check out the widgets I used in the io_online and cytoscape applications."
   ]
  },
  {
   "cell_type": "markdown",
   "metadata": {},
   "source": [
    "## Example"
   ]
  },
  {
   "cell_type": "markdown",
   "metadata": {},
   "source": [
    "Here an example of an un <font color=\"red\">bad layout</font>"
   ]
  },
  {
   "cell_type": "code",
   "execution_count": null,
   "metadata": {},
   "outputs": [],
   "source": [
    "username = Text(description=\"Username\")\n",
    "password = Password(description=\"Password\")\n",
    "login_btn = Button(description=\"Login\", button_style='Success')\n",
    "login_valid = Valid() #layout = ipw.Layout(visibility = \"hidden\") )\n",
    "\n",
    "HBox([username, password, login_btn, login_valid ])"
   ]
  },
  {
   "cell_type": "markdown",
   "metadata": {},
   "source": [
    "Here's a better <font color=\"green\">good layout</font>"
   ]
  },
  {
   "cell_type": "code",
   "execution_count": null,
   "metadata": {
    "cell_style": "split",
    "scrolled": false
   },
   "outputs": [],
   "source": [
    "login_text= ipw.HTML(\"<h3 class='text-center'><font color='green'>Login</font> to <a stc='https://github.com/'>Github</a><h3>\") \n",
    "login_btn.layout.width= 'auto'\n",
    "login_row = HBox([ login_btn, login_valid ]  )\n",
    "login_valid.layout.visibility = \"hidden\" \n",
    "login_row.layout = Layout(justify_content=\"center\", margin=\"0 0 0 100px\")\n",
    "\n",
    "login = VBox([ login_text, username, password, login_row ])\n",
    "login\n"
   ]
  },
  {
   "cell_type": "markdown",
   "metadata": {},
   "source": [
    "## HBox and VBox"
   ]
  },
  {
   "cell_type": "markdown",
   "metadata": {},
   "source": [
    "First it's good to give to give the user a descript of what they see. We do this using <font color=\"darkkhaki\">HTML</font>. I you don't know html, W3 schools has a some [great tutorials](https://www.w3schools.com/html/)"
   ]
  },
  {
   "cell_type": "code",
   "execution_count": null,
   "metadata": {},
   "outputs": [],
   "source": [
    "login_text= ipw.HTML(\"<h3 class='text-center'><font color='green'>Login</font> to <a stc='https://github.com/'>Github</a><h3>\") \n",
    "login_text"
   ]
  },
  {
   "cell_type": "markdown",
   "metadata": {},
   "source": [
    "Next we decide if we want any <font color=\"green\">widgets</font> on the same row. For instance in the case the **invalid checkbox** is related ot the **login button** so they should go on the same row. This is done using the <font color=\"green\">HBox Widget</font> "
   ]
  },
  {
   "cell_type": "code",
   "execution_count": null,
   "metadata": {},
   "outputs": [],
   "source": [
    "login_row = HBox([ login_btn, login_valid ]  )\n",
    "login_row"
   ]
  },
  {
   "cell_type": "markdown",
   "metadata": {},
   "source": [
    "We can then arrange all our row vertically using the <font color=\"green\">VBox Widget</font>. The view can further be changed by **splitting the cell** by using `shift-s` in command mode."
   ]
  },
  {
   "cell_type": "code",
   "execution_count": null,
   "metadata": {
    "cell_style": "split",
    "scrolled": false
   },
   "outputs": [],
   "source": [
    "login = VBox([ login_text, username, password, login_row ])\n",
    "login"
   ]
  },
  {
   "cell_type": "markdown",
   "metadata": {},
   "source": [
    "## Changing Individual widgets layout"
   ]
  },
  {
   "cell_type": "markdown",
   "metadata": {},
   "source": [
    "The <font color=\"green\">login button widget</font> looks a too big. Lets make it's width smaller."
   ]
  },
  {
   "cell_type": "code",
   "execution_count": null,
   "metadata": {},
   "outputs": [],
   "source": [
    "login_btn.layout.width= 'auto'"
   ]
  },
  {
   "cell_type": "markdown",
   "metadata": {},
   "source": [
    "Lets bring the <font color=\"green\">login button widget</font> to the center so that it looks prettier."
   ]
  },
  {
   "cell_type": "code",
   "execution_count": null,
   "metadata": {},
   "outputs": [],
   "source": [
    "login_row.layout.justify_content = \"center\""
   ]
  },
  {
   "cell_type": "markdown",
   "metadata": {},
   "source": [
    "This looks better but the <font color=\"green\">login button widget</font> is not quite centered. We can move the button to the right using the <font color=\"blue\">margin</font> command"
   ]
  },
  {
   "cell_type": "code",
   "execution_count": null,
   "metadata": {},
   "outputs": [],
   "source": [
    "login_row.layout.margin = \"0 0 0 100px\""
   ]
  },
  {
   "cell_type": "markdown",
   "metadata": {},
   "source": [
    "Lets hide the <font color=\"green\">invalid checkbox widget</font>. We will then write a funciton that shows the widgets when the user clicks the <font color=\"green\">login button widget</font>."
   ]
  },
  {
   "cell_type": "code",
   "execution_count": null,
   "metadata": {},
   "outputs": [],
   "source": [
    "login_valid.layout.visibility = \"hidden\" "
   ]
  },
  {
   "cell_type": "markdown",
   "metadata": {},
   "source": [
    "## Add <font color=\"blue\">Function</font> to <font color=\"green\">login button</font>"
   ]
  },
  {
   "cell_type": "markdown",
   "metadata": {},
   "source": [
    "Let's add a <font color=\"blue\">function</font> to the <font color=\"green\">login button widget</font>. So that when the user clicks it they are told their login is invalid."
   ]
  },
  {
   "cell_type": "code",
   "execution_count": null,
   "metadata": {},
   "outputs": [],
   "source": [
    "def showInvalid(b):\n",
    "    login_valid.layout.visibility = \"visible\" "
   ]
  },
  {
   "cell_type": "code",
   "execution_count": null,
   "metadata": {},
   "outputs": [],
   "source": [
    "login_btn.on_click( showInvalid )"
   ]
  },
  {
   "cell_type": "markdown",
   "metadata": {},
   "source": [
    "# Exercises"
   ]
  },
  {
   "cell_type": "markdown",
   "metadata": {},
   "source": [
    "Just watching this tutorial is not how you learn. Make sure you try running all of the lines of code that I ran. The best way to learn how to code is practice! Even if you don't solve the problem, just trying will teach you a lot. Also, when you have questions, try googling them!"
   ]
  },
  {
   "cell_type": "markdown",
   "metadata": {},
   "source": [
    "## Exercise 1"
   ]
  },
  {
   "cell_type": "markdown",
   "metadata": {},
   "source": [
    "See if you can write one line of code that make the  <font color=\"green\">invalid checkbox widget</font> visible again. \n",
    "* <small>Hint: Check out [this link](https://www.w3schools.com/cssref/pr_class_visibility.asp) on W3 Schools</small>"
   ]
  },
  {
   "cell_type": "code",
   "execution_count": null,
   "metadata": {},
   "outputs": [],
   "source": [
    "# Write code here"
   ]
  },
  {
   "cell_type": "markdown",
   "metadata": {},
   "source": [
    "## Exercise 2 <font color=\"red\">hard</font>"
   ]
  },
  {
   "cell_type": "markdown",
   "metadata": {},
   "source": [
    "Write a function called <font color=\"blue\">toggleInvalid</font> that shows/hides the <font color=\"green\">invalid checkbox widget</font> each time it's clicked.\n",
    "* <small>Hint: Check out this [socratica video](https://www.youtube.com/watch?v=f4KOjWS_KZs) on if statements</small>"
   ]
  },
  {
   "cell_type": "code",
   "execution_count": null,
   "metadata": {},
   "outputs": [],
   "source": [
    "def toggleInvalid(b):\n",
    "    # Write code here\n",
    "    \n",
    "login_btn.on_click( toggleInvalid )"
   ]
  },
  {
   "cell_type": "markdown",
   "metadata": {},
   "source": [
    "## Exercise 3"
   ]
  },
  {
   "cell_type": "markdown",
   "metadata": {},
   "source": [
    "Download this tutorial's notebook from <font color=\"orange\">io_online</font>. Look through the **markdown cells** and try making a few cells of your own."
   ]
  },
  {
   "cell_type": "markdown",
   "metadata": {},
   "source": [
    "## Exercise 4"
   ]
  },
  {
   "cell_type": "markdown",
   "metadata": {},
   "source": [
    "Try reading throught the source code for my <font color=\"orange\">io_online</font> and <font color=\"orange\">cytoscape</font> applicaitons. Focuse on how <font color=\"green\">widgets</font> and <font color=\"orchid\">widget boxes</font> are made.\n",
    "* <small>Hint: You don't need to understand everything!</small>"
   ]
  },
  {
   "cell_type": "markdown",
   "metadata": {},
   "source": [
    "## Exercise 5 <font color=\"red\">hard</font>"
   ]
  },
  {
   "cell_type": "markdown",
   "metadata": {},
   "source": [
    "Change the <font color=\"blue\">printHello</font> function from section **3.2** so that it only print the words *\"Hello\"* once.\n",
    "* Hint: For this problem look at the <font color=\"blue\">clear_output</font> and <font color=\"blue\">display</font> functions inside the <font color=\"orange\">io_online</font> source code."
   ]
  }
 ],
 "metadata": {
  "hide_input": false,
  "kernelspec": {
   "display_name": "Python 3",
   "language": "python",
   "name": "python3"
  },
  "language_info": {
   "codemirror_mode": {
    "name": "ipython",
    "version": 3
   },
   "file_extension": ".py",
   "mimetype": "text/x-python",
   "name": "python",
   "nbconvert_exporter": "python",
   "pygments_lexer": "ipython3",
   "version": "3.8.6"
  },
  "toc": {
   "base_numbering": 1,
   "nav_menu": {},
   "number_sections": true,
   "sideBar": true,
   "skip_h1_title": false,
   "title_cell": "Table of Contents",
   "title_sidebar": "Contents",
   "toc_cell": false,
   "toc_position": {},
   "toc_section_display": true,
   "toc_window_display": false
  },
  "varInspector": {
   "cols": {
    "lenName": 16,
    "lenType": 16,
    "lenVar": 40
   },
   "kernels_config": {
    "python": {
     "delete_cmd_postfix": "",
     "delete_cmd_prefix": "del ",
     "library": "var_list.py",
     "varRefreshCmd": "print(var_dic_list())"
    },
    "r": {
     "delete_cmd_postfix": ") ",
     "delete_cmd_prefix": "rm(",
     "library": "var_list.r",
     "varRefreshCmd": "cat(var_dic_list()) "
    }
   },
   "types_to_exclude": [
    "module",
    "function",
    "builtin_function_or_method",
    "instance",
    "_Feature"
   ],
   "window_display": false
  },
  "widgets": {
   "application/vnd.jupyter.widget-state+json": {
    "state": {
     "000c10f6f3dc4ed899c8dc580ad3935d": {
      "model_module": "@jupyter-widgets/controls",
      "model_module_version": "1.5.0",
      "model_name": "DescriptionStyleModel",
      "state": {
       "description_width": ""
      }
     },
     "002dc063bbb645f988000195f3ddcc4e": {
      "model_module": "@jupyter-widgets/controls",
      "model_module_version": "1.5.0",
      "model_name": "ButtonModel",
      "state": {
       "description": "Run Interact",
       "layout": "IPY_MODEL_534fe2ee6f9b4a8d8b79882940c9f1bd",
       "style": "IPY_MODEL_c2252e96241a4c5b91059899cb241068"
      }
     },
     "002e6dec9aba469ebf8dd1fd72b2c23b": {
      "model_module": "@jupyter-widgets/controls",
      "model_module_version": "1.5.0",
      "model_name": "ButtonModel",
      "state": {
       "description": "Click me",
       "icon": "check",
       "layout": "IPY_MODEL_6f93edd7866548449d5a3499a7140f66",
       "style": "IPY_MODEL_39e4966be7444df9983679cce65669de",
       "tooltip": "Click me"
      }
     },
     "015dda41c6ae467aaa12b6a31542e6a5": {
      "model_module": "@jupyter-widgets/controls",
      "model_module_version": "1.5.0",
      "model_name": "TextModel",
      "state": {
       "description": "Username",
       "layout": "IPY_MODEL_fd91670abf794ae7b4311def5966d2ea",
       "style": "IPY_MODEL_44c7ba2063584976a6f1d249520f2b93"
      }
     },
     "017661965c3f4649aa5a48002265f79d": {
      "model_module": "@jupyter-widgets/controls",
      "model_module_version": "1.5.0",
      "model_name": "SliderStyleModel",
      "state": {
       "description_width": ""
      }
     },
     "01772b807db7476d86b8a6d16b7c2c6f": {
      "model_module": "@jupyter-widgets/output",
      "model_module_version": "1.0.0",
      "model_name": "OutputModel",
      "state": {
       "layout": "IPY_MODEL_4e9ffd295cb6432289ed19cbbd364e2b",
       "outputs": [
        {
         "name": "stdout",
         "output_type": "stream",
         "text": "\n"
        }
       ]
      }
     },
     "018c33c64ed24f139b9c4f4c9d71e4d3": {
      "model_module": "@jupyter-widgets/controls",
      "model_module_version": "1.5.0",
      "model_name": "ValidModel",
      "state": {
       "layout": "IPY_MODEL_332a2e95a8964f9fb4b026e170808b2f",
       "style": "IPY_MODEL_426fc662b3fa418490b51dfef27912f3"
      }
     },
     "01ee58b07abf4c5b8923113310dda4e2": {
      "model_module": "@jupyter-widgets/base",
      "model_module_version": "1.2.0",
      "model_name": "LayoutModel",
      "state": {}
     },
     "021273dec5dc44f3869d0a6b99e903c4": {
      "model_module": "@jupyter-widgets/controls",
      "model_module_version": "1.5.0",
      "model_name": "VBoxModel",
      "state": {
       "_dom_classes": [
        "widget-interact"
       ],
       "children": [
        "IPY_MODEL_2e3f88c572be46159c71197abf26e2ba",
        "IPY_MODEL_14d8d35cc0344dfbbe527b31397302a9",
        "IPY_MODEL_2b7612b954b4448d81910e27d68f4b23"
       ],
       "layout": "IPY_MODEL_9e7ec2ae290e4fb1a4f7ca96ac613b5b"
      }
     },
     "0221c6240a4344a0a3cda1855e0f648b": {
      "model_module": "@jupyter-widgets/controls",
      "model_module_version": "1.5.0",
      "model_name": "ButtonModel",
      "state": {
       "description": "Say Hello",
       "layout": "IPY_MODEL_232b5f9035144941a0ad739385e1916f",
       "style": "IPY_MODEL_eb2a7b5298da4459aff277b38b9085de"
      }
     },
     "04149eb2f6cd4af4af96a90c0b1c0f84": {
      "model_module": "@jupyter-widgets/controls",
      "model_module_version": "1.5.0",
      "model_name": "ValidModel",
      "state": {
       "layout": "IPY_MODEL_f3741824c2954115bfdab22a17fdebbd",
       "style": "IPY_MODEL_3f57b11bb9f34948bf0192f36d6d58b9"
      }
     },
     "049e75e6d943417da00f3425fc16abda": {
      "model_module": "@jupyter-widgets/controls",
      "model_module_version": "1.5.0",
      "model_name": "DescriptionStyleModel",
      "state": {
       "description_width": ""
      }
     },
     "04ca5db4b3f34bf4a56b2b09b72b6f73": {
      "model_module": "@jupyter-widgets/base",
      "model_module_version": "1.2.0",
      "model_name": "LayoutModel",
      "state": {}
     },
     "04f97c91960440bab74c91ae3743ea68": {
      "model_module": "@jupyter-widgets/base",
      "model_module_version": "1.2.0",
      "model_name": "LayoutModel",
      "state": {}
     },
     "052ce0dab4e04fa5a9bc5c2706e06c0d": {
      "model_module": "@jupyter-widgets/base",
      "model_module_version": "1.2.0",
      "model_name": "LayoutModel",
      "state": {}
     },
     "057be5f82c464829a36394007d22ac03": {
      "model_module": "@jupyter-widgets/controls",
      "model_module_version": "1.5.0",
      "model_name": "DescriptionStyleModel",
      "state": {
       "description_width": ""
      }
     },
     "05b5c4e92b3c4622a380b8e40524cf41": {
      "model_module": "@jupyter-widgets/controls",
      "model_module_version": "1.5.0",
      "model_name": "DescriptionStyleModel",
      "state": {
       "description_width": ""
      }
     },
     "05fe1aba16e3430aa1e985e9a85d1d7b": {
      "model_module": "@jupyter-widgets/controls",
      "model_module_version": "1.5.0",
      "model_name": "DescriptionStyleModel",
      "state": {
       "description_width": ""
      }
     },
     "05fe37d076ea44d8b104fcf0b9f322d8": {
      "model_module": "@jupyter-widgets/base",
      "model_module_version": "1.2.0",
      "model_name": "LayoutModel",
      "state": {}
     },
     "06c164dff41b4ac6bc6ffdbeb87e5fd1": {
      "model_module": "@jupyter-widgets/base",
      "model_module_version": "1.2.0",
      "model_name": "LayoutModel",
      "state": {}
     },
     "070e4a7f41e549d698b0f0789b0460b9": {
      "model_module": "@jupyter-widgets/controls",
      "model_module_version": "1.5.0",
      "model_name": "ButtonStyleModel",
      "state": {}
     },
     "07fa4e3a274b458c8c43e53a6fbbf970": {
      "model_module": "@jupyter-widgets/controls",
      "model_module_version": "1.5.0",
      "model_name": "HTMLModel",
      "state": {
       "layout": "IPY_MODEL_e2e55a558b394f28a1edef2ab8d1af04",
       "style": "IPY_MODEL_1af87e97bb9a4951b990bbfe04988023",
       "value": "<h3 class='text-center'><font color='green'>Login</font> to <a stc='https://github.com/'>Github</a><h3>"
      }
     },
     "07ff832acf7e468ea6ce9e5dc1be1924": {
      "model_module": "@jupyter-widgets/controls",
      "model_module_version": "1.5.0",
      "model_name": "HBoxModel",
      "state": {
       "children": [
        "IPY_MODEL_3c142c6de7894681849ec33fbd9680e3",
        "IPY_MODEL_8935b4c58dea4419971b3afc32ed5ae7",
        "IPY_MODEL_f893b9e1d09a4ec3868ab31a03987ee3",
        "IPY_MODEL_04149eb2f6cd4af4af96a90c0b1c0f84"
       ],
       "layout": "IPY_MODEL_ed2faf18a2594bf0a8235298b058ece4"
      }
     },
     "0805b473f0534b9aa21fe6decd2a6117": {
      "model_module": "@jupyter-widgets/controls",
      "model_module_version": "1.5.0",
      "model_name": "HTMLModel",
      "state": {
       "layout": "IPY_MODEL_451ceab1f66b4732bb0237c5207b940f",
       "style": "IPY_MODEL_d77cc1c8cd30484c8685a8ad738c1dbe",
       "value": "<h3 class='text-center'><font color='green'>Login</font> to <a stc='https://github.com/'>Github</a><h3>"
      }
     },
     "08534fb581764bcba5a8a2d5ded18c0b": {
      "model_module": "@jupyter-widgets/base",
      "model_module_version": "1.2.0",
      "model_name": "LayoutModel",
      "state": {}
     },
     "08646ecced784ddda0cdc2f8a8610505": {
      "model_module": "@jupyter-widgets/base",
      "model_module_version": "1.2.0",
      "model_name": "LayoutModel",
      "state": {}
     },
     "0995975868df46538ca8dd1f89b4703d": {
      "model_module": "@jupyter-widgets/controls",
      "model_module_version": "1.5.0",
      "model_name": "ButtonModel",
      "state": {
       "button_style": "danger",
       "icon": "ad",
       "layout": "IPY_MODEL_a683fcacc0e945269d9a34649cb60766",
       "style": "IPY_MODEL_36606668e2fb41dc9e001bfd930cb682"
      }
     },
     "099b79a905384a0ea8d49b57bdedc4c8": {
      "model_module": "@jupyter-widgets/controls",
      "model_module_version": "1.5.0",
      "model_name": "HTMLModel",
      "state": {
       "layout": "IPY_MODEL_2e8c0a5e0bf142ed8418680e18bc96ad",
       "style": "IPY_MODEL_4fe127983eb54f379fad3b820fc98258",
       "value": "<h3 class='text-center'><font color='green'>Login</font> to <a stc='https://github.com/'>Github</a><h3>"
      }
     },
     "09a1356191c34a18bf3e9be70c0be9c9": {
      "model_module": "@jupyter-widgets/controls",
      "model_module_version": "1.5.0",
      "model_name": "IntSliderModel",
      "state": {
       "description": "times",
       "layout": "IPY_MODEL_2e153cbe411f4641af968643d013b2bc",
       "max": 3,
       "min": -1,
       "style": "IPY_MODEL_c72dabe2884b46e6a6e2bb8222a6306b",
       "value": 3
      }
     },
     "0a05d7db605149d3bf800168a2ab5a1a": {
      "model_module": "@jupyter-widgets/base",
      "model_module_version": "1.2.0",
      "model_name": "LayoutModel",
      "state": {}
     },
     "0aa572a29ade45d09a7e0d03b3276a03": {
      "model_module": "@jupyter-widgets/base",
      "model_module_version": "1.2.0",
      "model_name": "LayoutModel",
      "state": {}
     },
     "0aef3b52610248039073f1b85778369a": {
      "model_module": "@jupyter-widgets/base",
      "model_module_version": "1.2.0",
      "model_name": "LayoutModel",
      "state": {}
     },
     "0afa0eeb09f1492f80cb27e0b867f744": {
      "model_module": "@jupyter-widgets/controls",
      "model_module_version": "1.5.0",
      "model_name": "HBoxModel",
      "state": {
       "children": [
        "IPY_MODEL_015dda41c6ae467aaa12b6a31542e6a5",
        "IPY_MODEL_7ae3c3305f454c58820a4105261ea68a",
        "IPY_MODEL_51d4015a98c9498c973b27948e4bd68c",
        "IPY_MODEL_537fbbd3c7ed4d69be971eed0fd6751b"
       ],
       "layout": "IPY_MODEL_469791482bd04cc9bfb070b3a20fcbe5"
      }
     },
     "0b380383255a49878ff6e5c3a3dc08ff": {
      "model_module": "@jupyter-widgets/controls",
      "model_module_version": "1.5.0",
      "model_name": "DescriptionStyleModel",
      "state": {
       "description_width": ""
      }
     },
     "0b50b53c30504dd09ae79ff829b9ed9a": {
      "model_module": "@jupyter-widgets/controls",
      "model_module_version": "1.5.0",
      "model_name": "VBoxModel",
      "state": {
       "_dom_classes": [
        "widget-interact"
       ],
       "children": [
        "IPY_MODEL_fdefefd9d10542ed991ae3ed46a8085b",
        "IPY_MODEL_09a1356191c34a18bf3e9be70c0be9c9",
        "IPY_MODEL_596ee6dc5354485ca2471cdb9cd725b9"
       ],
       "layout": "IPY_MODEL_33553dd3586e42cca6dd66e737d8e9c8"
      }
     },
     "0b615ed1c4d047a4bdc70937af2898d5": {
      "model_module": "@jupyter-widgets/base",
      "model_module_version": "1.2.0",
      "model_name": "LayoutModel",
      "state": {
       "width": "auto"
      }
     },
     "0b8ef5b554ed4def9749e4e94ca9dc4a": {
      "model_module": "@jupyter-widgets/controls",
      "model_module_version": "1.5.0",
      "model_name": "HTMLModel",
      "state": {
       "layout": "IPY_MODEL_fdd738da8ebe4024b0c1750f51aef95d",
       "style": "IPY_MODEL_a14d7ae5862b471caa03c152826e27ca",
       "value": "<h3 class='text-center'><font color='green'>Login</font> to <a stc='https://github.com/'>Github</a><h3>"
      }
     },
     "0becbbea4c5d4399b1553c74110fee9e": {
      "model_module": "@jupyter-widgets/controls",
      "model_module_version": "1.5.0",
      "model_name": "ButtonStyleModel",
      "state": {}
     },
     "0c21252d7b5e40988b799b0b851f3dbb": {
      "model_module": "@jupyter-widgets/controls",
      "model_module_version": "1.5.0",
      "model_name": "ButtonModel",
      "state": {
       "button_style": "danger",
       "icon": "smile",
       "layout": "IPY_MODEL_0b615ed1c4d047a4bdc70937af2898d5",
       "style": "IPY_MODEL_36d65739b7e240c6b3f19318ec8bf040"
      }
     },
     "0c98336422d94b84ae41bc773819087f": {
      "model_module": "@jupyter-widgets/controls",
      "model_module_version": "1.5.0",
      "model_name": "DescriptionStyleModel",
      "state": {
       "description_width": ""
      }
     },
     "0d10094ebc404569836f7fb43043cefd": {
      "model_module": "@jupyter-widgets/controls",
      "model_module_version": "1.5.0",
      "model_name": "TextModel",
      "state": {
       "description": "Username",
       "layout": "IPY_MODEL_128ac1b9b8024c35830bd573694d77b3",
       "style": "IPY_MODEL_b61eadd5b78c46a09979cd4d399e7fa4"
      }
     },
     "0d7adc9731e74f8687e80c429bca1a53": {
      "model_module": "@jupyter-widgets/base",
      "model_module_version": "1.2.0",
      "model_name": "LayoutModel",
      "state": {}
     },
     "0ddaf75c5fbd41a28f5032020e502e75": {
      "model_module": "@jupyter-widgets/output",
      "model_module_version": "1.0.0",
      "model_name": "OutputModel",
      "state": {
       "layout": "IPY_MODEL_2072060ba9a94f8e83946e66ad4e854f",
       "outputs": [
        {
         "name": "stdout",
         "output_type": "stream",
         "text": "adadadadad\n"
        }
       ]
      }
     },
     "0e17b97dbd51410c912f0b83d19ec9d0": {
      "model_module": "@jupyter-widgets/controls",
      "model_module_version": "1.5.0",
      "model_name": "ButtonStyleModel",
      "state": {}
     },
     "0f1b7bc1c01b40b799fbf69f3656dc16": {
      "model_module": "@jupyter-widgets/base",
      "model_module_version": "1.2.0",
      "model_name": "LayoutModel",
      "state": {
       "width": "auto"
      }
     },
     "0fb961b324e240b3b911baf3a7143641": {
      "model_module": "@jupyter-widgets/base",
      "model_module_version": "1.2.0",
      "model_name": "LayoutModel",
      "state": {
       "justify_content": "center",
       "margin": "0 0 0 100px"
      }
     },
     "105156828f444678988d726793e336f4": {
      "model_module": "@jupyter-widgets/controls",
      "model_module_version": "1.5.0",
      "model_name": "ButtonStyleModel",
      "state": {}
     },
     "1087b31cf3254ee29cc0871b0599ac5f": {
      "model_module": "@jupyter-widgets/controls",
      "model_module_version": "1.5.0",
      "model_name": "VBoxModel",
      "state": {
       "_dom_classes": [
        "widget-interact"
       ],
       "children": [
        "IPY_MODEL_c7dba0eda60c461e87ab2dfd242ea892",
        "IPY_MODEL_16b50b3e54a04099841cce64892ccc7b",
        "IPY_MODEL_e2bbd5d0c63b452bbdf87cd13a3a35b5"
       ],
       "layout": "IPY_MODEL_5fb894033973407d9ba7b9f88821bece"
      }
     },
     "113577f388d34d159c0faf6e8273f532": {
      "model_module": "@jupyter-widgets/controls",
      "model_module_version": "1.5.0",
      "model_name": "VBoxModel",
      "state": {
       "children": [
        "IPY_MODEL_f884584f20f34b4eb00db011d350dddf",
        "IPY_MODEL_ddee0faaba7f42b2b2c23443c4e06c37",
        "IPY_MODEL_8ae5707d5f9148e9a381c67958ecbcb9",
        "IPY_MODEL_e53d047f061141569a1f872a2085256c"
       ],
       "layout": "IPY_MODEL_cba135adf23b4aaa80bb285440b37d94"
      }
     },
     "113aadf129154eefad1dc6a79ed619a7": {
      "model_module": "@jupyter-widgets/base",
      "model_module_version": "1.2.0",
      "model_name": "LayoutModel",
      "state": {}
     },
     "1162eb44543e4651afed2e37effd2bd0": {
      "model_module": "@jupyter-widgets/controls",
      "model_module_version": "1.5.0",
      "model_name": "DescriptionStyleModel",
      "state": {
       "description_width": ""
      }
     },
     "1234041d1e1c4b0784fc8b46d09e7a8f": {
      "model_module": "@jupyter-widgets/controls",
      "model_module_version": "1.5.0",
      "model_name": "IntSliderModel",
      "state": {
       "description": "times",
       "layout": "IPY_MODEL_3e50fa42b8ef4902a234b462c9ee531d",
       "max": 2,
       "style": "IPY_MODEL_180898c8423a48a4a75c0041a64c003b",
       "value": 2
      }
     },
     "123d21c960fc49fe9b7c8f0445028dcf": {
      "model_module": "@jupyter-widgets/controls",
      "model_module_version": "1.5.0",
      "model_name": "TextModel",
      "state": {
       "description": "Username",
       "layout": "IPY_MODEL_61ff15392f224127af427e308a4f8e0a",
       "style": "IPY_MODEL_4c75502c8b6e4aaa9e3951b10a4f41df"
      }
     },
     "125845ebe3ca488fa50de8db3fda5377": {
      "model_module": "@jupyter-widgets/base",
      "model_module_version": "1.2.0",
      "model_name": "LayoutModel",
      "state": {}
     },
     "125bb72776534731bdc1d86f972441a1": {
      "model_module": "@jupyter-widgets/controls",
      "model_module_version": "1.5.0",
      "model_name": "ButtonModel",
      "state": {
       "button_style": "danger",
       "icon": "times",
       "layout": "IPY_MODEL_932db8fc7f624cfcb8e80c4c83498867",
       "style": "IPY_MODEL_ce691d4bd7474167a7b385256760942d"
      }
     },
     "128ac1b9b8024c35830bd573694d77b3": {
      "model_module": "@jupyter-widgets/base",
      "model_module_version": "1.2.0",
      "model_name": "LayoutModel",
      "state": {}
     },
     "130316de852a4408802e8b6c31566469": {
      "model_module": "@jupyter-widgets/controls",
      "model_module_version": "1.5.0",
      "model_name": "FloatSliderModel",
      "state": {
       "description": "b",
       "layout": "IPY_MODEL_7392c562668547879100d9788f9ddfc0",
       "max": 3,
       "min": -3,
       "step": 0.5,
       "style": "IPY_MODEL_631bb944e738435088a6c8808e62fc3b"
      }
     },
     "130df822aefd4a24a847603928e23447": {
      "model_module": "@jupyter-widgets/base",
      "model_module_version": "1.2.0",
      "model_name": "LayoutModel",
      "state": {}
     },
     "136dac1969794acf973e0ddf5d68b275": {
      "model_module": "@jupyter-widgets/controls",
      "model_module_version": "1.5.0",
      "model_name": "SliderStyleModel",
      "state": {
       "description_width": ""
      }
     },
     "13774d71a37348bb9ed874a25caeef9f": {
      "model_module": "@jupyter-widgets/base",
      "model_module_version": "1.2.0",
      "model_name": "LayoutModel",
      "state": {}
     },
     "13c030a53c2a41b4a8acd6989699caad": {
      "model_module": "@jupyter-widgets/base",
      "model_module_version": "1.2.0",
      "model_name": "LayoutModel",
      "state": {}
     },
     "13c0ac1b3d974359b80913b175d53a55": {
      "model_module": "@jupyter-widgets/controls",
      "model_module_version": "1.5.0",
      "model_name": "SliderStyleModel",
      "state": {
       "description_width": ""
      }
     },
     "14197d211cc8421e8e0a2e1d112aefbf": {
      "model_module": "@jupyter-widgets/controls",
      "model_module_version": "1.5.0",
      "model_name": "FloatSliderModel",
      "state": {
       "description": "b",
       "layout": "IPY_MODEL_70c0599b8f6a4158a1ff5eb22b4595c5",
       "max": 3,
       "min": -3,
       "step": 0.5,
       "style": "IPY_MODEL_55e0c90baea34f21a633e9c4b67e9459",
       "value": -0.5
      }
     },
     "14d8d35cc0344dfbbe527b31397302a9": {
      "model_module": "@jupyter-widgets/controls",
      "model_module_version": "1.5.0",
      "model_name": "IntSliderModel",
      "state": {
       "description": "times",
       "layout": "IPY_MODEL_79db3d019477455d9ab8a943ece55fc4",
       "max": 12,
       "min": -4,
       "style": "IPY_MODEL_1be299985b4a46498d0cd9f86591d250",
       "value": 1
      }
     },
     "15354b8f453945b78f1d577cbeec985f": {
      "model_module": "@jupyter-widgets/controls",
      "model_module_version": "1.5.0",
      "model_name": "FloatSliderModel",
      "state": {
       "description": "m",
       "layout": "IPY_MODEL_5e4450b6d4b2454d81661bcc91d9b6e2",
       "max": 2,
       "min": -2,
       "step": 0.1,
       "style": "IPY_MODEL_33169130726c482d8c666c5c34a5bee3"
      }
     },
     "15786790f06147e1a9310e4dd58d6982": {
      "model_module": "@jupyter-widgets/controls",
      "model_module_version": "1.5.0",
      "model_name": "VBoxModel",
      "state": {
       "_dom_classes": [
        "widget-interact"
       ],
       "children": [
        "IPY_MODEL_ec6ad8aca61142dd919e544071528f06",
        "IPY_MODEL_8c288045d4ee45ca89a755af21e44256",
        "IPY_MODEL_5412f3d67c0a44419f360c4049d9af32"
       ],
       "layout": "IPY_MODEL_2d1b4931cd674a7ca0145946699ce6f4"
      }
     },
     "1613143c34434fffb2269304d158e01e": {
      "model_module": "@jupyter-widgets/base",
      "model_module_version": "1.2.0",
      "model_name": "LayoutModel",
      "state": {}
     },
     "1638205f8b0440d986885018a29188de": {
      "model_module": "@jupyter-widgets/controls",
      "model_module_version": "1.5.0",
      "model_name": "ButtonModel",
      "state": {
       "button_style": "success",
       "description": "Login",
       "layout": "IPY_MODEL_35343da11435491a9398a263d6e6c93e",
       "style": "IPY_MODEL_0e17b97dbd51410c912f0b83d19ec9d0"
      }
     },
     "16af3e0c90f541c4b60b20ecddf0bd51": {
      "model_module": "@jupyter-widgets/controls",
      "model_module_version": "1.5.0",
      "model_name": "DescriptionStyleModel",
      "state": {
       "description_width": ""
      }
     },
     "16b50b3e54a04099841cce64892ccc7b": {
      "model_module": "@jupyter-widgets/controls",
      "model_module_version": "1.5.0",
      "model_name": "IntSliderModel",
      "state": {
       "description": "times",
       "layout": "IPY_MODEL_65b5cf961a7d4121909abe134f7b8569",
       "max": 3,
       "min": -1,
       "style": "IPY_MODEL_bbeb2a18ab32400c9cb956775b6e0ca9",
       "value": -1
      }
     },
     "16bbd8ed214a45fabc9ec39bf48fe0ce": {
      "model_module": "@jupyter-widgets/controls",
      "model_module_version": "1.5.0",
      "model_name": "TextModel",
      "state": {
       "description": "text",
       "layout": "IPY_MODEL_e0d409d6db464d12bf0410e50e8e0dfb",
       "style": "IPY_MODEL_602f18420c084caeb169474560e0637b",
       "value": "asd "
      }
     },
     "16d8f2a37a4e4c6ebd5b998d29d95a23": {
      "model_module": "@jupyter-widgets/controls",
      "model_module_version": "1.5.0",
      "model_name": "HBoxModel",
      "state": {
       "children": [
        "IPY_MODEL_c0d21f3989954c52b7ef89ca54d886aa",
        "IPY_MODEL_018c33c64ed24f139b9c4f4c9d71e4d3"
       ],
       "layout": "IPY_MODEL_8e7e1f81d1d14952846a540ba02bfe9e"
      }
     },
     "17071d2643794f4bb8a040943f108ea2": {
      "model_module": "@jupyter-widgets/base",
      "model_module_version": "1.2.0",
      "model_name": "LayoutModel",
      "state": {}
     },
     "1790da4608cf40d5ac8e0eb07fb07796": {
      "model_module": "@jupyter-widgets/base",
      "model_module_version": "1.2.0",
      "model_name": "LayoutModel",
      "state": {}
     },
     "180898c8423a48a4a75c0041a64c003b": {
      "model_module": "@jupyter-widgets/controls",
      "model_module_version": "1.5.0",
      "model_name": "SliderStyleModel",
      "state": {
       "description_width": ""
      }
     },
     "18159925ccdf4912a580b806bcfc04bc": {
      "model_module": "@jupyter-widgets/controls",
      "model_module_version": "1.5.0",
      "model_name": "ProgressStyleModel",
      "state": {
       "description_width": ""
      }
     },
     "18303cb746384a5dab1e10dd7885b7cb": {
      "model_module": "@jupyter-widgets/controls",
      "model_module_version": "1.5.0",
      "model_name": "DescriptionStyleModel",
      "state": {
       "description_width": ""
      }
     },
     "186face15a344af28dd79d77684a5349": {
      "model_module": "@jupyter-widgets/base",
      "model_module_version": "1.2.0",
      "model_name": "LayoutModel",
      "state": {}
     },
     "18bd0e2d3a394c0b9cee5d298e039cd7": {
      "model_module": "@jupyter-widgets/base",
      "model_module_version": "1.2.0",
      "model_name": "LayoutModel",
      "state": {}
     },
     "18fd6cd5634d4d7c9f2009ef60344d47": {
      "model_module": "@jupyter-widgets/base",
      "model_module_version": "1.2.0",
      "model_name": "LayoutModel",
      "state": {}
     },
     "19f143958f6c4ee6a44f3bf12778c52f": {
      "model_module": "@jupyter-widgets/base",
      "model_module_version": "1.2.0",
      "model_name": "LayoutModel",
      "state": {}
     },
     "19fbe8d0313740dea55604bed55d485f": {
      "model_module": "@jupyter-widgets/base",
      "model_module_version": "1.2.0",
      "model_name": "LayoutModel",
      "state": {}
     },
     "1a08cab62ccf4b779d1ba12ce9d80a8d": {
      "model_module": "@jupyter-widgets/controls",
      "model_module_version": "1.5.0",
      "model_name": "SliderStyleModel",
      "state": {
       "description_width": ""
      }
     },
     "1a9b7c1a356a4d3aa800cdd2ef3dbe61": {
      "model_module": "@jupyter-widgets/controls",
      "model_module_version": "1.5.0",
      "model_name": "ButtonModel",
      "state": {
       "button_style": "danger",
       "icon": "picture",
       "layout": "IPY_MODEL_3ce9c344a0bc4a70a8bdb6a199cef2bb",
       "style": "IPY_MODEL_9f889ff83797406d89c71a00d4b97abb"
      }
     },
     "1aae68996b104ae293d19bb33302b8be": {
      "model_module": "@jupyter-widgets/controls",
      "model_module_version": "1.5.0",
      "model_name": "VBoxModel",
      "state": {
       "children": [
        "IPY_MODEL_de49c80c31844a748b06c3b3ce1d9469",
        "IPY_MODEL_0d10094ebc404569836f7fb43043cefd",
        "IPY_MODEL_3158fb99617b41fb8fc68a91e44feb13",
        "IPY_MODEL_1fb62bbab63c434aaeb02700cea7bc79"
       ],
       "layout": "IPY_MODEL_a04d873281eb4d83831e174343ad66ce"
      }
     },
     "1af87e97bb9a4951b990bbfe04988023": {
      "model_module": "@jupyter-widgets/controls",
      "model_module_version": "1.5.0",
      "model_name": "DescriptionStyleModel",
      "state": {
       "description_width": ""
      }
     },
     "1bc9c5904cbb47f7a8a05ff0ade36dee": {
      "model_module": "@jupyter-widgets/controls",
      "model_module_version": "1.5.0",
      "model_name": "ButtonModel",
      "state": {
       "button_style": "success",
       "description": "Login",
       "layout": "IPY_MODEL_96e8f6d1bedb417ab77e215283faed69",
       "style": "IPY_MODEL_59745794217c4c0dbeb7a8125df7a9cf"
      }
     },
     "1be299985b4a46498d0cd9f86591d250": {
      "model_module": "@jupyter-widgets/controls",
      "model_module_version": "1.5.0",
      "model_name": "SliderStyleModel",
      "state": {
       "description_width": ""
      }
     },
     "1c23126e918042f1b5bad89bd0174355": {
      "model_module": "@jupyter-widgets/base",
      "model_module_version": "1.2.0",
      "model_name": "LayoutModel",
      "state": {}
     },
     "1c428fc222c940368ed3248fbb20bb2f": {
      "model_module": "@jupyter-widgets/controls",
      "model_module_version": "1.5.0",
      "model_name": "IntProgressModel",
      "state": {
       "description": "Loading:",
       "layout": "IPY_MODEL_7db27ed3987c4f4c81810cf022e8f709",
       "max": 10,
       "style": "IPY_MODEL_75ed9113328d41bc9f1790acde526ab7",
       "value": 4
      }
     },
     "1c927fff1f1046ed961724e58240649c": {
      "model_module": "@jupyter-widgets/controls",
      "model_module_version": "1.5.0",
      "model_name": "ButtonModel",
      "state": {
       "button_style": "success",
       "description": "Login",
       "layout": "IPY_MODEL_b997320175974a32bc50c7363011a672",
       "style": "IPY_MODEL_b7518e4fc0704585847c2f39f4223336"
      }
     },
     "1d952df889c744839073cd0a09424a03": {
      "model_module": "@jupyter-widgets/controls",
      "model_module_version": "1.5.0",
      "model_name": "FloatSliderModel",
      "state": {
       "description": "Test:",
       "layout": "IPY_MODEL_d9d2ba20839a47009070ac7630e22983",
       "max": 10,
       "step": 0.1,
       "style": "IPY_MODEL_be48667a14664c0a8935bb0b217b683f",
       "value": 7.5
      }
     },
     "1dd9f91ccd164e04adfa57959cfe7f26": {
      "model_module": "@jupyter-widgets/controls",
      "model_module_version": "1.5.0",
      "model_name": "IntSliderModel",
      "state": {
       "layout": "IPY_MODEL_ef71696d5837448cb5b9ff37cde1bde7",
       "style": "IPY_MODEL_c9e97abae9d14142b6c95e833b37f700"
      }
     },
     "1e47de35cb784c0996a90b897d5d784d": {
      "model_module": "@jupyter-widgets/controls",
      "model_module_version": "1.5.0",
      "model_name": "HBoxModel",
      "state": {
       "children": [
        "IPY_MODEL_ede65ddb498a4c8caedca69d3598bb9d",
        "IPY_MODEL_8268c093fe504558bc777799c7bb9a9b"
       ],
       "layout": "IPY_MODEL_d44ead1f71264680a34bfe35219cc904"
      }
     },
     "1e5bc64dc2dd4748929660cdb0770f5b": {
      "model_module": "@jupyter-widgets/controls",
      "model_module_version": "1.5.0",
      "model_name": "HTMLModel",
      "state": {
       "layout": "IPY_MODEL_6ed9ad978e5c466b9274c4c8f835dc7b",
       "style": "IPY_MODEL_791c9e7addca47718b82d62bdc7a560d",
       "value": "<h3 class='text-center'><font color='green'>Login</font> to <a stc='https://github.com/'>Github</a><h3>"
      }
     },
     "1e99876f796241b291cdd5457d2c9bb9": {
      "model_module": "@jupyter-widgets/base",
      "model_module_version": "1.2.0",
      "model_name": "LayoutModel",
      "state": {
       "visibility": "hidden"
      }
     },
     "1ead8ad845b64626a0941c315313baed": {
      "model_module": "@jupyter-widgets/base",
      "model_module_version": "1.2.0",
      "model_name": "LayoutModel",
      "state": {}
     },
     "1ef34242b0924d9491bae4ef9e04d877": {
      "model_module": "@jupyter-widgets/controls",
      "model_module_version": "1.5.0",
      "model_name": "ButtonStyleModel",
      "state": {}
     },
     "1f0ceb0b5a1842508f69aad0793b111d": {
      "model_module": "@jupyter-widgets/base",
      "model_module_version": "1.2.0",
      "model_name": "LayoutModel",
      "state": {}
     },
     "1f7e45dc86fc49e1a0d819953bd626d2": {
      "model_module": "@jupyter-widgets/controls",
      "model_module_version": "1.5.0",
      "model_name": "HBoxModel",
      "state": {
       "children": [
        "IPY_MODEL_ddee0faaba7f42b2b2c23443c4e06c37",
        "IPY_MODEL_8ae5707d5f9148e9a381c67958ecbcb9",
        "IPY_MODEL_8c1c550f856a4aa7973b7fb5836c3c64",
        "IPY_MODEL_9bbffc426bd745a4b04cebbc85df00ac"
       ],
       "layout": "IPY_MODEL_2d450e29d52142bc8b82d354e708f329"
      }
     },
     "1fb62bbab63c434aaeb02700cea7bc79": {
      "model_module": "@jupyter-widgets/controls",
      "model_module_version": "1.5.0",
      "model_name": "HBoxModel",
      "state": {
       "children": [
        "IPY_MODEL_4e97c2ee6d9144f191e9c164e090a6eb",
        "IPY_MODEL_c96823137d974cff82c2be79dbdeab09"
       ],
       "layout": "IPY_MODEL_9fcf7fcfc0f84d8990043f63253c9f8e"
      }
     },
     "1fd51a330ed64c53bd600f985c0dd918": {
      "model_module": "@jupyter-widgets/base",
      "model_module_version": "1.2.0",
      "model_name": "LayoutModel",
      "state": {
       "visibility": "hidden"
      }
     },
     "1fdd17279db1456bb45da8ad9c33b0a1": {
      "model_module": "@jupyter-widgets/controls",
      "model_module_version": "1.5.0",
      "model_name": "DropdownModel",
      "state": {
       "_options_labels": [
        "Apple",
        "Orange",
        "Pineapple"
       ],
       "description": "Number:",
       "index": 1,
       "layout": "IPY_MODEL_98a638ef5f7d45278585265e78ee6fb7",
       "style": "IPY_MODEL_fb38c254addf4c7c93d85a945ecfe1af"
      }
     },
     "202e4b56e51f42a4a174ab279807557d": {
      "model_module": "@jupyter-widgets/controls",
      "model_module_version": "1.5.0",
      "model_name": "IntProgressModel",
      "state": {
       "description": "Loading:",
       "layout": "IPY_MODEL_edf612315cfa42eab0d576fa92f93a2c",
       "max": 10,
       "style": "IPY_MODEL_d8f8cb56d0f34c9e87c6f55b906b2a18",
       "value": 5
      }
     },
     "2072060ba9a94f8e83946e66ad4e854f": {
      "model_module": "@jupyter-widgets/base",
      "model_module_version": "1.2.0",
      "model_name": "LayoutModel",
      "state": {}
     },
     "2079df2e88614071a4f5e427d0d71da8": {
      "model_module": "@jupyter-widgets/controls",
      "model_module_version": "1.5.0",
      "model_name": "DescriptionStyleModel",
      "state": {
       "description_width": ""
      }
     },
     "208669ba113a40ae8ce1cbf389a325e6": {
      "model_module": "@jupyter-widgets/base",
      "model_module_version": "1.2.0",
      "model_name": "LayoutModel",
      "state": {}
     },
     "20a3b27418da4b5e8b160f75b1ee7470": {
      "model_module": "@jupyter-widgets/controls",
      "model_module_version": "1.5.0",
      "model_name": "ButtonStyleModel",
      "state": {}
     },
     "215b4bcd2f4e499383b7a4a5da047f34": {
      "model_module": "@jupyter-widgets/base",
      "model_module_version": "1.2.0",
      "model_name": "LayoutModel",
      "state": {}
     },
     "21ebe2a0b5004defb15a0b810dc802aa": {
      "model_module": "@jupyter-widgets/controls",
      "model_module_version": "1.5.0",
      "model_name": "VBoxModel",
      "state": {
       "children": [
        "IPY_MODEL_ee4fb7bee3294117ad1ccd7b6ce40c9a",
        "IPY_MODEL_c4e8422710674e8298129783dde8639f",
        "IPY_MODEL_89c58312210641c08649cd4cd0bdd871",
        "IPY_MODEL_3a72f125b3584318b0bf670099edbb00"
       ],
       "layout": "IPY_MODEL_493c77a08b384e0fbedbbe39ac5c4ecc"
      }
     },
     "21f644c0df4042ea9149bc302a0120e3": {
      "model_module": "@jupyter-widgets/controls",
      "model_module_version": "1.5.0",
      "model_name": "SliderStyleModel",
      "state": {
       "description_width": ""
      }
     },
     "2285210731974be6982be710cc3c5986": {
      "model_module": "@jupyter-widgets/controls",
      "model_module_version": "1.5.0",
      "model_name": "DescriptionStyleModel",
      "state": {
       "description_width": ""
      }
     },
     "23253ed30b6a40dea312738bb381bcca": {
      "model_module": "@jupyter-widgets/base",
      "model_module_version": "1.2.0",
      "model_name": "LayoutModel",
      "state": {}
     },
     "232b5f9035144941a0ad739385e1916f": {
      "model_module": "@jupyter-widgets/base",
      "model_module_version": "1.2.0",
      "model_name": "LayoutModel",
      "state": {}
     },
     "234136d1c10d4f67b9348f394f8564e4": {
      "model_module": "@jupyter-widgets/controls",
      "model_module_version": "1.5.0",
      "model_name": "SliderStyleModel",
      "state": {
       "description_width": ""
      }
     },
     "23818f25e55b4be1af307510fa7d709b": {
      "model_module": "@jupyter-widgets/controls",
      "model_module_version": "1.5.0",
      "model_name": "ValidModel",
      "state": {
       "layout": "IPY_MODEL_772f175084504285bd2c17cd81874f97",
       "style": "IPY_MODEL_bf7d8210658848248f788c2c0efa49e2"
      }
     },
     "23ebed2cefc74fdb954f9103fa1dd363": {
      "model_module": "@jupyter-widgets/controls",
      "model_module_version": "1.5.0",
      "model_name": "HBoxModel",
      "state": {
       "children": [
        "IPY_MODEL_51d4015a98c9498c973b27948e4bd68c",
        "IPY_MODEL_537fbbd3c7ed4d69be971eed0fd6751b"
       ],
       "layout": "IPY_MODEL_8cbcaf4674644bb2828a5ed8edcc3ed6"
      }
     },
     "23eeac683e0e457bb14993ffa1c0a811": {
      "model_module": "@jupyter-widgets/base",
      "model_module_version": "1.2.0",
      "model_name": "LayoutModel",
      "state": {
       "height": "350px"
      }
     },
     "23f7245a2c82475da42a2c77f3722617": {
      "model_module": "@jupyter-widgets/controls",
      "model_module_version": "1.5.0",
      "model_name": "DescriptionStyleModel",
      "state": {
       "description_width": ""
      }
     },
     "248932d65d5e437e9e64e15730f83fc0": {
      "model_module": "@jupyter-widgets/controls",
      "model_module_version": "1.5.0",
      "model_name": "VBoxModel",
      "state": {
       "children": [
        "IPY_MODEL_36be9e1b407441f9b30f2cb1eb870002",
        "IPY_MODEL_90556860e3f643d38e00accfda91ed84",
        "IPY_MODEL_9eb16e8770fe40669d2306bfc4d51fc5",
        "IPY_MODEL_aaf111b8f27e4cf48fda85edbe2956cb"
       ],
       "layout": "IPY_MODEL_31dd1e23a91b4068a8f657269fca9ff2"
      }
     },
     "24c1e8d5f3334002b3f47a9b55a9339f": {
      "model_module": "@jupyter-widgets/controls",
      "model_module_version": "1.5.0",
      "model_name": "SliderStyleModel",
      "state": {
       "description_width": ""
      }
     },
     "2525b97b76b54cbdbdaba43f590c4e51": {
      "model_module": "@jupyter-widgets/controls",
      "model_module_version": "1.5.0",
      "model_name": "FloatSliderModel",
      "state": {
       "description": "m",
       "layout": "IPY_MODEL_dd926a14efe641978062725dac0322dc",
       "max": 2,
       "min": -2,
       "step": 0.1,
       "style": "IPY_MODEL_3a4642e36b884d41b23325e622460bd3",
       "value": -0.8
      }
     },
     "25d87241b7cd4f7e821c894273c397e6": {
      "model_module": "@jupyter-widgets/controls",
      "model_module_version": "1.5.0",
      "model_name": "HTMLModel",
      "state": {
       "layout": "IPY_MODEL_0aa572a29ade45d09a7e0d03b3276a03",
       "style": "IPY_MODEL_63d4c5eb3bee44bf87a34609ff536185",
       "value": "<h3 class='text-center'><font color='green'>Login</font> to <a stc='https://github.com/'>Github</a><h3>"
      }
     },
     "2609bb51c7754cf589b4bc5e06756338": {
      "model_module": "@jupyter-widgets/base",
      "model_module_version": "1.2.0",
      "model_name": "LayoutModel",
      "state": {
       "width": "auto"
      }
     },
     "2633f459687b4f028991b8f9dcebee93": {
      "model_module": "@jupyter-widgets/controls",
      "model_module_version": "1.5.0",
      "model_name": "DescriptionStyleModel",
      "state": {
       "description_width": ""
      }
     },
     "2656b2b13945482582a541d8e027de60": {
      "model_module": "@jupyter-widgets/controls",
      "model_module_version": "1.5.0",
      "model_name": "TextModel",
      "state": {
       "description": "String:",
       "layout": "IPY_MODEL_7cf7d2b7a8ad450d980d00f81c5957c7",
       "placeholder": "Type something",
       "style": "IPY_MODEL_ac8f6f67e77b463ab63917104a2af3d4"
      }
     },
     "265bcd7210f447f297d40360a639ac55": {
      "model_module": "@jupyter-widgets/base",
      "model_module_version": "1.2.0",
      "model_name": "LayoutModel",
      "state": {}
     },
     "27b944ff62254eda8bc36515ef035b0d": {
      "model_module": "@jupyter-widgets/controls",
      "model_module_version": "1.5.0",
      "model_name": "DescriptionStyleModel",
      "state": {
       "description_width": ""
      }
     },
     "287dd2be3f5d4028af54467cde35c91c": {
      "model_module": "@jupyter-widgets/base",
      "model_module_version": "1.2.0",
      "model_name": "LayoutModel",
      "state": {}
     },
     "28922b73d93a4276afa1b928537eca97": {
      "model_module": "@jupyter-widgets/controls",
      "model_module_version": "1.5.0",
      "model_name": "PasswordModel",
      "state": {
       "description": "Password",
       "layout": "IPY_MODEL_4f9116fcee18417fb4a4a0c8ce4e15e4",
       "style": "IPY_MODEL_64211c8a3aad472b850789431d779535"
      }
     },
     "2940ecb511ee41cb8ade12dbba776596": {
      "model_module": "@jupyter-widgets/controls",
      "model_module_version": "1.5.0",
      "model_name": "DescriptionStyleModel",
      "state": {
       "description_width": ""
      }
     },
     "296b89b7b1a141089a23dad60e633bfe": {
      "model_module": "@jupyter-widgets/controls",
      "model_module_version": "1.5.0",
      "model_name": "ButtonModel",
      "state": {
       "button_style": "success",
       "description": "Login",
       "layout": "IPY_MODEL_72a3e5ed23d84cf8b29984700e26a0d0",
       "style": "IPY_MODEL_f1ddb7540da94a0abf4b47691d898d09"
      }
     },
     "2abec6364f404b7e9aa6dd763257c5cf": {
      "model_module": "@jupyter-widgets/controls",
      "model_module_version": "1.5.0",
      "model_name": "ButtonStyleModel",
      "state": {}
     },
     "2b13b1fada0d4847a18cd7a80f3a48c7": {
      "model_module": "@jupyter-widgets/base",
      "model_module_version": "1.2.0",
      "model_name": "LayoutModel",
      "state": {}
     },
     "2b6ddba546e6467e80afc9d76e924de5": {
      "model_module": "@jupyter-widgets/controls",
      "model_module_version": "1.5.0",
      "model_name": "DescriptionStyleModel",
      "state": {
       "description_width": ""
      }
     },
     "2b7612b954b4448d81910e27d68f4b23": {
      "model_module": "@jupyter-widgets/output",
      "model_module_version": "1.0.0",
      "model_name": "OutputModel",
      "state": {
       "layout": "IPY_MODEL_a5e6e5296d244d7baf82bc8dfc262b84",
       "outputs": [
        {
         "name": "stdout",
         "output_type": "stream",
         "text": "\n"
        }
       ]
      }
     },
     "2d1b4931cd674a7ca0145946699ce6f4": {
      "model_module": "@jupyter-widgets/base",
      "model_module_version": "1.2.0",
      "model_name": "LayoutModel",
      "state": {}
     },
     "2d40b541a31b4bbf840d4d3d886a203f": {
      "model_module": "@jupyter-widgets/controls",
      "model_module_version": "1.5.0",
      "model_name": "ButtonModel",
      "state": {
       "description": "Say Hello",
       "layout": "IPY_MODEL_c056395c605a49ba9de390a291d521e9",
       "style": "IPY_MODEL_73eb23e6c4444efda8998de56b468fb4"
      }
     },
     "2d450e29d52142bc8b82d354e708f329": {
      "model_module": "@jupyter-widgets/base",
      "model_module_version": "1.2.0",
      "model_name": "LayoutModel",
      "state": {}
     },
     "2dc0823a75d04ff88c6925388d5b8dbd": {
      "model_module": "@jupyter-widgets/controls",
      "model_module_version": "1.5.0",
      "model_name": "ButtonModel",
      "state": {
       "button_style": "danger",
       "icon": "check",
       "layout": "IPY_MODEL_588298a3d49344d2ae2955d9d45ad7a3",
       "style": "IPY_MODEL_6a9b32bbf9d1419ab61c936a09d5593e"
      }
     },
     "2dcc568d764a436daebdecb7b1e592e5": {
      "model_module": "@jupyter-widgets/controls",
      "model_module_version": "1.5.0",
      "model_name": "TextModel",
      "state": {
       "description": "Username",
       "layout": "IPY_MODEL_7890c0e5278942b798b79e4d14fbd1ff",
       "style": "IPY_MODEL_0b380383255a49878ff6e5c3a3dc08ff"
      }
     },
     "2df1bbd9c0af4a828ff1d6876575a886": {
      "model_module": "@jupyter-widgets/controls",
      "model_module_version": "1.5.0",
      "model_name": "ButtonStyleModel",
      "state": {}
     },
     "2df63ed1089c438aad09cb697aa26578": {
      "model_module": "@jupyter-widgets/base",
      "model_module_version": "1.2.0",
      "model_name": "LayoutModel",
      "state": {}
     },
     "2e153cbe411f4641af968643d013b2bc": {
      "model_module": "@jupyter-widgets/base",
      "model_module_version": "1.2.0",
      "model_name": "LayoutModel",
      "state": {}
     },
     "2e3f88c572be46159c71197abf26e2ba": {
      "model_module": "@jupyter-widgets/controls",
      "model_module_version": "1.5.0",
      "model_name": "TextModel",
      "state": {
       "description": "text",
       "layout": "IPY_MODEL_363d2b7642234659a68d2f915b4ff3cf",
       "style": "IPY_MODEL_90871b36ffde42d19b38720b2bc1c38f"
      }
     },
     "2e7a889c535947aa92cbfefb2ca431b7": {
      "model_module": "@jupyter-widgets/controls",
      "model_module_version": "1.5.0",
      "model_name": "ValidModel",
      "state": {
       "layout": "IPY_MODEL_f32b5329cd994f72acdf691fa0d8d004",
       "style": "IPY_MODEL_65acc1fdd4cb421a952fdf96c6a611e5"
      }
     },
     "2e8c0a5e0bf142ed8418680e18bc96ad": {
      "model_module": "@jupyter-widgets/base",
      "model_module_version": "1.2.0",
      "model_name": "LayoutModel",
      "state": {}
     },
     "3006f1ce849e40f6b87c80fba19fd255": {
      "model_module": "@jupyter-widgets/controls",
      "model_module_version": "1.5.0",
      "model_name": "TextModel",
      "state": {
       "description": "text",
       "layout": "IPY_MODEL_dae4904a0cd441129b3d3a56476068c7",
       "style": "IPY_MODEL_0c98336422d94b84ae41bc773819087f"
      }
     },
     "301a21b30add41c4a5490df47bb8e3d1": {
      "model_module": "@jupyter-widgets/base",
      "model_module_version": "1.2.0",
      "model_name": "LayoutModel",
      "state": {}
     },
     "30bf60d013c144b19dd3010bea150fe2": {
      "model_module": "@jupyter-widgets/controls",
      "model_module_version": "1.5.0",
      "model_name": "ButtonStyleModel",
      "state": {}
     },
     "30ebbfea17b74107839661e00a2bbd8b": {
      "model_module": "@jupyter-widgets/controls",
      "model_module_version": "1.5.0",
      "model_name": "ValidModel",
      "state": {
       "layout": "IPY_MODEL_65b5e805be414cc792867becacfbc623",
       "style": "IPY_MODEL_7e553b3004c04a31a20edff68e27d9a4"
      }
     },
     "3158fb99617b41fb8fc68a91e44feb13": {
      "model_module": "@jupyter-widgets/controls",
      "model_module_version": "1.5.0",
      "model_name": "PasswordModel",
      "state": {
       "description": "Password",
       "layout": "IPY_MODEL_9216edaa36804826b4c6bf9676cc5817",
       "style": "IPY_MODEL_2b6ddba546e6467e80afc9d76e924de5"
      }
     },
     "316f9c48d4e043059e82a32ac35b8aff": {
      "model_module": "@jupyter-widgets/controls",
      "model_module_version": "1.5.0",
      "model_name": "ButtonStyleModel",
      "state": {}
     },
     "3190ad0f37aa4c439c52bc212a8ed954": {
      "model_module": "@jupyter-widgets/controls",
      "model_module_version": "1.5.0",
      "model_name": "HBoxModel",
      "state": {
       "children": [
        "IPY_MODEL_c0d21f3989954c52b7ef89ca54d886aa",
        "IPY_MODEL_018c33c64ed24f139b9c4f4c9d71e4d3"
       ],
       "layout": "IPY_MODEL_c51e9e3f8b0841649dd4c13b0c6feb99"
      }
     },
     "31dd1e23a91b4068a8f657269fca9ff2": {
      "model_module": "@jupyter-widgets/base",
      "model_module_version": "1.2.0",
      "model_name": "LayoutModel",
      "state": {}
     },
     "322ab3baf1504c0d84d9b4ba7c6dca29": {
      "model_module": "@jupyter-widgets/controls",
      "model_module_version": "1.5.0",
      "model_name": "DescriptionStyleModel",
      "state": {
       "description_width": ""
      }
     },
     "32fa550dd4254a55af2fa6a14ea63742": {
      "model_module": "@jupyter-widgets/controls",
      "model_module_version": "1.5.0",
      "model_name": "VBoxModel",
      "state": {
       "children": [
        "IPY_MODEL_cfd2f18e38e042669e09c1dc3553f8ff",
        "IPY_MODEL_3c142c6de7894681849ec33fbd9680e3",
        "IPY_MODEL_8935b4c58dea4419971b3afc32ed5ae7",
        "IPY_MODEL_f78049d2570348c287ad234795e58833"
       ],
       "layout": "IPY_MODEL_a146ebecb8bb4308811b4a0576b58f11"
      }
     },
     "33169130726c482d8c666c5c34a5bee3": {
      "model_module": "@jupyter-widgets/controls",
      "model_module_version": "1.5.0",
      "model_name": "SliderStyleModel",
      "state": {
       "description_width": ""
      }
     },
     "332a2e95a8964f9fb4b026e170808b2f": {
      "model_module": "@jupyter-widgets/base",
      "model_module_version": "1.2.0",
      "model_name": "LayoutModel",
      "state": {
       "visibility": "hidden"
      }
     },
     "33553dd3586e42cca6dd66e737d8e9c8": {
      "model_module": "@jupyter-widgets/base",
      "model_module_version": "1.2.0",
      "model_name": "LayoutModel",
      "state": {}
     },
     "338e5bf6cfe843aaac8fd95822021f4f": {
      "model_module": "@jupyter-widgets/controls",
      "model_module_version": "1.5.0",
      "model_name": "SliderStyleModel",
      "state": {
       "description_width": ""
      }
     },
     "33ad5ade758b412cb656272ba446e07c": {
      "model_module": "@jupyter-widgets/controls",
      "model_module_version": "1.5.0",
      "model_name": "SliderStyleModel",
      "state": {
       "description_width": ""
      }
     },
     "33ad785ca46f480db334d1d87662adff": {
      "model_module": "@jupyter-widgets/controls",
      "model_module_version": "1.5.0",
      "model_name": "PasswordModel",
      "state": {
       "description": "Password",
       "layout": "IPY_MODEL_23253ed30b6a40dea312738bb381bcca",
       "style": "IPY_MODEL_2633f459687b4f028991b8f9dcebee93"
      }
     },
     "344d50747ca44b51804ea0c4f92957c9": {
      "model_module": "@jupyter-widgets/base",
      "model_module_version": "1.2.0",
      "model_name": "LayoutModel",
      "state": {}
     },
     "3467b6c1568c406891b9c95a03356419": {
      "model_module": "@jupyter-widgets/base",
      "model_module_version": "1.2.0",
      "model_name": "LayoutModel",
      "state": {
       "justify_content": "center",
       "margin": "0 0 0 100px"
      }
     },
     "349297bc89c64718baee8eff2cc6a077": {
      "model_module": "@jupyter-widgets/base",
      "model_module_version": "1.2.0",
      "model_name": "LayoutModel",
      "state": {}
     },
     "35343da11435491a9398a263d6e6c93e": {
      "model_module": "@jupyter-widgets/base",
      "model_module_version": "1.2.0",
      "model_name": "LayoutModel",
      "state": {
       "width": "auto"
      }
     },
     "35da0dfa411a4f77999678024b550398": {
      "model_module": "@jupyter-widgets/controls",
      "model_module_version": "1.5.0",
      "model_name": "SliderStyleModel",
      "state": {
       "description_width": ""
      }
     },
     "35dc5c593da64eb7b795b728d7360a29": {
      "model_module": "@jupyter-widgets/controls",
      "model_module_version": "1.5.0",
      "model_name": "TextModel",
      "state": {
       "description": "Username",
       "layout": "IPY_MODEL_387901eb58db4f94adb52b8919dc0c5c",
       "style": "IPY_MODEL_b60d446b838d46e2b5cf2e5aa1574c7a"
      }
     },
     "363d2b7642234659a68d2f915b4ff3cf": {
      "model_module": "@jupyter-widgets/base",
      "model_module_version": "1.2.0",
      "model_name": "LayoutModel",
      "state": {}
     },
     "36606668e2fb41dc9e001bfd930cb682": {
      "model_module": "@jupyter-widgets/controls",
      "model_module_version": "1.5.0",
      "model_name": "ButtonStyleModel",
      "state": {}
     },
     "369a37a144524c7e99fa5c74a713fd23": {
      "model_module": "@jupyter-widgets/controls",
      "model_module_version": "1.5.0",
      "model_name": "HBoxModel",
      "state": {
       "children": [
        "IPY_MODEL_c4e8422710674e8298129783dde8639f",
        "IPY_MODEL_89c58312210641c08649cd4cd0bdd871",
        "IPY_MODEL_e6fe9c8ff8fe4ad08c58f2b5e2f0239a",
        "IPY_MODEL_8d2b205a12e141c19d58062176f24251"
       ],
       "layout": "IPY_MODEL_67957b6b48b34957b7671d2b3196eabd"
      }
     },
     "36be9e1b407441f9b30f2cb1eb870002": {
      "model_module": "@jupyter-widgets/controls",
      "model_module_version": "1.5.0",
      "model_name": "HTMLModel",
      "state": {
       "layout": "IPY_MODEL_cb0a28e347ca4c53a836fb1383eb6ab7",
       "style": "IPY_MODEL_b718c3a306be4bc09e3f19e51590917a",
       "value": "<h3 class='text-center'><font color='green'>Login</font> to <a stc='https://github.com/'>Github</a><h3>"
      }
     },
     "36d65739b7e240c6b3f19318ec8bf040": {
      "model_module": "@jupyter-widgets/controls",
      "model_module_version": "1.5.0",
      "model_name": "ButtonStyleModel",
      "state": {}
     },
     "370956120f834e15ab6eb5448ab745f2": {
      "model_module": "@jupyter-widgets/controls",
      "model_module_version": "1.5.0",
      "model_name": "ButtonModel",
      "state": {
       "button_style": "danger",
       "icon": "battery-quarter",
       "layout": "IPY_MODEL_8677ea1664c34ac29479ae49400ad12f",
       "style": "IPY_MODEL_aca8db7627ee40758e039425e272695b"
      }
     },
     "37d74c0f8f7a4c9e82d70af14c9cfa15": {
      "model_module": "@jupyter-widgets/controls",
      "model_module_version": "1.5.0",
      "model_name": "ButtonStyleModel",
      "state": {}
     },
     "387901eb58db4f94adb52b8919dc0c5c": {
      "model_module": "@jupyter-widgets/base",
      "model_module_version": "1.2.0",
      "model_name": "LayoutModel",
      "state": {}
     },
     "39577a27242445e0b1077d86e9bfb451": {
      "model_module": "@jupyter-widgets/controls",
      "model_module_version": "1.5.0",
      "model_name": "VBoxModel",
      "state": {
       "_dom_classes": [
        "widget-interact"
       ],
       "children": [
        "IPY_MODEL_7c149884f7c64f40aacc5ddc49156279",
        "IPY_MODEL_dc7f93aacda442b89fcf9301507491b5",
        "IPY_MODEL_daf7a4e5da9c43bd951037ec285b275e"
       ],
       "layout": "IPY_MODEL_b241af9bf97d44b09db6b8a886c8d295"
      }
     },
     "39e4966be7444df9983679cce65669de": {
      "model_module": "@jupyter-widgets/controls",
      "model_module_version": "1.5.0",
      "model_name": "ButtonStyleModel",
      "state": {}
     },
     "39f27386f567437dbe67cd6bc33d869f": {
      "model_module": "@jupyter-widgets/controls",
      "model_module_version": "1.5.0",
      "model_name": "ButtonStyleModel",
      "state": {}
     },
     "3a4642e36b884d41b23325e622460bd3": {
      "model_module": "@jupyter-widgets/controls",
      "model_module_version": "1.5.0",
      "model_name": "SliderStyleModel",
      "state": {
       "description_width": ""
      }
     },
     "3a612638f8ea45ff960f62ad51e0337b": {
      "model_module": "@jupyter-widgets/base",
      "model_module_version": "1.2.0",
      "model_name": "LayoutModel",
      "state": {}
     },
     "3a72f125b3584318b0bf670099edbb00": {
      "model_module": "@jupyter-widgets/controls",
      "model_module_version": "1.5.0",
      "model_name": "HBoxModel",
      "state": {
       "children": [
        "IPY_MODEL_e6fe9c8ff8fe4ad08c58f2b5e2f0239a",
        "IPY_MODEL_8d2b205a12e141c19d58062176f24251"
       ],
       "layout": "IPY_MODEL_50ddf703cff748be8bb87e33f8325653"
      }
     },
     "3ab872b3e3464821b1d70b1e538387b8": {
      "model_module": "@jupyter-widgets/controls",
      "model_module_version": "1.5.0",
      "model_name": "PasswordModel",
      "state": {
       "description": "Password",
       "layout": "IPY_MODEL_19fbe8d0313740dea55604bed55d485f",
       "style": "IPY_MODEL_5fb2f8655344489b9590a27b2770aa3c"
      }
     },
     "3aeb3dfae3a24b80b256bd8f65cad575": {
      "model_module": "@jupyter-widgets/controls",
      "model_module_version": "1.5.0",
      "model_name": "ButtonModel",
      "state": {
       "description": "Say Hello",
       "layout": "IPY_MODEL_6813ec35c2924c948c55b0b41838a6ad",
       "style": "IPY_MODEL_abf8376dd0d14405bb16aea2b13211dc"
      }
     },
     "3b18647de6444e43b26f0d4d5d0d0241": {
      "model_module": "@jupyter-widgets/base",
      "model_module_version": "1.2.0",
      "model_name": "LayoutModel",
      "state": {}
     },
     "3b676216a9354e10bf3f967e0b537a37": {
      "model_module": "@jupyter-widgets/controls",
      "model_module_version": "1.5.0",
      "model_name": "IntSliderModel",
      "state": {
       "description": "times",
       "layout": "IPY_MODEL_f06e767e8bd543e7bb6cf5c11d71e94c",
       "max": 6,
       "min": -2,
       "style": "IPY_MODEL_6949b70ce0a44f2b81148d70e84ea628",
       "value": 2
      }
     },
     "3ba9407e443240ae940de149ac90a096": {
      "model_module": "@jupyter-widgets/controls",
      "model_module_version": "1.5.0",
      "model_name": "HTMLModel",
      "state": {
       "layout": "IPY_MODEL_a867c7f1e7174db781756de920e3f9cf",
       "style": "IPY_MODEL_7b6120a898c247faabd05a4a69b74ae3",
       "value": "Hello"
      }
     },
     "3bba833f083045f580e0fa24795fb945": {
      "model_module": "@jupyter-widgets/base",
      "model_module_version": "1.2.0",
      "model_name": "LayoutModel",
      "state": {
       "width": "auto"
      }
     },
     "3c1251374e8e4611a782eea28c0ec720": {
      "model_module": "@jupyter-widgets/base",
      "model_module_version": "1.2.0",
      "model_name": "LayoutModel",
      "state": {}
     },
     "3c142c6de7894681849ec33fbd9680e3": {
      "model_module": "@jupyter-widgets/controls",
      "model_module_version": "1.5.0",
      "model_name": "TextModel",
      "state": {
       "description": "Username",
       "layout": "IPY_MODEL_06c164dff41b4ac6bc6ffdbeb87e5fd1",
       "style": "IPY_MODEL_2079df2e88614071a4f5e427d0d71da8"
      }
     },
     "3c6678b537e94c2f8599985f3c7cf801": {
      "model_module": "@jupyter-widgets/controls",
      "model_module_version": "1.5.0",
      "model_name": "IntSliderModel",
      "state": {
       "layout": "IPY_MODEL_13c030a53c2a41b4a8acd6989699caad",
       "style": "IPY_MODEL_c7297f241ab7416aadf0856106b0dccf",
       "value": 50
      }
     },
     "3ce455964e3c4127ba4f2f2615e29aaf": {
      "model_module": "@jupyter-widgets/base",
      "model_module_version": "1.2.0",
      "model_name": "LayoutModel",
      "state": {}
     },
     "3ce9c344a0bc4a70a8bdb6a199cef2bb": {
      "model_module": "@jupyter-widgets/base",
      "model_module_version": "1.2.0",
      "model_name": "LayoutModel",
      "state": {
       "width": "auto"
      }
     },
     "3ddf9d86a4474b9aa24e8280782c7ac5": {
      "model_module": "@jupyter-widgets/controls",
      "model_module_version": "1.5.0",
      "model_name": "SliderStyleModel",
      "state": {
       "description_width": ""
      }
     },
     "3e2346cc05424fb192c19497094714ac": {
      "model_module": "@jupyter-widgets/controls",
      "model_module_version": "1.5.0",
      "model_name": "FloatSliderModel",
      "state": {
       "description": "b",
       "layout": "IPY_MODEL_f20928ae16cb46da83cdfe0bac810c2e",
       "max": 3,
       "min": -3,
       "step": 0.5,
       "style": "IPY_MODEL_1a08cab62ccf4b779d1ba12ce9d80a8d"
      }
     },
     "3e50fa42b8ef4902a234b462c9ee531d": {
      "model_module": "@jupyter-widgets/base",
      "model_module_version": "1.2.0",
      "model_name": "LayoutModel",
      "state": {}
     },
     "3e5b8adcfd244bb7bde8d3082a4c8d68": {
      "model_module": "@jupyter-widgets/controls",
      "model_module_version": "1.5.0",
      "model_name": "PasswordModel",
      "state": {
       "description": "Password",
       "layout": "IPY_MODEL_4b6dcb9522c844ae8a24994ce6a51eaa",
       "style": "IPY_MODEL_ea69fe7d71d94993b22b3e9996c816d8"
      }
     },
     "3e7ea11ced02411aa5dad78cac952c40": {
      "model_module": "@jupyter-widgets/output",
      "model_module_version": "1.0.0",
      "model_name": "OutputModel",
      "state": {
       "layout": "IPY_MODEL_23eeac683e0e457bb14993ffa1c0a811",
       "outputs": [
        {
         "data": {
          "image/png": "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\n",
          "text/plain": "<Figure size 432x288 with 1 Axes>"
         },
         "metadata": {
          "needs_background": "light"
         },
         "output_type": "display_data"
        }
       ]
      }
     },
     "3f57b11bb9f34948bf0192f36d6d58b9": {
      "model_module": "@jupyter-widgets/controls",
      "model_module_version": "1.5.0",
      "model_name": "DescriptionStyleModel",
      "state": {
       "description_width": ""
      }
     },
     "3f990b9e01d04077b5a76a7811abe656": {
      "model_module": "@jupyter-widgets/controls",
      "model_module_version": "1.5.0",
      "model_name": "ProgressStyleModel",
      "state": {
       "description_width": ""
      }
     },
     "40879784ff0e44c98b5bf91807158ae6": {
      "model_module": "@jupyter-widgets/base",
      "model_module_version": "1.2.0",
      "model_name": "LayoutModel",
      "state": {
       "visibility": "hidden"
      }
     },
     "41091d988deb45a38e739e652047316c": {
      "model_module": "@jupyter-widgets/controls",
      "model_module_version": "1.5.0",
      "model_name": "TextModel",
      "state": {
       "description": "text",
       "layout": "IPY_MODEL_5c1e245482c34aba92b45e5390cc7fc7",
       "style": "IPY_MODEL_55ec6b4b22d041acb72a038db1d70d3a"
      }
     },
     "41b28ebf47f3438d87f84fb1e12508f8": {
      "model_module": "@jupyter-widgets/base",
      "model_module_version": "1.2.0",
      "model_name": "LayoutModel",
      "state": {}
     },
     "4210e47a3dee4de9a9c8b0da75185c49": {
      "model_module": "@jupyter-widgets/controls",
      "model_module_version": "1.5.0",
      "model_name": "SliderStyleModel",
      "state": {
       "description_width": ""
      }
     },
     "423a83ef27e6424381684bcecabf81c4": {
      "model_module": "@jupyter-widgets/controls",
      "model_module_version": "1.5.0",
      "model_name": "DescriptionStyleModel",
      "state": {
       "description_width": ""
      }
     },
     "4258a8e8460b43118ec41eeb47725d2d": {
      "model_module": "@jupyter-widgets/base",
      "model_module_version": "1.2.0",
      "model_name": "LayoutModel",
      "state": {}
     },
     "4265f7b1233d4298bb8636ab96a8970d": {
      "model_module": "@jupyter-widgets/base",
      "model_module_version": "1.2.0",
      "model_name": "LayoutModel",
      "state": {}
     },
     "426fc662b3fa418490b51dfef27912f3": {
      "model_module": "@jupyter-widgets/controls",
      "model_module_version": "1.5.0",
      "model_name": "DescriptionStyleModel",
      "state": {
       "description_width": ""
      }
     },
     "437abc0a8f9144dfac7c6a3a02271b4d": {
      "model_module": "@jupyter-widgets/base",
      "model_module_version": "1.2.0",
      "model_name": "LayoutModel",
      "state": {}
     },
     "43e0c11af37749f2a9c11ca08768e870": {
      "model_module": "@jupyter-widgets/controls",
      "model_module_version": "1.5.0",
      "model_name": "TextModel",
      "state": {
       "description": "Username",
       "layout": "IPY_MODEL_7f9ddd6b1d044a04a11b1492354bd4fa",
       "style": "IPY_MODEL_93f1105b1ff140a988be711f68a918e0"
      }
     },
     "44063392c9414904826602784e45f5a5": {
      "model_module": "@jupyter-widgets/base",
      "model_module_version": "1.2.0",
      "model_name": "LayoutModel",
      "state": {}
     },
     "444c613e46d54bd7a065d3a910c43185": {
      "model_module": "@jupyter-widgets/base",
      "model_module_version": "1.2.0",
      "model_name": "LayoutModel",
      "state": {}
     },
     "44903e3cb7804651a344692bb02db3ab": {
      "model_module": "@jupyter-widgets/base",
      "model_module_version": "1.2.0",
      "model_name": "LayoutModel",
      "state": {}
     },
     "44ad96ca53e1457db0a62a3e7f8b65ed": {
      "model_module": "@jupyter-widgets/controls",
      "model_module_version": "1.5.0",
      "model_name": "ValidModel",
      "state": {
       "layout": "IPY_MODEL_b09d0f18f71f4a22b002382b81b3e7ce",
       "style": "IPY_MODEL_05fe1aba16e3430aa1e985e9a85d1d7b"
      }
     },
     "44c7ba2063584976a6f1d249520f2b93": {
      "model_module": "@jupyter-widgets/controls",
      "model_module_version": "1.5.0",
      "model_name": "DescriptionStyleModel",
      "state": {
       "description_width": ""
      }
     },
     "44f503a79017495da07536f1f11b1f55": {
      "model_module": "@jupyter-widgets/base",
      "model_module_version": "1.2.0",
      "model_name": "LayoutModel",
      "state": {}
     },
     "44fd0558b6744c12bd39bbe02a666709": {
      "model_module": "@jupyter-widgets/controls",
      "model_module_version": "1.5.0",
      "model_name": "ButtonModel",
      "state": {
       "button_style": "success",
       "description": "Login",
       "layout": "IPY_MODEL_b9661557a2c2477dbbbedccf741064cc",
       "style": "IPY_MODEL_604e1601ca944aec87a5a93151b87fbb"
      }
     },
     "451ceab1f66b4732bb0237c5207b940f": {
      "model_module": "@jupyter-widgets/base",
      "model_module_version": "1.2.0",
      "model_name": "LayoutModel",
      "state": {}
     },
     "452689a2e534470db2f52401336be3fa": {
      "model_module": "@jupyter-widgets/controls",
      "model_module_version": "1.5.0",
      "model_name": "DescriptionStyleModel",
      "state": {
       "description_width": ""
      }
     },
     "454492c5e9994e6eb455a41454725be2": {
      "model_module": "@jupyter-widgets/base",
      "model_module_version": "1.2.0",
      "model_name": "LayoutModel",
      "state": {}
     },
     "45b49743ee05441ea76d14cee934621c": {
      "model_module": "@jupyter-widgets/controls",
      "model_module_version": "1.5.0",
      "model_name": "DescriptionStyleModel",
      "state": {
       "description_width": ""
      }
     },
     "45df69f13504425cb2935c4b37f2af4a": {
      "model_module": "@jupyter-widgets/base",
      "model_module_version": "1.2.0",
      "model_name": "LayoutModel",
      "state": {}
     },
     "469791482bd04cc9bfb070b3a20fcbe5": {
      "model_module": "@jupyter-widgets/base",
      "model_module_version": "1.2.0",
      "model_name": "LayoutModel",
      "state": {}
     },
     "471d10115ed549e09b0adfac8d4a56dc": {
      "model_module": "@jupyter-widgets/controls",
      "model_module_version": "1.5.0",
      "model_name": "DescriptionStyleModel",
      "state": {
       "description_width": ""
      }
     },
     "472ded0417d74ba8ab420b06189419a6": {
      "model_module": "@jupyter-widgets/controls",
      "model_module_version": "1.5.0",
      "model_name": "DescriptionStyleModel",
      "state": {
       "description_width": ""
      }
     },
     "478980933ae741b7ace71756d248af2a": {
      "model_module": "@jupyter-widgets/base",
      "model_module_version": "1.2.0",
      "model_name": "LayoutModel",
      "state": {}
     },
     "479e6f539f974f7c9538638b105ae07c": {
      "model_module": "@jupyter-widgets/controls",
      "model_module_version": "1.5.0",
      "model_name": "HBoxModel",
      "state": {
       "children": [
        "IPY_MODEL_ee188ca5c8d441daae5a79941ab55e7b",
        "IPY_MODEL_53a8db4e637d45be8c59849aa246a6c6"
       ],
       "layout": "IPY_MODEL_0fb961b324e240b3b911baf3a7143641"
      }
     },
     "48758cec963745cdae92c04d4ab4a89c": {
      "model_module": "@jupyter-widgets/controls",
      "model_module_version": "1.5.0",
      "model_name": "ButtonModel",
      "state": {
       "button_style": "success",
       "description": "Login",
       "layout": "IPY_MODEL_e653afe8f8c54e9e8d1bccfafc9f394a",
       "style": "IPY_MODEL_bc0416533c014160b4e67e2899da02e8"
      }
     },
     "493c77a08b384e0fbedbbe39ac5c4ecc": {
      "model_module": "@jupyter-widgets/base",
      "model_module_version": "1.2.0",
      "model_name": "LayoutModel",
      "state": {}
     },
     "4a0934efdcc8446bb46725b1e38423f1": {
      "model_module": "@jupyter-widgets/controls",
      "model_module_version": "1.5.0",
      "model_name": "DescriptionStyleModel",
      "state": {
       "description_width": ""
      }
     },
     "4a54df588ce843588d006550f2ad56d5": {
      "model_module": "@jupyter-widgets/base",
      "model_module_version": "1.2.0",
      "model_name": "LayoutModel",
      "state": {}
     },
     "4a6b063674f74fc18ff4faaa658a7c07": {
      "model_module": "@jupyter-widgets/controls",
      "model_module_version": "1.5.0",
      "model_name": "ButtonModel",
      "state": {
       "button_style": "danger",
       "icon": "accessible-icon",
       "layout": "IPY_MODEL_bbe398f4fb2e4369b9ae5797a1408036",
       "style": "IPY_MODEL_105156828f444678988d726793e336f4"
      }
     },
     "4a8c9ab25820412f9fe0750e4b3d2c5e": {
      "model_module": "@jupyter-widgets/controls",
      "model_module_version": "1.5.0",
      "model_name": "FloatSliderModel",
      "state": {
       "description": "m",
       "layout": "IPY_MODEL_b11b4e206e7c44baba09d3cbe1b0c37e",
       "max": 2,
       "min": -2,
       "step": 0.1,
       "style": "IPY_MODEL_7a563167b5cc43d6834af914bb6ea5ba"
      }
     },
     "4b1fe579f2bf4fa68b703cf73d285ebe": {
      "model_module": "@jupyter-widgets/controls",
      "model_module_version": "1.5.0",
      "model_name": "DropdownModel",
      "state": {
       "_options_labels": [
        "Apple",
        "Orange",
        "Pineapple"
       ],
       "description": "Fruit:",
       "index": 0,
       "layout": "IPY_MODEL_2df63ed1089c438aad09cb697aa26578",
       "style": "IPY_MODEL_472ded0417d74ba8ab420b06189419a6"
      }
     },
     "4b6dcb9522c844ae8a24994ce6a51eaa": {
      "model_module": "@jupyter-widgets/base",
      "model_module_version": "1.2.0",
      "model_name": "LayoutModel",
      "state": {}
     },
     "4bf26155fca24d9698e881af027e350c": {
      "model_module": "@jupyter-widgets/base",
      "model_module_version": "1.2.0",
      "model_name": "LayoutModel",
      "state": {}
     },
     "4bf44c32ddad40fc919f3e70d93702eb": {
      "model_module": "@jupyter-widgets/base",
      "model_module_version": "1.2.0",
      "model_name": "LayoutModel",
      "state": {}
     },
     "4c75502c8b6e4aaa9e3951b10a4f41df": {
      "model_module": "@jupyter-widgets/controls",
      "model_module_version": "1.5.0",
      "model_name": "DescriptionStyleModel",
      "state": {
       "description_width": ""
      }
     },
     "4d1acc7814334ec082c39c78270b363c": {
      "model_module": "@jupyter-widgets/controls",
      "model_module_version": "1.5.0",
      "model_name": "SliderStyleModel",
      "state": {
       "description_width": ""
      }
     },
     "4dc96a034ac740ca8a8d58e138b51e37": {
      "model_module": "@jupyter-widgets/controls",
      "model_module_version": "1.5.0",
      "model_name": "TextModel",
      "state": {
       "description": "Username",
       "layout": "IPY_MODEL_540fa4236d6b4962be59b54b0ca931e0",
       "style": "IPY_MODEL_a89adbdd079b4dc3b8e72d6644dca7ab"
      }
     },
     "4e138d6da9cc45bb97e69ae9a5c97e15": {
      "model_module": "@jupyter-widgets/controls",
      "model_module_version": "1.5.0",
      "model_name": "DescriptionStyleModel",
      "state": {
       "description_width": ""
      }
     },
     "4e3cdc422c4d4bf9a716c38c00e3a210": {
      "model_module": "@jupyter-widgets/base",
      "model_module_version": "1.2.0",
      "model_name": "LayoutModel",
      "state": {}
     },
     "4e97c2ee6d9144f191e9c164e090a6eb": {
      "model_module": "@jupyter-widgets/controls",
      "model_module_version": "1.5.0",
      "model_name": "ButtonModel",
      "state": {
       "button_style": "success",
       "description": "Login",
       "layout": "IPY_MODEL_5390098d59084dbfa071561c3f354f4b",
       "style": "IPY_MODEL_37d74c0f8f7a4c9e82d70af14c9cfa15"
      }
     },
     "4e9ffd295cb6432289ed19cbbd364e2b": {
      "model_module": "@jupyter-widgets/base",
      "model_module_version": "1.2.0",
      "model_name": "LayoutModel",
      "state": {}
     },
     "4efa7110948645bdbe65e41c3374524b": {
      "model_module": "@jupyter-widgets/base",
      "model_module_version": "1.2.0",
      "model_name": "LayoutModel",
      "state": {}
     },
     "4f3fb6ee417948e6819ce7357313d2f2": {
      "model_module": "@jupyter-widgets/controls",
      "model_module_version": "1.5.0",
      "model_name": "IntSliderModel",
      "state": {
       "description": "times",
       "layout": "IPY_MODEL_77e8881043304336a762c67cea49d024",
       "max": 6,
       "min": -2,
       "style": "IPY_MODEL_bb4943fd2aed4ccea7940eeb4048d183",
       "value": 2
      }
     },
     "4f53d03fd9544713afeef5e11a0b9dda": {
      "model_module": "@jupyter-widgets/controls",
      "model_module_version": "1.5.0",
      "model_name": "DescriptionStyleModel",
      "state": {
       "description_width": ""
      }
     },
     "4f9116fcee18417fb4a4a0c8ce4e15e4": {
      "model_module": "@jupyter-widgets/base",
      "model_module_version": "1.2.0",
      "model_name": "LayoutModel",
      "state": {}
     },
     "4fe127983eb54f379fad3b820fc98258": {
      "model_module": "@jupyter-widgets/controls",
      "model_module_version": "1.5.0",
      "model_name": "DescriptionStyleModel",
      "state": {
       "description_width": ""
      }
     },
     "4ff927666a8a41c79a33fb706844c457": {
      "model_module": "@jupyter-widgets/controls",
      "model_module_version": "1.5.0",
      "model_name": "IntProgressModel",
      "state": {
       "description": "Loading:",
       "layout": "IPY_MODEL_9cc0eabf88ac491fafae148918171c73",
       "max": 10,
       "style": "IPY_MODEL_5e1aac736e2c40e0b4b17387d537c616",
       "value": 5
      }
     },
     "5036263f668c484bb1d353ab865d8264": {
      "model_module": "@jupyter-widgets/controls",
      "model_module_version": "1.5.0",
      "model_name": "ButtonModel",
      "state": {
       "button_style": "danger",
       "icon": "accessible-icon",
       "layout": "IPY_MODEL_f8af5140ef3e404ca50024d9d5f454d9",
       "style": "IPY_MODEL_ba9aef1a023f451886817329ccfdbf1c"
      }
     },
     "50ddf703cff748be8bb87e33f8325653": {
      "model_module": "@jupyter-widgets/base",
      "model_module_version": "1.2.0",
      "model_name": "LayoutModel",
      "state": {}
     },
     "5103da38b34141f49e0ea315978befc3": {
      "model_module": "@jupyter-widgets/base",
      "model_module_version": "1.2.0",
      "model_name": "LayoutModel",
      "state": {}
     },
     "5127ab7184f046a99c1228b77257dfff": {
      "model_module": "@jupyter-widgets/base",
      "model_module_version": "1.2.0",
      "model_name": "LayoutModel",
      "state": {}
     },
     "519d49636d5b44139a351619a31b4625": {
      "model_module": "@jupyter-widgets/base",
      "model_module_version": "1.2.0",
      "model_name": "LayoutModel",
      "state": {}
     },
     "51d4015a98c9498c973b27948e4bd68c": {
      "model_module": "@jupyter-widgets/controls",
      "model_module_version": "1.5.0",
      "model_name": "ButtonModel",
      "state": {
       "button_style": "success",
       "description": "Login",
       "layout": "IPY_MODEL_e533b28fb19e4b478b376941031ebd11",
       "style": "IPY_MODEL_c880a66ff0b94b6fbfad45e6b21a7fe9"
      }
     },
     "51d5ed92f7b44474b1f46a216aacf262": {
      "model_module": "@jupyter-widgets/controls",
      "model_module_version": "1.5.0",
      "model_name": "DescriptionStyleModel",
      "state": {
       "description_width": ""
      }
     },
     "5292590df8f244c8987637da8537ba76": {
      "model_module": "@jupyter-widgets/controls",
      "model_module_version": "1.5.0",
      "model_name": "DescriptionStyleModel",
      "state": {
       "description_width": ""
      }
     },
     "52c1951654764b589d4161479ba07fe0": {
      "model_module": "@jupyter-widgets/controls",
      "model_module_version": "1.5.0",
      "model_name": "DescriptionStyleModel",
      "state": {
       "description_width": ""
      }
     },
     "533e140d9618423c8a4a54492ad4002a": {
      "model_module": "@jupyter-widgets/base",
      "model_module_version": "1.2.0",
      "model_name": "LayoutModel",
      "state": {}
     },
     "534fe2ee6f9b4a8d8b79882940c9f1bd": {
      "model_module": "@jupyter-widgets/base",
      "model_module_version": "1.2.0",
      "model_name": "LayoutModel",
      "state": {}
     },
     "537fbbd3c7ed4d69be971eed0fd6751b": {
      "model_module": "@jupyter-widgets/controls",
      "model_module_version": "1.5.0",
      "model_name": "ValidModel",
      "state": {
       "layout": "IPY_MODEL_5fdc045303484649a7446aaca5ea622f",
       "style": "IPY_MODEL_f6be801aad784ec5a6131f7258151ef4"
      }
     },
     "5390098d59084dbfa071561c3f354f4b": {
      "model_module": "@jupyter-widgets/base",
      "model_module_version": "1.2.0",
      "model_name": "LayoutModel",
      "state": {
       "width": "auto"
      }
     },
     "53a8db4e637d45be8c59849aa246a6c6": {
      "model_module": "@jupyter-widgets/controls",
      "model_module_version": "1.5.0",
      "model_name": "ValidModel",
      "state": {
       "layout": "IPY_MODEL_1fd51a330ed64c53bd600f985c0dd918",
       "style": "IPY_MODEL_8a35e365f02640b18db4ed77f417530f"
      }
     },
     "540fa4236d6b4962be59b54b0ca931e0": {
      "model_module": "@jupyter-widgets/base",
      "model_module_version": "1.2.0",
      "model_name": "LayoutModel",
      "state": {}
     },
     "5412f3d67c0a44419f360c4049d9af32": {
      "model_module": "@jupyter-widgets/output",
      "model_module_version": "1.0.0",
      "model_name": "OutputModel",
      "state": {
       "layout": "IPY_MODEL_4258a8e8460b43118ec41eeb47725d2d",
       "outputs": [
        {
         "name": "stdout",
         "output_type": "stream",
         "text": "\n"
        }
       ]
      }
     },
     "548e39b3cc2642a784f398b6d9c20bad": {
      "model_module": "@jupyter-widgets/base",
      "model_module_version": "1.2.0",
      "model_name": "LayoutModel",
      "state": {}
     },
     "55362c3e54f44ac1b4048576d8bd02a6": {
      "model_module": "@jupyter-widgets/controls",
      "model_module_version": "1.5.0",
      "model_name": "DescriptionStyleModel",
      "state": {
       "description_width": ""
      }
     },
     "55e0c90baea34f21a633e9c4b67e9459": {
      "model_module": "@jupyter-widgets/controls",
      "model_module_version": "1.5.0",
      "model_name": "SliderStyleModel",
      "state": {
       "description_width": ""
      }
     },
     "55ec6b4b22d041acb72a038db1d70d3a": {
      "model_module": "@jupyter-widgets/controls",
      "model_module_version": "1.5.0",
      "model_name": "DescriptionStyleModel",
      "state": {
       "description_width": ""
      }
     },
     "56477a9d861144d0bc4e95a78b4ca4bb": {
      "model_module": "@jupyter-widgets/base",
      "model_module_version": "1.2.0",
      "model_name": "LayoutModel",
      "state": {
       "width": "auto"
      }
     },
     "56d377e589a44fddb4978e2a0fa85a2e": {
      "model_module": "@jupyter-widgets/base",
      "model_module_version": "1.2.0",
      "model_name": "LayoutModel",
      "state": {}
     },
     "57ee790dccfd4e59b320e166a54c9dae": {
      "model_module": "@jupyter-widgets/controls",
      "model_module_version": "1.5.0",
      "model_name": "ValidModel",
      "state": {
       "layout": "IPY_MODEL_1e99876f796241b291cdd5457d2c9bb9",
       "style": "IPY_MODEL_d46e1605d6614f2995b905ef879fdf37"
      }
     },
     "588298a3d49344d2ae2955d9d45ad7a3": {
      "model_module": "@jupyter-widgets/base",
      "model_module_version": "1.2.0",
      "model_name": "LayoutModel",
      "state": {
       "width": "auto"
      }
     },
     "596ee6dc5354485ca2471cdb9cd725b9": {
      "model_module": "@jupyter-widgets/output",
      "model_module_version": "1.0.0",
      "model_name": "OutputModel",
      "state": {
       "layout": "IPY_MODEL_3a612638f8ea45ff960f62ad51e0337b",
       "outputs": [
        {
         "name": "stdout",
         "output_type": "stream",
         "text": "asd asd asd \n"
        }
       ]
      }
     },
     "59745794217c4c0dbeb7a8125df7a9cf": {
      "model_module": "@jupyter-widgets/controls",
      "model_module_version": "1.5.0",
      "model_name": "ButtonStyleModel",
      "state": {}
     },
     "59a449972a3d4b4ea10be3e8fe11c85a": {
      "model_module": "@jupyter-widgets/base",
      "model_module_version": "1.2.0",
      "model_name": "LayoutModel",
      "state": {}
     },
     "59bcd3b37427481eb0beeba8f69034d8": {
      "model_module": "@jupyter-widgets/controls",
      "model_module_version": "1.5.0",
      "model_name": "DescriptionStyleModel",
      "state": {
       "description_width": ""
      }
     },
     "5a5cbccab3b645e98b8de637ad818e93": {
      "model_module": "@jupyter-widgets/controls",
      "model_module_version": "1.5.0",
      "model_name": "FloatSliderModel",
      "state": {
       "description": "m",
       "layout": "IPY_MODEL_c035391666aa4f5f947b8e996a826235",
       "max": 2,
       "min": -2,
       "step": 0.1,
       "style": "IPY_MODEL_ef4848dec02d4b32834f905f3b380bd2",
       "value": 0.4
      }
     },
     "5a6eba6a7dc34245a0b381f6a2e584fc": {
      "model_module": "@jupyter-widgets/output",
      "model_module_version": "1.0.0",
      "model_name": "OutputModel",
      "state": {
       "layout": "IPY_MODEL_dac8aae4695d4c46b4147f3e573d69b1",
       "outputs": [
        {
         "data": {
          "image/png": "iVBORw0KGgoAAAANSUhEUgAAAXYAAAD8CAYAAABjAo9vAAAABHNCSVQICAgIfAhkiAAAAAlwSFlzAAALEgAACxIB0t1+/AAAADl0RVh0U29mdHdhcmUAbWF0cGxvdGxpYiB2ZXJzaW9uIDIuMi4zLCBodHRwOi8vbWF0cGxvdGxpYi5vcmcvIxREBQAADaNJREFUeJzt3W2MXOdZh/HrxtsEQUOTYIe82GYTEVW4gNSwMoXwUiUhdUxIAAFyJSAiSFZBkRKJqk2wVAr9VCoKQhQi00a8RSRAG2oiR4nTJkJ8SOja2E5cJ80muNS1m2woJEWRWqzefJhjNFrP7M7OOTNr31w/abQz5zzznHuec/yfZ86c9UZmIkmq41vWugBJUrcMdkkqxmCXpGIMdkkqxmCXpGIMdkkqxmCXpGIMdkkqxmCXpGJm1mKj69evz9nZ2bXYtCSds/bv3/9qZm5Yqd2aBPvs7Czz8/NrsWlJOmdFxBdHaeepGEkqxmCXpGIMdkkqxmCXpGIMdkkqxmCXpGIMdkkqxmCXpGIMdkkqxmCXpGIMdkkqxmCXpGIMdkkqxmCXpGIMdkkqxmCXpGI6C/aIWBcR/xoRD3fVpyRp9bqcsd8JHO2wP0nSGDoJ9ojYCPwU8PEu+pMkja+rGfsfAu8DvtlRf5KkMbUO9oi4GXglM/ev0G5nRMxHxPzi4mLbzUqShuhixn4tcEtEHAMeAK6LiL9e2igzd2fmXGbObdiwoYPNSpIGaR3smXlPZm7MzFlgB/DZzPyl1pVJksbideySVMxMl51l5pPAk132KUlaHWfsklSMwS5JxRjsklSMwS5JxRjsklSMwS5JxRjsklSMwS5JxRjsklSMwS5JxRjsklSMwS5JxRjsklSMwS5JxRjsklSMwS5JxRjsklSMwS5JxRjsklSMwS5JxRjsklSMwS5JxRjsklSMwS5JxRjsklSMwS5JxRjsklSMwS5JxRjsklSMwS5JxRjsklSMwS5JxRjsklSMwS5JxRjsklRM62CPiE0R8UREHI2IIxFxZxeFSZLGM9NBH6eA38zMAxFxAbA/IvZl5uc76FuStEqtZ+yZeTIzDzT3vwYcBa5o268kaTydnmOPiFng7cDTXfYrSRpdZ8EeEW8GPgnclZmvD1i/MyLmI2J+cXGxq81KkpboJNgj4k30Qv3+zPzUoDaZuTsz5zJzbsOGDV1sVpI0QBdXxQTwCeBoZn60fUmSpDa6mLFfC/wycF1EHGxu2zvoV5I0htaXO2bmPwPRQS2SpA74m6eSVIzBLknFGOySVIzBLknFGOySVIzBLknFGOySVIzBLknFGOySVIzBLknFGOySVIzBLknFGOySVIzBLknFGOySVIzBLknFGOySVIzBLknFGOySVIzBLknFGOySVIzBLknFGOySVIzBLknFGOySVIzBLknFGOySVIzBLknFGOySVIzBLknFGOySVIzBLknFGOySVIzBLknFdBLsEbEtIp6PiIWIuLuLPiVJ42kd7BGxDvgYcBOwBXh3RGxp268kaTxdzNi3AguZ+VJmfgN4ALi1g34lSWOY6aCPK4Av9T0+DvxQB/2e4Xf+8QifP/H6JLqWpKnYcvl38Ns//baJbqOLGXsMWJZnNIrYGRHzETG/uLjYwWYlSYN0MWM/Dmzqe7wROLG0UWbuBnYDzM3NnRH8o5j0u5wkVdDFjP1zwNURcWVEnAfsAPZ00K8kaQytZ+yZeSoi7gAeBdYB92XmkdaVSZLG0sWpGDJzL7C3i74kSe34m6eSVIzBLknFGOySVIzBLknFGOySVIzBLknFGOySVIzBLknFGOySVIzBLknFGOySVIzBLknFGOySVIzBLknFGOySVIzBLknFGOySVIzBLknFGOySVIzBLknFGOySVIzBLknFGOySVIzBLknFGOySVIzBLknFGOySVIzBLknFGOySVIzBLknFGOySVIzBLknFGOySVIzBLknFGOySVEyrYI+Ij0TEcxFxOCIeiogLuypMkjSetjP2fcD3ZeYPAF8A7mlfkiSpjVbBnpmPZeap5uFTwMb2JUmS2ujyHPvtwCMd9idJGsPMSg0i4nHg0gGrdmXmp5s2u4BTwP3L9LMT2AmwefPmsYqVJK1sxWDPzBuWWx8RtwE3A9dnZi7Tz25gN8Dc3NzQdpKkdlYM9uVExDbg/cBPZOYb3ZQkSWqj7Tn2PwYuAPZFxMGIuLeDmiRJLbSasWfm93RViCSpG/7mqSQVY7BLUjEGuyQVY7BLUjEGuyQVY7BLUjEGuyQVY7BLUjEGuyQVY7BLUjEGuyQVY7BLUjEGuyQVY7BLUjEGuyQVY7BLUjEGuyQVY7BLUjEGuyQVY7BLUjEGuyQVY7BLUjEGuyQVY7BLUjEGuyQVY7BLUjEGuyQVY7BLUjEGuyQVY7BLUjEGuyQVY7BLUjEGuyQVY7BLUjGdBHtEvDciMiLWd9GfJGl8rYM9IjYBPwn8e/tyJEltdTFj/wPgfUB20JckqaVWwR4RtwBfzsxDHdUjSWppZqUGEfE4cOmAVbuA3wJuHGVDEbET2AmwefPmVZQoSVqNyBzvDEpEfD/wGeCNZtFG4ASwNTO/stxz5+bmcn5+fqztStL/VxGxPzPnVmq34ox9mMx8Brikb4PHgLnMfHXcPiVJ7XkduyQVM/aMfanMnO2qL0nS+JyxS1IxBrskFWOwS1IxBrskFWOwS1IxBrskFWOwS1IxBrskFWOwS1IxBrskFWOwS1IxBrskFWOwS1IxBrskFWOwS1IxBrskFWOwS1IxY/8x61YbjVgEvjjm09cDZ+PfVbWu1bGu1bGu1Tlb64J2tX13Zm5YqdGaBHsbETE/yl/pnjbrWh3rWh3rWp2ztS6YTm2eipGkYgx2SSrmXAz23WtdwBDWtTrWtTrWtTpna10whdrOuXPskqTlnYszdknSMs7KYI+IX4iIIxHxzYiYW7LunohYiIjnI+JdQ55/ZUQ8HREvRMSDEXHeBGp8MCIONrdjEXFwSLtjEfFM026+6zoGbO+DEfHlvtq2D2m3rRnDhYi4ewp1fSQinouIwxHxUERcOKTdVMZrpdcfEec3+3ihOZZmJ1VL3zY3RcQTEXG0Of7vHNDmnRHxWt/+/cCk62q2u+x+iZ4/asbrcERcM4Wa3to3Dgcj4vWIuGtJm6mNV0TcFxGvRMSzfcsujoh9TRbti4iLhjz3tqbNCxFxW+tiMvOsuwHfC7wVeBKY61u+BTgEnA9cCbwIrBvw/L8FdjT37wV+fcL1/j7wgSHrjgHrpzh2HwTeu0Kbdc3YXQWc14zplgnXdSMw09z/MPDhtRqvUV4/8BvAvc39HcCDU9h3lwHXNPcvAL4woK53Ag9P63gadb8A24FHgADeATw95frWAV+hd533mowX8OPANcCzfct+D7i7uX/3oOMeuBh4qfl5UXP/oja1nJUz9sw8mpnPD1h1K/BAZn49M/8NWAC29jeIiACuA/6+WfQXwM9MqtZme78I/M2ktjEBW4GFzHwpM78BPEBvbCcmMx/LzFPNw6eAjZPc3gpGef230jt2oHcsXd/s64nJzJOZeaC5/zXgKHDFJLfZoVuBv8yep4ALI+KyKW7/euDFzBz3Fx9by8x/Ar66ZHH/cTQsi94F7MvMr2bmfwL7gG1tajkrg30ZVwBf6nt8nDMP/O8E/qsvRAa16dKPAS9n5gtD1ifwWETsj4idE6yj3x3Nx+H7hnz0G2UcJ+l2erO7QaYxXqO8/v9r0xxLr9E7tqaiOfXzduDpAat/OCIORcQjEfG2KZW00n5Z62NqB8MnV2sxXqd9V2aehN4bN3DJgDadj91Mmye3ERGPA5cOWLUrMz897GkDli29rGeUNiMZscZ3s/xs/drMPBERlwD7IuK55p19bMvVBfwp8CF6r/lD9E4T3b60iwHPbX151CjjFRG7gFPA/UO66Xy8BpU6YNnEjqPViog3A58E7srM15esPkDvdMN/N9+f/ANw9RTKWmm/rOV4nQfcAtwzYPVajddqdD52axbsmXnDGE87Dmzqe7wROLGkzav0PgbONDOtQW06qTEiZoCfA35wmT5OND9fiYiH6J0GaBVUo45dRPwZ8PCAVaOMY+d1NV8K3Qxcn83JxQF9dD5eA4zy+k+3Od7s57dw5sfszkXEm+iF+v2Z+aml6/uDPjP3RsSfRMT6zJzo/4sywn6ZyDE1opuAA5n58tIVazVefV6OiMsy82RzauqVAW2O0/su4LSN9L5fHNu5dipmD7CjuWLhSnrvvP/S36AJjCeAn28W3QYM+wTQ1g3Ac5l5fNDKiPj2iLjg9H16XyA+O6htV5ac1/zZIdv7HHB19K4eOo/ex9g9E65rG/B+4JbMfGNIm2mN1yivfw+9Ywd6x9Jnh70ZdaU5h/8J4GhmfnRIm0tPn+uPiK30/g3/x4TrGmW/7AF+pbk65h3Aa6dPQUzB0E/NazFeS/QfR8Oy6FHgxoi4qDl1emOzbHzT+LZ4tTd6gXQc+DrwMvBo37pd9K5oeB64qW/5XuDy5v5V9AJ/Afg74PwJ1fnnwHuWLLsc2NtXx6HmdoTeKYlJj91fAc8Ah5uD6rKldTWPt9O76uLFKdW1QO884sHmdu/SuqY5XoNeP/C79N54AL61OXYWmmPpqimM0Y/S+wh+uG+ctgPvOX2cAXc0Y3OI3pfQPzKFugbulyV1BfCxZjyfoe9qtgnX9m30gvotfcvWZLzovbmcBP6nya9fo/e9zGeAF5qfFzdt54CP9z339uZYWwB+tW0t/uapJBVzrp2KkSStwGCXpGIMdkkqxmCXpGIMdkkqxmCXpGIMdkkqxmCXpGL+F6/JAyRQbGLGAAAAAElFTkSuQmCC\n",
          "text/plain": "<Figure size 432x288 with 1 Axes>"
         },
         "metadata": {
          "needs_background": "light"
         },
         "output_type": "display_data"
        }
       ]
      }
     },
     "5ae17b69a54c4ba98779ed327700f7ce": {
      "model_module": "@jupyter-widgets/base",
      "model_module_version": "1.2.0",
      "model_name": "LayoutModel",
      "state": {}
     },
     "5ba8a3c1b399437583178ca00ca2dd0d": {
      "model_module": "@jupyter-widgets/controls",
      "model_module_version": "1.5.0",
      "model_name": "VBoxModel",
      "state": {
       "_dom_classes": [
        "widget-interact"
       ],
       "children": [
        "IPY_MODEL_f463bc45e09f42ee86ccbce74ff591dc",
        "IPY_MODEL_3e2346cc05424fb192c19497094714ac",
        "IPY_MODEL_002dc063bbb645f988000195f3ddcc4e",
        "IPY_MODEL_8b62c36d1f1e43f39824f6a6e98a840b"
       ],
       "layout": "IPY_MODEL_d507ea5d842049f39d2eaf4a2f94e5ff"
      }
     },
     "5be5a1d1edf84a83bad5bcdbc3ba5d01": {
      "model_module": "@jupyter-widgets/base",
      "model_module_version": "1.2.0",
      "model_name": "LayoutModel",
      "state": {
       "width": "auto"
      }
     },
     "5be6ed7ed51a41f8964cec35557bb0be": {
      "model_module": "@jupyter-widgets/base",
      "model_module_version": "1.2.0",
      "model_name": "LayoutModel",
      "state": {
       "width": "auto"
      }
     },
     "5c17bc5d396940158e823b4d232e946b": {
      "model_module": "@jupyter-widgets/controls",
      "model_module_version": "1.5.0",
      "model_name": "DropdownModel",
      "state": {
       "_options_labels": [
        "Apple",
        "Orange",
        "Pineapple"
       ],
       "description": "Fruit:",
       "index": 0,
       "layout": "IPY_MODEL_c0d3c3cf2fb141e998894216002f5444",
       "style": "IPY_MODEL_be6ac9c51f594f1eb8ecf86b2bf4ad65"
      }
     },
     "5c1e245482c34aba92b45e5390cc7fc7": {
      "model_module": "@jupyter-widgets/base",
      "model_module_version": "1.2.0",
      "model_name": "LayoutModel",
      "state": {}
     },
     "5cfe617e75ae428cb419bb74479336da": {
      "model_module": "@jupyter-widgets/base",
      "model_module_version": "1.2.0",
      "model_name": "LayoutModel",
      "state": {
       "width": "auto"
      }
     },
     "5d2f51333f72472f893daa20a778b45a": {
      "model_module": "@jupyter-widgets/controls",
      "model_module_version": "1.5.0",
      "model_name": "DescriptionStyleModel",
      "state": {
       "description_width": ""
      }
     },
     "5d8659be104147a98049e24c6e43e255": {
      "model_module": "@jupyter-widgets/controls",
      "model_module_version": "1.5.0",
      "model_name": "ButtonModel",
      "state": {
       "description": "Say Hello",
       "layout": "IPY_MODEL_4efa7110948645bdbe65e41c3374524b",
       "style": "IPY_MODEL_6575b12af75f4329802c2a3cc11faa8f"
      }
     },
     "5e1aac736e2c40e0b4b17387d537c616": {
      "model_module": "@jupyter-widgets/controls",
      "model_module_version": "1.5.0",
      "model_name": "ProgressStyleModel",
      "state": {
       "description_width": ""
      }
     },
     "5e4450b6d4b2454d81661bcc91d9b6e2": {
      "model_module": "@jupyter-widgets/base",
      "model_module_version": "1.2.0",
      "model_name": "LayoutModel",
      "state": {}
     },
     "5f9567e40a3542a38eab590f396079e3": {
      "model_module": "@jupyter-widgets/base",
      "model_module_version": "1.2.0",
      "model_name": "LayoutModel",
      "state": {}
     },
     "5fa65023f9894b3595061c1834c6de6d": {
      "model_module": "@jupyter-widgets/base",
      "model_module_version": "1.2.0",
      "model_name": "LayoutModel",
      "state": {
       "justify_content": "center",
       "margin": "0 0 0 100px"
      }
     },
     "5fb2f8655344489b9590a27b2770aa3c": {
      "model_module": "@jupyter-widgets/controls",
      "model_module_version": "1.5.0",
      "model_name": "DescriptionStyleModel",
      "state": {
       "description_width": ""
      }
     },
     "5fb894033973407d9ba7b9f88821bece": {
      "model_module": "@jupyter-widgets/base",
      "model_module_version": "1.2.0",
      "model_name": "LayoutModel",
      "state": {}
     },
     "5fc2b8158c904b68913dc301bf94e821": {
      "model_module": "@jupyter-widgets/base",
      "model_module_version": "1.2.0",
      "model_name": "LayoutModel",
      "state": {
       "height": "350px"
      }
     },
     "5fdc045303484649a7446aaca5ea622f": {
      "model_module": "@jupyter-widgets/base",
      "model_module_version": "1.2.0",
      "model_name": "LayoutModel",
      "state": {}
     },
     "602f18420c084caeb169474560e0637b": {
      "model_module": "@jupyter-widgets/controls",
      "model_module_version": "1.5.0",
      "model_name": "DescriptionStyleModel",
      "state": {
       "description_width": ""
      }
     },
     "604e1601ca944aec87a5a93151b87fbb": {
      "model_module": "@jupyter-widgets/controls",
      "model_module_version": "1.5.0",
      "model_name": "ButtonStyleModel",
      "state": {}
     },
     "604f8c8639c842b3a5171ac123a86c0c": {
      "model_module": "@jupyter-widgets/controls",
      "model_module_version": "1.5.0",
      "model_name": "HTMLModel",
      "state": {
       "layout": "IPY_MODEL_b9ba6ef0d5af4ed0b9e4926d5c64ce14",
       "style": "IPY_MODEL_de9755c28b1d4f4dbc87d524066cc0d0",
       "value": "<h3 class='text-center'><font color='green'>Login</font> to <a stc='https://github.com/'>Github</a><h3>"
      }
     },
     "6116f479fbe54d149da0f4e7d802f74e": {
      "model_module": "@jupyter-widgets/controls",
      "model_module_version": "1.5.0",
      "model_name": "DescriptionStyleModel",
      "state": {
       "description_width": ""
      }
     },
     "611a4d4e8f044fc29534526fcbb9e54e": {
      "model_module": "@jupyter-widgets/output",
      "model_module_version": "1.0.0",
      "model_name": "OutputModel",
      "state": {
       "layout": "IPY_MODEL_437abc0a8f9144dfac7c6a3a02271b4d",
       "outputs": [
        {
         "data": {
          "image/png": "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\n",
          "text/plain": "<Figure size 432x288 with 1 Axes>"
         },
         "metadata": {
          "needs_background": "light"
         },
         "output_type": "display_data"
        }
       ]
      }
     },
     "61588f91f66a4fa9b6217074e12ad12a": {
      "model_module": "@jupyter-widgets/controls",
      "model_module_version": "1.5.0",
      "model_name": "VBoxModel",
      "state": {
       "_dom_classes": [
        "widget-interact"
       ],
       "children": [
        "IPY_MODEL_2525b97b76b54cbdbdaba43f590c4e51",
        "IPY_MODEL_ffc57822b3a54c55895fca1547837b4a",
        "IPY_MODEL_ac5d39ce74854b5d893d7497dd41f94e",
        "IPY_MODEL_bbc8dffd892a48e08cab503fbbad68bf"
       ],
       "layout": "IPY_MODEL_e04d10ce02e84d95a6d31116b111a428"
      }
     },
     "61fc1b680f364163bac970ce962d3c17": {
      "model_module": "@jupyter-widgets/controls",
      "model_module_version": "1.5.0",
      "model_name": "TextModel",
      "state": {
       "description": "String:",
       "layout": "IPY_MODEL_56d377e589a44fddb4978e2a0fa85a2e",
       "placeholder": "Type something",
       "style": "IPY_MODEL_ce01e81755ce4b64a237fec4a0ec9dcf"
      }
     },
     "61ff15392f224127af427e308a4f8e0a": {
      "model_module": "@jupyter-widgets/base",
      "model_module_version": "1.2.0",
      "model_name": "LayoutModel",
      "state": {}
     },
     "623b9249e2b44177ad0f71e27a758c12": {
      "model_module": "@jupyter-widgets/base",
      "model_module_version": "1.2.0",
      "model_name": "LayoutModel",
      "state": {}
     },
     "631bb944e738435088a6c8808e62fc3b": {
      "model_module": "@jupyter-widgets/controls",
      "model_module_version": "1.5.0",
      "model_name": "SliderStyleModel",
      "state": {
       "description_width": ""
      }
     },
     "6358fd67824b4dca85e0cfe1c5c67b7a": {
      "model_module": "@jupyter-widgets/controls",
      "model_module_version": "1.5.0",
      "model_name": "FloatSliderModel",
      "state": {
       "description": "m",
       "layout": "IPY_MODEL_349297bc89c64718baee8eff2cc6a077",
       "max": 2,
       "min": -2,
       "step": 0.1,
       "style": "IPY_MODEL_35da0dfa411a4f77999678024b550398"
      }
     },
     "63d4c5eb3bee44bf87a34609ff536185": {
      "model_module": "@jupyter-widgets/controls",
      "model_module_version": "1.5.0",
      "model_name": "DescriptionStyleModel",
      "state": {
       "description_width": ""
      }
     },
     "63d9b85be25b4eb5ac341c64e0237314": {
      "model_module": "@jupyter-widgets/base",
      "model_module_version": "1.2.0",
      "model_name": "LayoutModel",
      "state": {}
     },
     "64211c8a3aad472b850789431d779535": {
      "model_module": "@jupyter-widgets/controls",
      "model_module_version": "1.5.0",
      "model_name": "DescriptionStyleModel",
      "state": {
       "description_width": ""
      }
     },
     "643ea9daf4514c959fda4f52e178f6bc": {
      "model_module": "@jupyter-widgets/controls",
      "model_module_version": "1.5.0",
      "model_name": "DescriptionStyleModel",
      "state": {
       "description_width": ""
      }
     },
     "64af44256e0e459682c716351f9e62b7": {
      "model_module": "@jupyter-widgets/controls",
      "model_module_version": "1.5.0",
      "model_name": "FloatSliderModel",
      "state": {
       "description": "b",
       "layout": "IPY_MODEL_05fe37d076ea44d8b104fcf0b9f322d8",
       "max": 3,
       "min": -3,
       "step": 0.5,
       "style": "IPY_MODEL_13c0ac1b3d974359b80913b175d53a55"
      }
     },
     "64dca9399a964a738bf2b5fcd6193ab3": {
      "model_module": "@jupyter-widgets/base",
      "model_module_version": "1.2.0",
      "model_name": "LayoutModel",
      "state": {}
     },
     "655703ec87e74213bf44fe23c2501348": {
      "model_module": "@jupyter-widgets/base",
      "model_module_version": "1.2.0",
      "model_name": "LayoutModel",
      "state": {
       "width": "auto"
      }
     },
     "6575b12af75f4329802c2a3cc11faa8f": {
      "model_module": "@jupyter-widgets/controls",
      "model_module_version": "1.5.0",
      "model_name": "ButtonStyleModel",
      "state": {}
     },
     "65acc1fdd4cb421a952fdf96c6a611e5": {
      "model_module": "@jupyter-widgets/controls",
      "model_module_version": "1.5.0",
      "model_name": "DescriptionStyleModel",
      "state": {
       "description_width": ""
      }
     },
     "65b5cf961a7d4121909abe134f7b8569": {
      "model_module": "@jupyter-widgets/base",
      "model_module_version": "1.2.0",
      "model_name": "LayoutModel",
      "state": {}
     },
     "65b5e805be414cc792867becacfbc623": {
      "model_module": "@jupyter-widgets/base",
      "model_module_version": "1.2.0",
      "model_name": "LayoutModel",
      "state": {
       "visibility": "hidden"
      }
     },
     "66ae4bcb34bc446987de6bc627156bbe": {
      "model_module": "@jupyter-widgets/controls",
      "model_module_version": "1.5.0",
      "model_name": "IntSliderModel",
      "state": {
       "description": "times",
       "layout": "IPY_MODEL_757c72504b4c4c638b60a9fa89e00c20",
       "max": 3,
       "min": -1,
       "style": "IPY_MODEL_234136d1c10d4f67b9348f394f8564e4",
       "value": 3
      }
     },
     "672526c5544e40349a6ab6840031c86d": {
      "model_module": "@jupyter-widgets/controls",
      "model_module_version": "1.5.0",
      "model_name": "VBoxModel",
      "state": {
       "_dom_classes": [
        "widget-interact"
       ],
       "children": [
        "IPY_MODEL_c3a5141713484f54b833492b89aaddaf",
        "IPY_MODEL_fe4885bf9db94314b3a489ec502b29d0",
        "IPY_MODEL_7c90a909defd4a2687cf17a01b1dacb7"
       ],
       "layout": "IPY_MODEL_59a449972a3d4b4ea10be3e8fe11c85a"
      }
     },
     "67957b6b48b34957b7671d2b3196eabd": {
      "model_module": "@jupyter-widgets/base",
      "model_module_version": "1.2.0",
      "model_name": "LayoutModel",
      "state": {}
     },
     "6813ec35c2924c948c55b0b41838a6ad": {
      "model_module": "@jupyter-widgets/base",
      "model_module_version": "1.2.0",
      "model_name": "LayoutModel",
      "state": {}
     },
     "682dcb6d33ac473ab56bdbf885b0e0de": {
      "model_module": "@jupyter-widgets/base",
      "model_module_version": "1.2.0",
      "model_name": "LayoutModel",
      "state": {}
     },
     "68490412132e4674aeb4940d2a175b12": {
      "model_module": "@jupyter-widgets/base",
      "model_module_version": "1.2.0",
      "model_name": "LayoutModel",
      "state": {}
     },
     "691bfc92c2374f359b2246f0696d3d66": {
      "model_module": "@jupyter-widgets/controls",
      "model_module_version": "1.5.0",
      "model_name": "VBoxModel",
      "state": {
       "children": [
        "IPY_MODEL_0805b473f0534b9aa21fe6decd2a6117",
        "IPY_MODEL_f2ef65d921e64a2cabc4c36c09904081",
        "IPY_MODEL_3ab872b3e3464821b1d70b1e538387b8",
        "IPY_MODEL_c6c0c239071d435c9bf86de436cf8851"
       ],
       "layout": "IPY_MODEL_81d9a527c45e4fd6adc3d5d1b215bdcc"
      }
     },
     "6949b70ce0a44f2b81148d70e84ea628": {
      "model_module": "@jupyter-widgets/controls",
      "model_module_version": "1.5.0",
      "model_name": "SliderStyleModel",
      "state": {
       "description_width": ""
      }
     },
     "699f93140cf6497b895aba7a0d76b6f1": {
      "model_module": "@jupyter-widgets/controls",
      "model_module_version": "1.5.0",
      "model_name": "IntSliderModel",
      "state": {
       "layout": "IPY_MODEL_6e9bd94c329c4636b8de6978b717f999",
       "style": "IPY_MODEL_21f644c0df4042ea9149bc302a0120e3"
      }
     },
     "69f448d84c784b7ba8dd376397d93aaf": {
      "model_module": "@jupyter-widgets/controls",
      "model_module_version": "1.5.0",
      "model_name": "DescriptionStyleModel",
      "state": {
       "description_width": ""
      }
     },
     "6a9b32bbf9d1419ab61c936a09d5593e": {
      "model_module": "@jupyter-widgets/controls",
      "model_module_version": "1.5.0",
      "model_name": "ButtonStyleModel",
      "state": {}
     },
     "6ae9d9abdb6342179821b2ea32baf17d": {
      "model_module": "@jupyter-widgets/controls",
      "model_module_version": "1.5.0",
      "model_name": "PasswordModel",
      "state": {
       "description": "Password",
       "layout": "IPY_MODEL_17071d2643794f4bb8a040943f108ea2",
       "style": "IPY_MODEL_c5278b17840649a5a2ea070918b88695"
      }
     },
     "6b3383dd3e8b4870bcb0b5ca48fbed8f": {
      "model_module": "@jupyter-widgets/base",
      "model_module_version": "1.2.0",
      "model_name": "LayoutModel",
      "state": {}
     },
     "6b83689ed2324c7da3ebfb269805a3aa": {
      "model_module": "@jupyter-widgets/controls",
      "model_module_version": "1.5.0",
      "model_name": "TextModel",
      "state": {
       "description": "Username",
       "layout": "IPY_MODEL_344d50747ca44b51804ea0c4f92957c9",
       "style": "IPY_MODEL_6dd1be02d237462d847ca7463b0c14f0"
      }
     },
     "6bf3f10cf66441f6b07935de1cc5435d": {
      "model_module": "@jupyter-widgets/controls",
      "model_module_version": "1.5.0",
      "model_name": "VBoxModel",
      "state": {
       "children": [
        "IPY_MODEL_099b79a905384a0ea8d49b57bdedc4c8",
        "IPY_MODEL_85199622551f4c8e81962d6f0b12c8ff",
        "IPY_MODEL_33ad785ca46f480db334d1d87662adff",
        "IPY_MODEL_7004d73ef75c494997acbb7d8cfffd53"
       ],
       "layout": "IPY_MODEL_e60a95d0aa8947a5bc33eeace08beaeb"
      }
     },
     "6c3eb368177d46deb5cb9fd476c677eb": {
      "model_module": "@jupyter-widgets/base",
      "model_module_version": "1.2.0",
      "model_name": "LayoutModel",
      "state": {}
     },
     "6cc3623520b04777a34adc5ef6f95805": {
      "model_module": "@jupyter-widgets/base",
      "model_module_version": "1.2.0",
      "model_name": "LayoutModel",
      "state": {}
     },
     "6d61c9bca4c94844ba89376f27c79d45": {
      "model_module": "@jupyter-widgets/controls",
      "model_module_version": "1.5.0",
      "model_name": "ButtonModel",
      "state": {
       "description": "Say Hello",
       "layout": "IPY_MODEL_0aef3b52610248039073f1b85778369a",
       "style": "IPY_MODEL_942635841cf746b9a9492ae046ff8682"
      }
     },
     "6d7720dfb68e4b8faa27cae1af35ee1f": {
      "model_module": "@jupyter-widgets/base",
      "model_module_version": "1.2.0",
      "model_name": "LayoutModel",
      "state": {}
     },
     "6d91df807ba9451299de19f75f696f2e": {
      "model_module": "@jupyter-widgets/controls",
      "model_module_version": "1.5.0",
      "model_name": "DescriptionStyleModel",
      "state": {
       "description_width": ""
      }
     },
     "6dd1be02d237462d847ca7463b0c14f0": {
      "model_module": "@jupyter-widgets/controls",
      "model_module_version": "1.5.0",
      "model_name": "DescriptionStyleModel",
      "state": {
       "description_width": ""
      }
     },
     "6e9bd94c329c4636b8de6978b717f999": {
      "model_module": "@jupyter-widgets/base",
      "model_module_version": "1.2.0",
      "model_name": "LayoutModel",
      "state": {}
     },
     "6ed9ad978e5c466b9274c4c8f835dc7b": {
      "model_module": "@jupyter-widgets/base",
      "model_module_version": "1.2.0",
      "model_name": "LayoutModel",
      "state": {}
     },
     "6f93edd7866548449d5a3499a7140f66": {
      "model_module": "@jupyter-widgets/base",
      "model_module_version": "1.2.0",
      "model_name": "LayoutModel",
      "state": {}
     },
     "6fe9c85881a4410d9b0f357a0310ada3": {
      "model_module": "@jupyter-widgets/controls",
      "model_module_version": "1.5.0",
      "model_name": "DropdownModel",
      "state": {
       "_options_labels": [
        "0",
        "5"
       ],
       "description": "times",
       "index": 1,
       "layout": "IPY_MODEL_125845ebe3ca488fa50de8db3fda5377",
       "style": "IPY_MODEL_16af3e0c90f541c4b60b20ecddf0bd51"
      }
     },
     "7004d73ef75c494997acbb7d8cfffd53": {
      "model_module": "@jupyter-widgets/controls",
      "model_module_version": "1.5.0",
      "model_name": "HBoxModel",
      "state": {
       "children": [
        "IPY_MODEL_1c927fff1f1046ed961724e58240649c",
        "IPY_MODEL_30ebbfea17b74107839661e00a2bbd8b"
       ],
       "layout": "IPY_MODEL_5fa65023f9894b3595061c1834c6de6d"
      }
     },
     "702ba5db755b4e1382bce063123c0fcf": {
      "model_module": "@jupyter-widgets/base",
      "model_module_version": "1.2.0",
      "model_name": "LayoutModel",
      "state": {
       "width": "auto"
      }
     },
     "70669c0fd2ba47dd9bfb7b0eeecc15c6": {
      "model_module": "@jupyter-widgets/controls",
      "model_module_version": "1.5.0",
      "model_name": "ButtonModel",
      "state": {
       "button_style": "danger",
       "icon": "battery-quarter",
       "layout": "IPY_MODEL_0f1b7bc1c01b40b799fbf69f3656dc16",
       "style": "IPY_MODEL_8f9ec05de84f4f4a9a7e7a82fb2a49c6"
      }
     },
     "70c0599b8f6a4158a1ff5eb22b4595c5": {
      "model_module": "@jupyter-widgets/base",
      "model_module_version": "1.2.0",
      "model_name": "LayoutModel",
      "state": {}
     },
     "71191d03127447558e361472770e60a8": {
      "model_module": "@jupyter-widgets/base",
      "model_module_version": "1.2.0",
      "model_name": "LayoutModel",
      "state": {}
     },
     "72a3e5ed23d84cf8b29984700e26a0d0": {
      "model_module": "@jupyter-widgets/base",
      "model_module_version": "1.2.0",
      "model_name": "LayoutModel",
      "state": {
       "justify_content": "center",
       "margin": "0 0 0 100px"
      }
     },
     "7392c562668547879100d9788f9ddfc0": {
      "model_module": "@jupyter-widgets/base",
      "model_module_version": "1.2.0",
      "model_name": "LayoutModel",
      "state": {}
     },
     "73eb23e6c4444efda8998de56b468fb4": {
      "model_module": "@jupyter-widgets/controls",
      "model_module_version": "1.5.0",
      "model_name": "ButtonStyleModel",
      "state": {}
     },
     "742bf21cf5494583bbf5aaf847b80342": {
      "model_module": "@jupyter-widgets/controls",
      "model_module_version": "1.5.0",
      "model_name": "ButtonModel",
      "state": {
       "button_style": "success",
       "description": "Login",
       "layout": "IPY_MODEL_5cfe617e75ae428cb419bb74479336da",
       "style": "IPY_MODEL_070e4a7f41e549d698b0f0789b0460b9"
      }
     },
     "74a5346a7f8645ec86d44978aaf3f8a5": {
      "model_module": "@jupyter-widgets/controls",
      "model_module_version": "1.5.0",
      "model_name": "DescriptionStyleModel",
      "state": {
       "description_width": ""
      }
     },
     "75446204067a4ecba5825e4c1610841c": {
      "model_module": "@jupyter-widgets/base",
      "model_module_version": "1.2.0",
      "model_name": "LayoutModel",
      "state": {}
     },
     "754dd4054f78455eb882b4bd54345dcc": {
      "model_module": "@jupyter-widgets/controls",
      "model_module_version": "1.5.0",
      "model_name": "VBoxModel",
      "state": {
       "children": [
        "IPY_MODEL_07fa4e3a274b458c8c43e53a6fbbf970",
        "IPY_MODEL_4dc96a034ac740ca8a8d58e138b51e37",
        "IPY_MODEL_3e5b8adcfd244bb7bde8d3082a4c8d68",
        "IPY_MODEL_479e6f539f974f7c9538638b105ae07c"
       ],
       "layout": "IPY_MODEL_19f143958f6c4ee6a44f3bf12778c52f"
      }
     },
     "757c72504b4c4c638b60a9fa89e00c20": {
      "model_module": "@jupyter-widgets/base",
      "model_module_version": "1.2.0",
      "model_name": "LayoutModel",
      "state": {}
     },
     "75dd2c89029149a1b1b2663238836345": {
      "model_module": "@jupyter-widgets/controls",
      "model_module_version": "1.5.0",
      "model_name": "HBoxModel",
      "state": {
       "children": [
        "IPY_MODEL_1638205f8b0440d986885018a29188de",
        "IPY_MODEL_2e7a889c535947aa92cbfefb2ca431b7"
       ],
       "layout": "IPY_MODEL_83776b9a479940b2a5f77e1692ea8938"
      }
     },
     "75ed9113328d41bc9f1790acde526ab7": {
      "model_module": "@jupyter-widgets/controls",
      "model_module_version": "1.5.0",
      "model_name": "ProgressStyleModel",
      "state": {
       "description_width": ""
      }
     },
     "76d251d4e05e455e9510bbd6fe2433c3": {
      "model_module": "@jupyter-widgets/controls",
      "model_module_version": "1.5.0",
      "model_name": "VBoxModel",
      "state": {
       "children": [
        "IPY_MODEL_fdae70474dab4cb68fe41b35e6aaffe7",
        "IPY_MODEL_123d21c960fc49fe9b7c8f0445028dcf",
        "IPY_MODEL_28922b73d93a4276afa1b928537eca97",
        "IPY_MODEL_a3f5ce98c7324e32883add6304deffb3"
       ],
       "layout": "IPY_MODEL_a306b10b50424fa88d45ccdac802ddc2"
      }
     },
     "76de84d900e84a3ba183ef889870457d": {
      "model_module": "@jupyter-widgets/base",
      "model_module_version": "1.2.0",
      "model_name": "LayoutModel",
      "state": {}
     },
     "772f175084504285bd2c17cd81874f97": {
      "model_module": "@jupyter-widgets/base",
      "model_module_version": "1.2.0",
      "model_name": "LayoutModel",
      "state": {
       "visibility": "hidden"
      }
     },
     "7785194f61de497495e2822d84ecc7d4": {
      "model_module": "@jupyter-widgets/base",
      "model_module_version": "1.2.0",
      "model_name": "LayoutModel",
      "state": {
       "width": "auto"
      }
     },
     "77d75b2c8fb9427994c2678a2a40b256": {
      "model_module": "@jupyter-widgets/base",
      "model_module_version": "1.2.0",
      "model_name": "LayoutModel",
      "state": {}
     },
     "77e8881043304336a762c67cea49d024": {
      "model_module": "@jupyter-widgets/base",
      "model_module_version": "1.2.0",
      "model_name": "LayoutModel",
      "state": {}
     },
     "780a8b6ecd2a47eebe46126fb5d016f2": {
      "model_module": "@jupyter-widgets/controls",
      "model_module_version": "1.5.0",
      "model_name": "FloatSliderModel",
      "state": {
       "description": "b",
       "layout": "IPY_MODEL_6b3383dd3e8b4870bcb0b5ca48fbed8f",
       "max": 3,
       "min": -3,
       "step": 0.5,
       "style": "IPY_MODEL_4210e47a3dee4de9a9c8b0da75185c49"
      }
     },
     "782927195499447e884063fa675515f5": {
      "model_module": "@jupyter-widgets/base",
      "model_module_version": "1.2.0",
      "model_name": "LayoutModel",
      "state": {}
     },
     "784a9eb753384f638dff444156e107c5": {
      "model_module": "@jupyter-widgets/base",
      "model_module_version": "1.2.0",
      "model_name": "LayoutModel",
      "state": {}
     },
     "7890c0e5278942b798b79e4d14fbd1ff": {
      "model_module": "@jupyter-widgets/base",
      "model_module_version": "1.2.0",
      "model_name": "LayoutModel",
      "state": {}
     },
     "7896809ab36e4dfe9fa30051169e9f50": {
      "model_module": "@jupyter-widgets/output",
      "model_module_version": "1.0.0",
      "model_name": "OutputModel",
      "state": {
       "layout": "IPY_MODEL_0a05d7db605149d3bf800168a2ab5a1a",
       "outputs": [
        {
         "name": "stdout",
         "output_type": "stream",
         "text": "\n"
        }
       ]
      }
     },
     "789d97e9b15b4ef59948369b1fc38d60": {
      "model_module": "@jupyter-widgets/output",
      "model_module_version": "1.0.0",
      "model_name": "OutputModel",
      "state": {
       "layout": "IPY_MODEL_44f503a79017495da07536f1f11b1f55",
       "outputs": [
        {
         "data": {
          "image/png": "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\n",
          "text/plain": "<Figure size 432x288 with 1 Axes>"
         },
         "metadata": {
          "needs_background": "light"
         },
         "output_type": "display_data"
        }
       ]
      }
     },
     "78a120b16f114bd789858361ca0e5e70": {
      "model_module": "@jupyter-widgets/controls",
      "model_module_version": "1.5.0",
      "model_name": "DescriptionStyleModel",
      "state": {
       "description_width": ""
      }
     },
     "78a1529141604435952deafe55982fd7": {
      "model_module": "@jupyter-widgets/controls",
      "model_module_version": "1.5.0",
      "model_name": "PasswordModel",
      "state": {
       "description": "Password",
       "layout": "IPY_MODEL_d07bb99de26c4365bddade0165853d5e",
       "style": "IPY_MODEL_23f7245a2c82475da42a2c77f3722617"
      }
     },
     "7905a86732c74efcba33ae872ebe549b": {
      "model_module": "@jupyter-widgets/controls",
      "model_module_version": "1.5.0",
      "model_name": "ButtonStyleModel",
      "state": {}
     },
     "791c9e7addca47718b82d62bdc7a560d": {
      "model_module": "@jupyter-widgets/controls",
      "model_module_version": "1.5.0",
      "model_name": "DescriptionStyleModel",
      "state": {
       "description_width": ""
      }
     },
     "7992d346925b4f3f905550a8dd9e9bb3": {
      "model_module": "@jupyter-widgets/base",
      "model_module_version": "1.2.0",
      "model_name": "LayoutModel",
      "state": {
       "justify_content": "center",
       "margin": "0 0 0 100px"
      }
     },
     "79db3d019477455d9ab8a943ece55fc4": {
      "model_module": "@jupyter-widgets/base",
      "model_module_version": "1.2.0",
      "model_name": "LayoutModel",
      "state": {}
     },
     "7a563167b5cc43d6834af914bb6ea5ba": {
      "model_module": "@jupyter-widgets/controls",
      "model_module_version": "1.5.0",
      "model_name": "SliderStyleModel",
      "state": {
       "description_width": ""
      }
     },
     "7aa0a0bf052c41e2b5176f65a64a19c8": {
      "model_module": "@jupyter-widgets/controls",
      "model_module_version": "1.5.0",
      "model_name": "ValidModel",
      "state": {
       "layout": "IPY_MODEL_fbac72e5932d4cc8bdcf4139c5123f34",
       "style": "IPY_MODEL_452689a2e534470db2f52401336be3fa"
      }
     },
     "7ac7f51361e64281b1efc81edd10cf1b": {
      "model_module": "@jupyter-widgets/controls",
      "model_module_version": "1.5.0",
      "model_name": "HBoxModel",
      "state": {
       "children": [
        "IPY_MODEL_c0d21f3989954c52b7ef89ca54d886aa",
        "IPY_MODEL_018c33c64ed24f139b9c4f4c9d71e4d3"
       ],
       "layout": "IPY_MODEL_7ba4300492e045238c53f0cca62a0f03"
      }
     },
     "7ad43af2e28442edb7bac3ba1ee8cf2a": {
      "model_module": "@jupyter-widgets/controls",
      "model_module_version": "1.5.0",
      "model_name": "VBoxModel",
      "state": {
       "children": [
        "IPY_MODEL_0b8ef5b554ed4def9749e4e94ca9dc4a",
        "IPY_MODEL_85199622551f4c8e81962d6f0b12c8ff",
        "IPY_MODEL_33ad785ca46f480db334d1d87662adff",
        "IPY_MODEL_d1120b3211c741e1870d1d8f77dd400e"
       ],
       "layout": "IPY_MODEL_41b28ebf47f3438d87f84fb1e12508f8"
      }
     },
     "7ae3c3305f454c58820a4105261ea68a": {
      "model_module": "@jupyter-widgets/controls",
      "model_module_version": "1.5.0",
      "model_name": "PasswordModel",
      "state": {
       "description": "Password",
       "layout": "IPY_MODEL_265bcd7210f447f297d40360a639ac55",
       "style": "IPY_MODEL_5292590df8f244c8987637da8537ba76"
      }
     },
     "7af4b75d88ab453999129f3983fecf2b": {
      "model_module": "@jupyter-widgets/base",
      "model_module_version": "1.2.0",
      "model_name": "LayoutModel",
      "state": {}
     },
     "7afd6a5857384ea9b835134f2fead2ea": {
      "model_module": "@jupyter-widgets/controls",
      "model_module_version": "1.5.0",
      "model_name": "DescriptionStyleModel",
      "state": {
       "description_width": ""
      }
     },
     "7b6120a898c247faabd05a4a69b74ae3": {
      "model_module": "@jupyter-widgets/controls",
      "model_module_version": "1.5.0",
      "model_name": "DescriptionStyleModel",
      "state": {
       "description_width": ""
      }
     },
     "7b8d332734cf448cbd7511260a4abefa": {
      "model_module": "@jupyter-widgets/controls",
      "model_module_version": "1.5.0",
      "model_name": "FloatSliderModel",
      "state": {
       "description": "b",
       "layout": "IPY_MODEL_d5bec9c87157430aa06863e045efea99",
       "max": 3,
       "min": -3,
       "step": 0.5,
       "style": "IPY_MODEL_24c1e8d5f3334002b3f47a9b55a9339f"
      }
     },
     "7ba4300492e045238c53f0cca62a0f03": {
      "model_module": "@jupyter-widgets/base",
      "model_module_version": "1.2.0",
      "model_name": "LayoutModel",
      "state": {
       "justify_content": "center",
       "margin": "0 0 0 100px"
      }
     },
     "7baf40e623ec45979c7a3f90e979f4ce": {
      "model_module": "@jupyter-widgets/controls",
      "model_module_version": "1.5.0",
      "model_name": "ValidModel",
      "state": {
       "layout": "IPY_MODEL_dba9d31908e94963b9b018009131d5b8",
       "style": "IPY_MODEL_b4f1e74b16814a7fa6e4723a5650eb51"
      }
     },
     "7bbc63db9aa14d3e9f0ef735792a7c93": {
      "model_module": "@jupyter-widgets/base",
      "model_module_version": "1.2.0",
      "model_name": "LayoutModel",
      "state": {}
     },
     "7bde605e2e4943e393693c9f24cb13d4": {
      "model_module": "@jupyter-widgets/base",
      "model_module_version": "1.2.0",
      "model_name": "LayoutModel",
      "state": {}
     },
     "7c149884f7c64f40aacc5ddc49156279": {
      "model_module": "@jupyter-widgets/controls",
      "model_module_version": "1.5.0",
      "model_name": "TextModel",
      "state": {
       "description": "text",
       "layout": "IPY_MODEL_08534fb581764bcba5a8a2d5ded18c0b",
       "style": "IPY_MODEL_a0836a8653c141c59081852196f66f20"
      }
     },
     "7c18e20c23d541a3bbb879281d369841": {
      "model_module": "@jupyter-widgets/base",
      "model_module_version": "1.2.0",
      "model_name": "LayoutModel",
      "state": {}
     },
     "7c348206b09649748b86bd9a68aa9d3d": {
      "model_module": "@jupyter-widgets/base",
      "model_module_version": "1.2.0",
      "model_name": "LayoutModel",
      "state": {}
     },
     "7c8d4a43884e4e34acb3af24e3af6de6": {
      "model_module": "@jupyter-widgets/base",
      "model_module_version": "1.2.0",
      "model_name": "LayoutModel",
      "state": {
       "display": "initial",
       "visibility": "visible"
      }
     },
     "7c90a909defd4a2687cf17a01b1dacb7": {
      "model_module": "@jupyter-widgets/output",
      "model_module_version": "1.0.0",
      "model_name": "OutputModel",
      "state": {
       "layout": "IPY_MODEL_ac6921066fb04b0f8b73b64e9cce8032",
       "outputs": [
        {
         "data": {
          "image/png": "iVBORw0KGgoAAAANSUhEUgAAAXYAAAD8CAYAAABjAo9vAAAABHNCSVQICAgIfAhkiAAAAAlwSFlzAAALEgAACxIB0t1+/AAAADl0RVh0U29mdHdhcmUAbWF0cGxvdGxpYiB2ZXJzaW9uIDIuMi4zLCBodHRwOi8vbWF0cGxvdGxpYi5vcmcvIxREBQAADaNJREFUeJzt3W2MXOdZh/HrxtsEQUOTYIe82GYTEVW4gNSwMoXwUiUhdUxIAAFyJSAiSFZBkRKJqk2wVAr9VCoKQhQi00a8RSRAG2oiR4nTJkJ8SOja2E5cJ80muNS1m2woJEWRWqzefJhjNFrP7M7OOTNr31w/abQz5zzznHuec/yfZ86c9UZmIkmq41vWugBJUrcMdkkqxmCXpGIMdkkqxmCXpGIMdkkqxmCXpGIMdkkqxmCXpGJm1mKj69evz9nZ2bXYtCSds/bv3/9qZm5Yqd2aBPvs7Czz8/NrsWlJOmdFxBdHaeepGEkqxmCXpGIMdkkqxmCXpGIMdkkqxmCXpGIMdkkqxmCXpGIMdkkqxmCXpGIMdkkqxmCXpGIMdkkqxmCXpGIMdkkqxmCXpGI6C/aIWBcR/xoRD3fVpyRp9bqcsd8JHO2wP0nSGDoJ9ojYCPwU8PEu+pMkja+rGfsfAu8DvtlRf5KkMbUO9oi4GXglM/ev0G5nRMxHxPzi4mLbzUqShuhixn4tcEtEHAMeAK6LiL9e2igzd2fmXGbObdiwoYPNSpIGaR3smXlPZm7MzFlgB/DZzPyl1pVJksbideySVMxMl51l5pPAk132KUlaHWfsklSMwS5JxRjsklSMwS5JxRjsklSMwS5JxRjsklSMwS5JxRjsklSMwS5JxRjsklSMwS5JxRjsklSMwS5JxRjsklSMwS5JxRjsklSMwS5JxRjsklSMwS5JxRjsklSMwS5JxRjsklSMwS5JxRjsklSMwS5JxRjsklSMwS5JxRjsklSMwS5JxRjsklSMwS5JxRjsklSMwS5JxRjsklRM62CPiE0R8UREHI2IIxFxZxeFSZLGM9NBH6eA38zMAxFxAbA/IvZl5uc76FuStEqtZ+yZeTIzDzT3vwYcBa5o268kaTydnmOPiFng7cDTXfYrSRpdZ8EeEW8GPgnclZmvD1i/MyLmI2J+cXGxq81KkpboJNgj4k30Qv3+zPzUoDaZuTsz5zJzbsOGDV1sVpI0QBdXxQTwCeBoZn60fUmSpDa6mLFfC/wycF1EHGxu2zvoV5I0htaXO2bmPwPRQS2SpA74m6eSVIzBLknFGOySVIzBLknFGOySVIzBLknFGOySVIzBLknFGOySVIzBLknFGOySVIzBLknFGOySVIzBLknFGOySVIzBLknFGOySVIzBLknFGOySVIzBLknFGOySVIzBLknFGOySVIzBLknFGOySVIzBLknFGOySVIzBLknFGOySVIzBLknFGOySVIzBLknFGOySVIzBLknFdBLsEbEtIp6PiIWIuLuLPiVJ42kd7BGxDvgYcBOwBXh3RGxp268kaTxdzNi3AguZ+VJmfgN4ALi1g34lSWOY6aCPK4Av9T0+DvxQB/2e4Xf+8QifP/H6JLqWpKnYcvl38Ns//baJbqOLGXsMWJZnNIrYGRHzETG/uLjYwWYlSYN0MWM/Dmzqe7wROLG0UWbuBnYDzM3NnRH8o5j0u5wkVdDFjP1zwNURcWVEnAfsAPZ00K8kaQytZ+yZeSoi7gAeBdYB92XmkdaVSZLG0sWpGDJzL7C3i74kSe34m6eSVIzBLknFGOySVIzBLknFGOySVIzBLknFGOySVIzBLknFGOySVIzBLknFGOySVIzBLknFGOySVIzBLknFGOySVIzBLknFGOySVIzBLknFGOySVIzBLknFGOySVIzBLknFGOySVIzBLknFGOySVIzBLknFGOySVIzBLknFGOySVIzBLknFGOySVIzBLknFGOySVIzBLknFGOySVEyrYI+Ij0TEcxFxOCIeiogLuypMkjSetjP2fcD3ZeYPAF8A7mlfkiSpjVbBnpmPZeap5uFTwMb2JUmS2ujyHPvtwCMd9idJGsPMSg0i4nHg0gGrdmXmp5s2u4BTwP3L9LMT2AmwefPmsYqVJK1sxWDPzBuWWx8RtwE3A9dnZi7Tz25gN8Dc3NzQdpKkdlYM9uVExDbg/cBPZOYb3ZQkSWqj7Tn2PwYuAPZFxMGIuLeDmiRJLbSasWfm93RViCSpG/7mqSQVY7BLUjEGuyQVY7BLUjEGuyQVY7BLUjEGuyQVY7BLUjEGuyQVY7BLUjEGuyQVY7BLUjEGuyQVY7BLUjEGuyQVY7BLUjEGuyQVY7BLUjEGuyQVY7BLUjEGuyQVY7BLUjEGuyQVY7BLUjEGuyQVY7BLUjEGuyQVY7BLUjEGuyQVY7BLUjEGuyQVY7BLUjEGuyQVY7BLUjGdBHtEvDciMiLWd9GfJGl8rYM9IjYBPwn8e/tyJEltdTFj/wPgfUB20JckqaVWwR4RtwBfzsxDHdUjSWppZqUGEfE4cOmAVbuA3wJuHGVDEbET2AmwefPmVZQoSVqNyBzvDEpEfD/wGeCNZtFG4ASwNTO/stxz5+bmcn5+fqztStL/VxGxPzPnVmq34ox9mMx8Brikb4PHgLnMfHXcPiVJ7XkduyQVM/aMfanMnO2qL0nS+JyxS1IxBrskFWOwS1IxBrskFWOwS1IxBrskFWOwS1IxBrskFWOwS1IxBrskFWOwS1IxBrskFWOwS1IxBrskFWOwS1IxBrskFWOwS1IxY/8x61YbjVgEvjjm09cDZ+PfVbWu1bGu1bGu1Tlb64J2tX13Zm5YqdGaBHsbETE/yl/pnjbrWh3rWh3rWp2ztS6YTm2eipGkYgx2SSrmXAz23WtdwBDWtTrWtTrWtTpna10whdrOuXPskqTlnYszdknSMs7KYI+IX4iIIxHxzYiYW7LunohYiIjnI+JdQ55/ZUQ8HREvRMSDEXHeBGp8MCIONrdjEXFwSLtjEfFM026+6zoGbO+DEfHlvtq2D2m3rRnDhYi4ewp1fSQinouIwxHxUERcOKTdVMZrpdcfEec3+3ihOZZmJ1VL3zY3RcQTEXG0Of7vHNDmnRHxWt/+/cCk62q2u+x+iZ4/asbrcERcM4Wa3to3Dgcj4vWIuGtJm6mNV0TcFxGvRMSzfcsujoh9TRbti4iLhjz3tqbNCxFxW+tiMvOsuwHfC7wVeBKY61u+BTgEnA9cCbwIrBvw/L8FdjT37wV+fcL1/j7wgSHrjgHrpzh2HwTeu0Kbdc3YXQWc14zplgnXdSMw09z/MPDhtRqvUV4/8BvAvc39HcCDU9h3lwHXNPcvAL4woK53Ag9P63gadb8A24FHgADeATw95frWAV+hd533mowX8OPANcCzfct+D7i7uX/3oOMeuBh4qfl5UXP/oja1nJUz9sw8mpnPD1h1K/BAZn49M/8NWAC29jeIiACuA/6+WfQXwM9MqtZme78I/M2ktjEBW4GFzHwpM78BPEBvbCcmMx/LzFPNw6eAjZPc3gpGef230jt2oHcsXd/s64nJzJOZeaC5/zXgKHDFJLfZoVuBv8yep4ALI+KyKW7/euDFzBz3Fx9by8x/Ar66ZHH/cTQsi94F7MvMr2bmfwL7gG1tajkrg30ZVwBf6nt8nDMP/O8E/qsvRAa16dKPAS9n5gtD1ifwWETsj4idE6yj3x3Nx+H7hnz0G2UcJ+l2erO7QaYxXqO8/v9r0xxLr9E7tqaiOfXzduDpAat/OCIORcQjEfG2KZW00n5Z62NqB8MnV2sxXqd9V2aehN4bN3DJgDadj91Mmye3ERGPA5cOWLUrMz897GkDli29rGeUNiMZscZ3s/xs/drMPBERlwD7IuK55p19bMvVBfwp8CF6r/lD9E4T3b60iwHPbX151CjjFRG7gFPA/UO66Xy8BpU6YNnEjqPViog3A58E7srM15esPkDvdMN/N9+f/ANw9RTKWmm/rOV4nQfcAtwzYPVajddqdD52axbsmXnDGE87Dmzqe7wROLGkzav0PgbONDOtQW06qTEiZoCfA35wmT5OND9fiYiH6J0GaBVUo45dRPwZ8PCAVaOMY+d1NV8K3Qxcn83JxQF9dD5eA4zy+k+3Od7s57dw5sfszkXEm+iF+v2Z+aml6/uDPjP3RsSfRMT6zJzo/4sywn6ZyDE1opuAA5n58tIVazVefV6OiMsy82RzauqVAW2O0/su4LSN9L5fHNu5dipmD7CjuWLhSnrvvP/S36AJjCeAn28W3QYM+wTQ1g3Ac5l5fNDKiPj2iLjg9H16XyA+O6htV5ac1/zZIdv7HHB19K4eOo/ex9g9E65rG/B+4JbMfGNIm2mN1yivfw+9Ywd6x9Jnh70ZdaU5h/8J4GhmfnRIm0tPn+uPiK30/g3/x4TrGmW/7AF+pbk65h3Aa6dPQUzB0E/NazFeS/QfR8Oy6FHgxoi4qDl1emOzbHzT+LZ4tTd6gXQc+DrwMvBo37pd9K5oeB64qW/5XuDy5v5V9AJ/Afg74PwJ1fnnwHuWLLsc2NtXx6HmdoTeKYlJj91fAc8Ah5uD6rKldTWPt9O76uLFKdW1QO884sHmdu/SuqY5XoNeP/C79N54AL61OXYWmmPpqimM0Y/S+wh+uG+ctgPvOX2cAXc0Y3OI3pfQPzKFugbulyV1BfCxZjyfoe9qtgnX9m30gvotfcvWZLzovbmcBP6nya9fo/e9zGeAF5qfFzdt54CP9z339uZYWwB+tW0t/uapJBVzrp2KkSStwGCXpGIMdkkqxmCXpGIMdkkqxmCXpGIMdkkqxmCXpGL+F6/JAyRQbGLGAAAAAElFTkSuQmCC\n",
          "text/plain": "<Figure size 432x288 with 1 Axes>"
         },
         "metadata": {
          "needs_background": "light"
         },
         "output_type": "display_data"
        }
       ]
      }
     },
     "7cf7d2b7a8ad450d980d00f81c5957c7": {
      "model_module": "@jupyter-widgets/base",
      "model_module_version": "1.2.0",
      "model_name": "LayoutModel",
      "state": {}
     },
     "7db27ed3987c4f4c81810cf022e8f709": {
      "model_module": "@jupyter-widgets/base",
      "model_module_version": "1.2.0",
      "model_name": "LayoutModel",
      "state": {}
     },
     "7dc54878a7b54f1e8366cfd633dccfa1": {
      "model_module": "@jupyter-widgets/controls",
      "model_module_version": "1.5.0",
      "model_name": "ButtonModel",
      "state": {
       "description": "Say Hello",
       "layout": "IPY_MODEL_cf550fd482cf4d70a5ff18867282f65c",
       "style": "IPY_MODEL_30bf60d013c144b19dd3010bea150fe2"
      }
     },
     "7e553b3004c04a31a20edff68e27d9a4": {
      "model_module": "@jupyter-widgets/controls",
      "model_module_version": "1.5.0",
      "model_name": "DescriptionStyleModel",
      "state": {
       "description_width": ""
      }
     },
     "7f0959988e5d493186154c0a49359dd6": {
      "model_module": "@jupyter-widgets/controls",
      "model_module_version": "1.5.0",
      "model_name": "FloatSliderModel",
      "state": {
       "description": "b",
       "layout": "IPY_MODEL_c9ca2ae6b2de43f6a1d0fa831c6e01e8",
       "max": 3,
       "min": -3,
       "step": 0.5,
       "style": "IPY_MODEL_33ad5ade758b412cb656272ba446e07c"
      }
     },
     "7f9ddd6b1d044a04a11b1492354bd4fa": {
      "model_module": "@jupyter-widgets/base",
      "model_module_version": "1.2.0",
      "model_name": "LayoutModel",
      "state": {}
     },
     "80b8b6367fc1443a9ac6e76cb8343171": {
      "model_module": "@jupyter-widgets/controls",
      "model_module_version": "1.5.0",
      "model_name": "HBoxModel",
      "state": {
       "children": [
        "IPY_MODEL_43e0c11af37749f2a9c11ca08768e870",
        "IPY_MODEL_f80b356049b44987adaa90705d150524",
        "IPY_MODEL_48758cec963745cdae92c04d4ab4a89c",
        "IPY_MODEL_9ecef95bfba04d349e01590dea1c35c9"
       ],
       "layout": "IPY_MODEL_d50abe684b9d4e44b79fb261c95b7694"
      }
     },
     "8101825144e246729942282914fbaf3f": {
      "model_module": "@jupyter-widgets/base",
      "model_module_version": "1.2.0",
      "model_name": "LayoutModel",
      "state": {}
     },
     "81d00a8f2c4747478f8ec02fd35621d7": {
      "model_module": "@jupyter-widgets/output",
      "model_module_version": "1.0.0",
      "model_name": "OutputModel",
      "state": {
       "layout": "IPY_MODEL_5fc2b8158c904b68913dc301bf94e821",
       "outputs": [
        {
         "data": {
          "image/png": "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\n",
          "text/plain": "<Figure size 432x288 with 1 Axes>"
         },
         "metadata": {
          "needs_background": "light"
         },
         "output_type": "display_data"
        }
       ]
      }
     },
     "81d9a527c45e4fd6adc3d5d1b215bdcc": {
      "model_module": "@jupyter-widgets/base",
      "model_module_version": "1.2.0",
      "model_name": "LayoutModel",
      "state": {}
     },
     "8268c093fe504558bc777799c7bb9a9b": {
      "model_module": "@jupyter-widgets/controls",
      "model_module_version": "1.5.0",
      "model_name": "ValidModel",
      "state": {
       "layout": "IPY_MODEL_bc1c5e3450a54a599f12b792650716c2",
       "style": "IPY_MODEL_1162eb44543e4651afed2e37effd2bd0"
      }
     },
     "827bc694cf4c413abe87e0b7263ccc27": {
      "model_module": "@jupyter-widgets/controls",
      "model_module_version": "1.5.0",
      "model_name": "HTMLModel",
      "state": {
       "layout": "IPY_MODEL_76de84d900e84a3ba183ef889870457d",
       "style": "IPY_MODEL_74a5346a7f8645ec86d44978aaf3f8a5",
       "value": "<h3 class='text-center'><font color='green'>Login</font> to <a stc='https://github.com/'>Github</a><h3>"
      }
     },
     "83776b9a479940b2a5f77e1692ea8938": {
      "model_module": "@jupyter-widgets/base",
      "model_module_version": "1.2.0",
      "model_name": "LayoutModel",
      "state": {
       "justify_content": "center",
       "margin": "0 0 0 100px"
      }
     },
     "841319a51afc42d4a3be22875f8cfe04": {
      "model_module": "@jupyter-widgets/base",
      "model_module_version": "1.2.0",
      "model_name": "LayoutModel",
      "state": {}
     },
     "846d01b554704e1a8b72d45374ee5c00": {
      "model_module": "@jupyter-widgets/controls",
      "model_module_version": "1.5.0",
      "model_name": "SliderStyleModel",
      "state": {
       "description_width": ""
      }
     },
     "84beff3fcd9c4f9e99b2aba06ebf061d": {
      "model_module": "@jupyter-widgets/base",
      "model_module_version": "1.2.0",
      "model_name": "LayoutModel",
      "state": {}
     },
     "85199622551f4c8e81962d6f0b12c8ff": {
      "model_module": "@jupyter-widgets/controls",
      "model_module_version": "1.5.0",
      "model_name": "TextModel",
      "state": {
       "description": "Username",
       "layout": "IPY_MODEL_478980933ae741b7ace71756d248af2a",
       "style": "IPY_MODEL_52c1951654764b589d4161479ba07fe0"
      }
     },
     "855837ea38cb4c588a7ae9980679e545": {
      "model_module": "@jupyter-widgets/base",
      "model_module_version": "1.2.0",
      "model_name": "LayoutModel",
      "state": {
       "width": "auto"
      }
     },
     "85c8c60ea3c743e2bfc9fdc75353228c": {
      "model_module": "@jupyter-widgets/controls",
      "model_module_version": "1.5.0",
      "model_name": "DescriptionStyleModel",
      "state": {
       "description_width": ""
      }
     },
     "862a4d5cf7dd4893ab5ec6abfa0c0ba4": {
      "model_module": "@jupyter-widgets/controls",
      "model_module_version": "1.5.0",
      "model_name": "ButtonStyleModel",
      "state": {}
     },
     "865e87f3e5d74da3a70e010d359c8a97": {
      "model_module": "@jupyter-widgets/controls",
      "model_module_version": "1.5.0",
      "model_name": "DescriptionStyleModel",
      "state": {
       "description_width": ""
      }
     },
     "86765906529742d9b532f31da74e537c": {
      "model_module": "@jupyter-widgets/base",
      "model_module_version": "1.2.0",
      "model_name": "LayoutModel",
      "state": {}
     },
     "8677ea1664c34ac29479ae49400ad12f": {
      "model_module": "@jupyter-widgets/base",
      "model_module_version": "1.2.0",
      "model_name": "LayoutModel",
      "state": {
       "width": "auto"
      }
     },
     "8782163d51d7424a986a568e0d64c178": {
      "model_module": "@jupyter-widgets/controls",
      "model_module_version": "1.5.0",
      "model_name": "ButtonModel",
      "state": {
       "description": "Say Hello",
       "layout": "IPY_MODEL_1790da4608cf40d5ac8e0eb07fb07796",
       "style": "IPY_MODEL_fb0ef59a047a4665860f929f184d0e1d"
      }
     },
     "887fc6873f5b4611bb1df58eb7e7d62b": {
      "model_module": "@jupyter-widgets/controls",
      "model_module_version": "1.5.0",
      "model_name": "TextModel",
      "state": {
       "description": "Username",
       "layout": "IPY_MODEL_e59bdf32a42a49249c71636fc6f19fb5",
       "style": "IPY_MODEL_471d10115ed549e09b0adfac8d4a56dc"
      }
     },
     "88c361662f2742c7a0de1f3138547b71": {
      "model_module": "@jupyter-widgets/controls",
      "model_module_version": "1.5.0",
      "model_name": "DescriptionStyleModel",
      "state": {
       "description_width": ""
      }
     },
     "88e0cee888fe4118b7759d03fe1e8208": {
      "model_module": "@jupyter-widgets/controls",
      "model_module_version": "1.5.0",
      "model_name": "DescriptionStyleModel",
      "state": {
       "description_width": ""
      }
     },
     "8916fa36f5a2443789c263f0dbf47854": {
      "model_module": "@jupyter-widgets/base",
      "model_module_version": "1.2.0",
      "model_name": "LayoutModel",
      "state": {}
     },
     "8935b4c58dea4419971b3afc32ed5ae7": {
      "model_module": "@jupyter-widgets/controls",
      "model_module_version": "1.5.0",
      "model_name": "PasswordModel",
      "state": {
       "description": "Password",
       "layout": "IPY_MODEL_45df69f13504425cb2935c4b37f2af4a",
       "style": "IPY_MODEL_7afd6a5857384ea9b835134f2fead2ea"
      }
     },
     "8949379617634efbb0d6afe573b4e5b1": {
      "model_module": "@jupyter-widgets/controls",
      "model_module_version": "1.5.0",
      "model_name": "ButtonStyleModel",
      "state": {}
     },
     "89b27a4b4c1d420a876aff6363ea5275": {
      "model_module": "@jupyter-widgets/base",
      "model_module_version": "1.2.0",
      "model_name": "LayoutModel",
      "state": {}
     },
     "89c58312210641c08649cd4cd0bdd871": {
      "model_module": "@jupyter-widgets/controls",
      "model_module_version": "1.5.0",
      "model_name": "PasswordModel",
      "state": {
       "description": "Password",
       "layout": "IPY_MODEL_fcd1dd4cc8af482d82e8256d2010b9de",
       "style": "IPY_MODEL_ab216aea36b5460385da58baabd356d3"
      }
     },
     "8a35e365f02640b18db4ed77f417530f": {
      "model_module": "@jupyter-widgets/controls",
      "model_module_version": "1.5.0",
      "model_name": "DescriptionStyleModel",
      "state": {
       "description_width": ""
      }
     },
     "8ae5707d5f9148e9a381c67958ecbcb9": {
      "model_module": "@jupyter-widgets/controls",
      "model_module_version": "1.5.0",
      "model_name": "PasswordModel",
      "state": {
       "description": "Password",
       "layout": "IPY_MODEL_130df822aefd4a24a847603928e23447",
       "style": "IPY_MODEL_45b49743ee05441ea76d14cee934621c"
      }
     },
     "8aeb74aa0aab4e0caa7ddf76b4dbb11b": {
      "model_module": "@jupyter-widgets/base",
      "model_module_version": "1.2.0",
      "model_name": "LayoutModel",
      "state": {
       "justify_content": "center",
       "margin": "0 0 0 100px"
      }
     },
     "8b62c36d1f1e43f39824f6a6e98a840b": {
      "model_module": "@jupyter-widgets/output",
      "model_module_version": "1.0.0",
      "model_name": "OutputModel",
      "state": {
       "layout": "IPY_MODEL_04f97c91960440bab74c91ae3743ea68"
      }
     },
     "8ba29c4cf1a64254b1f5f5e4661acf40": {
      "model_module": "@jupyter-widgets/base",
      "model_module_version": "1.2.0",
      "model_name": "LayoutModel",
      "state": {}
     },
     "8bfaa83f9a51476880938b4c32b7e5d0": {
      "model_module": "@jupyter-widgets/base",
      "model_module_version": "1.2.0",
      "model_name": "LayoutModel",
      "state": {}
     },
     "8c1c550f856a4aa7973b7fb5836c3c64": {
      "model_module": "@jupyter-widgets/controls",
      "model_module_version": "1.5.0",
      "model_name": "ButtonModel",
      "state": {
       "button_style": "success",
       "description": "Login",
       "layout": "IPY_MODEL_a45dfb0512e241c5b92f3872aea1e3d6",
       "style": "IPY_MODEL_ad03aba0ba7e43418434d1d185712450"
      }
     },
     "8c288045d4ee45ca89a755af21e44256": {
      "model_module": "@jupyter-widgets/controls",
      "model_module_version": "1.5.0",
      "model_name": "IntSliderModel",
      "state": {
       "description": "times",
       "layout": "IPY_MODEL_9f0b9494dd3f492e96504938b605a682",
       "max": 2,
       "style": "IPY_MODEL_3ddf9d86a4474b9aa24e8280782c7ac5",
       "value": 1
      }
     },
     "8c6d32e93ce342a197a727d13306f6e9": {
      "model_module": "@jupyter-widgets/controls",
      "model_module_version": "1.5.0",
      "model_name": "DescriptionStyleModel",
      "state": {
       "description_width": ""
      }
     },
     "8cbcaf4674644bb2828a5ed8edcc3ed6": {
      "model_module": "@jupyter-widgets/base",
      "model_module_version": "1.2.0",
      "model_name": "LayoutModel",
      "state": {
       "justify_content": "center"
      }
     },
     "8d0172438a9d404d97c67362d423b6d2": {
      "model_module": "@jupyter-widgets/output",
      "model_module_version": "1.0.0",
      "model_name": "OutputModel",
      "state": {
       "layout": "IPY_MODEL_1f0ceb0b5a1842508f69aad0793b111d",
       "outputs": [
        {
         "name": "stdout",
         "output_type": "stream",
         "text": "asd asd asd \n"
        }
       ]
      }
     },
     "8d2b205a12e141c19d58062176f24251": {
      "model_module": "@jupyter-widgets/controls",
      "model_module_version": "1.5.0",
      "model_name": "ValidModel",
      "state": {
       "layout": "IPY_MODEL_dfc6e04fd8b546738cb8a4bc2e61d637",
       "style": "IPY_MODEL_85c8c60ea3c743e2bfc9fdc75353228c"
      }
     },
     "8de2e1db06b9404188f0e083b21b3290": {
      "model_module": "@jupyter-widgets/controls",
      "model_module_version": "1.5.0",
      "model_name": "DescriptionStyleModel",
      "state": {
       "description_width": ""
      }
     },
     "8e7e1f81d1d14952846a540ba02bfe9e": {
      "model_module": "@jupyter-widgets/base",
      "model_module_version": "1.2.0",
      "model_name": "LayoutModel",
      "state": {}
     },
     "8ed04e6cabea48b4bbeb1309360780a9": {
      "model_module": "@jupyter-widgets/controls",
      "model_module_version": "1.5.0",
      "model_name": "SliderStyleModel",
      "state": {
       "description_width": ""
      }
     },
     "8f9ec05de84f4f4a9a7e7a82fb2a49c6": {
      "model_module": "@jupyter-widgets/controls",
      "model_module_version": "1.5.0",
      "model_name": "ButtonStyleModel",
      "state": {}
     },
     "8fc854d9f9764b70aacbfc84210ccff0": {
      "model_module": "@jupyter-widgets/base",
      "model_module_version": "1.2.0",
      "model_name": "LayoutModel",
      "state": {}
     },
     "90556860e3f643d38e00accfda91ed84": {
      "model_module": "@jupyter-widgets/controls",
      "model_module_version": "1.5.0",
      "model_name": "TextModel",
      "state": {
       "description": "Username",
       "layout": "IPY_MODEL_6d7720dfb68e4b8faa27cae1af35ee1f",
       "style": "IPY_MODEL_c7b0e969cace4f0f97242b7e541990dd"
      }
     },
     "90649f8dc16b4f0ea00b62274baacbda": {
      "model_module": "@jupyter-widgets/controls",
      "model_module_version": "1.5.0",
      "model_name": "ButtonModel",
      "state": {
       "button_style": "success",
       "description": "Login",
       "layout": "IPY_MODEL_655703ec87e74213bf44fe23c2501348",
       "style": "IPY_MODEL_7905a86732c74efcba33ae872ebe549b"
      }
     },
     "9076c6e7c29d43d6b1c3f6c19a0f7e0f": {
      "model_module": "@jupyter-widgets/base",
      "model_module_version": "1.2.0",
      "model_name": "LayoutModel",
      "state": {}
     },
     "90871b36ffde42d19b38720b2bc1c38f": {
      "model_module": "@jupyter-widgets/controls",
      "model_module_version": "1.5.0",
      "model_name": "DescriptionStyleModel",
      "state": {
       "description_width": ""
      }
     },
     "90af60a3a94a40d9b10fec214f384754": {
      "model_module": "@jupyter-widgets/controls",
      "model_module_version": "1.5.0",
      "model_name": "HTMLModel",
      "state": {
       "layout": "IPY_MODEL_5127ab7184f046a99c1228b77257dfff",
       "style": "IPY_MODEL_69f448d84c784b7ba8dd376397d93aaf",
       "value": "<font color='red'>Howdy</font>"
      }
     },
     "90de50d78a644b7793b9fae6626046e0": {
      "model_module": "@jupyter-widgets/base",
      "model_module_version": "1.2.0",
      "model_name": "LayoutModel",
      "state": {}
     },
     "919272dc822e413292258a08cfa032ab": {
      "model_module": "@jupyter-widgets/controls",
      "model_module_version": "1.5.0",
      "model_name": "ButtonStyleModel",
      "state": {}
     },
     "91a8ab5be1d04e83a1771fa968abf2f3": {
      "model_module": "@jupyter-widgets/controls",
      "model_module_version": "1.5.0",
      "model_name": "DescriptionStyleModel",
      "state": {
       "description_width": ""
      }
     },
     "9216edaa36804826b4c6bf9676cc5817": {
      "model_module": "@jupyter-widgets/base",
      "model_module_version": "1.2.0",
      "model_name": "LayoutModel",
      "state": {}
     },
     "932db8fc7f624cfcb8e80c4c83498867": {
      "model_module": "@jupyter-widgets/base",
      "model_module_version": "1.2.0",
      "model_name": "LayoutModel",
      "state": {
       "width": "auto"
      }
     },
     "933258222e654aa29d36a06e07b0d6e8": {
      "model_module": "@jupyter-widgets/base",
      "model_module_version": "1.2.0",
      "model_name": "LayoutModel",
      "state": {}
     },
     "9365354a855149bd8ba8bdbea3fe08bd": {
      "model_module": "@jupyter-widgets/base",
      "model_module_version": "1.2.0",
      "model_name": "LayoutModel",
      "state": {}
     },
     "93f1105b1ff140a988be711f68a918e0": {
      "model_module": "@jupyter-widgets/controls",
      "model_module_version": "1.5.0",
      "model_name": "DescriptionStyleModel",
      "state": {
       "description_width": ""
      }
     },
     "942635841cf746b9a9492ae046ff8682": {
      "model_module": "@jupyter-widgets/controls",
      "model_module_version": "1.5.0",
      "model_name": "ButtonStyleModel",
      "state": {}
     },
     "948d3c16b9c34849917176c3d099c763": {
      "model_module": "@jupyter-widgets/controls",
      "model_module_version": "1.5.0",
      "model_name": "HTMLModel",
      "state": {
       "layout": "IPY_MODEL_90de50d78a644b7793b9fae6626046e0",
       "style": "IPY_MODEL_88e0cee888fe4118b7759d03fe1e8208",
       "value": "<h3 class='text-center'><font color='green'>Login</font> to <a stc='https://github.com/'>Github</a><h3>"
      }
     },
     "94bbaffd92594bc19be85dd32f4ba209": {
      "model_module": "@jupyter-widgets/output",
      "model_module_version": "1.0.0",
      "model_name": "OutputModel",
      "state": {
       "layout": "IPY_MODEL_933258222e654aa29d36a06e07b0d6e8",
       "outputs": [
        {
         "data": {
          "image/png": "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\n",
          "text/plain": "<Figure size 432x288 with 1 Axes>"
         },
         "metadata": {
          "needs_background": "light"
         },
         "output_type": "display_data"
        }
       ]
      }
     },
     "9547ecdb50904c6794a79863bb4b795f": {
      "model_module": "@jupyter-widgets/controls",
      "model_module_version": "1.5.0",
      "model_name": "VBoxModel",
      "state": {
       "children": [
        "IPY_MODEL_d95e55dd3f36440d83284be565e6c8fb",
        "IPY_MODEL_c8f715be846045308fcc085a17607676",
        "IPY_MODEL_6ae9d9abdb6342179821b2ea32baf17d",
        "IPY_MODEL_cacce58a34214fc4928805a2ef8e6441"
       ],
       "layout": "IPY_MODEL_782927195499447e884063fa675515f5"
      }
     },
     "960d4c22220a4585b6f4cc389ecd89f2": {
      "model_module": "@jupyter-widgets/controls",
      "model_module_version": "1.5.0",
      "model_name": "VBoxModel",
      "state": {
       "_dom_classes": [
        "widget-interact"
       ],
       "children": [
        "IPY_MODEL_f3eed668302548c798ba420b17ba87f7",
        "IPY_MODEL_4f3fb6ee417948e6819ce7357313d2f2",
        "IPY_MODEL_e0740315eb1e42bc8a58e40f984102d5"
       ],
       "layout": "IPY_MODEL_5f9567e40a3542a38eab590f396079e3"
      }
     },
     "96e8f6d1bedb417ab77e215283faed69": {
      "model_module": "@jupyter-widgets/base",
      "model_module_version": "1.2.0",
      "model_name": "LayoutModel",
      "state": {}
     },
     "96fdb826dc0d452185208925b120e574": {
      "model_module": "@jupyter-widgets/base",
      "model_module_version": "1.2.0",
      "model_name": "LayoutModel",
      "state": {}
     },
     "982b4d535dad4ef89df857145a1ee86a": {
      "model_module": "@jupyter-widgets/controls",
      "model_module_version": "1.5.0",
      "model_name": "ButtonStyleModel",
      "state": {}
     },
     "982f264f555d4772a5ff85fb4d10b669": {
      "model_module": "@jupyter-widgets/controls",
      "model_module_version": "1.5.0",
      "model_name": "VBoxModel",
      "state": {
       "children": [
        "IPY_MODEL_b12247cd5afb431ebf725ce8a516a1a7",
        "IPY_MODEL_123d21c960fc49fe9b7c8f0445028dcf",
        "IPY_MODEL_28922b73d93a4276afa1b928537eca97",
        "IPY_MODEL_75dd2c89029149a1b1b2663238836345"
       ],
       "layout": "IPY_MODEL_454492c5e9994e6eb455a41454725be2"
      }
     },
     "98324a3c855445dd8e5dd63e47f0bc3f": {
      "model_module": "@jupyter-widgets/controls",
      "model_module_version": "1.5.0",
      "model_name": "PasswordModel",
      "state": {
       "description": "Password",
       "layout": "IPY_MODEL_a1f05c773b144283b4ce7281c177aa8e",
       "style": "IPY_MODEL_b1283d70a1064b82aef7dc29f1404fc6"
      }
     },
     "98a638ef5f7d45278585265e78ee6fb7": {
      "model_module": "@jupyter-widgets/base",
      "model_module_version": "1.2.0",
      "model_name": "LayoutModel",
      "state": {}
     },
     "98b05bbb64684ab08a5dba15fe494b71": {
      "model_module": "@jupyter-widgets/base",
      "model_module_version": "1.2.0",
      "model_name": "LayoutModel",
      "state": {}
     },
     "98b6a61fc2bd47fd89dd17cf1e3d00d7": {
      "model_module": "@jupyter-widgets/controls",
      "model_module_version": "1.5.0",
      "model_name": "ButtonStyleModel",
      "state": {}
     },
     "98c307e0ca4f4ca9bab992bfcb5ca0f5": {
      "model_module": "@jupyter-widgets/controls",
      "model_module_version": "1.5.0",
      "model_name": "HBoxModel",
      "state": {
       "children": [
        "IPY_MODEL_0d10094ebc404569836f7fb43043cefd",
        "IPY_MODEL_3158fb99617b41fb8fc68a91e44feb13",
        "IPY_MODEL_4e97c2ee6d9144f191e9c164e090a6eb",
        "IPY_MODEL_c96823137d974cff82c2be79dbdeab09"
       ],
       "layout": "IPY_MODEL_052ce0dab4e04fa5a9bc5c2706e06c0d"
      }
     },
     "99ff24753b684481b73637cee4f295d7": {
      "model_module": "@jupyter-widgets/controls",
      "model_module_version": "1.5.0",
      "model_name": "HBoxModel",
      "state": {
       "children": [
        "IPY_MODEL_90556860e3f643d38e00accfda91ed84",
        "IPY_MODEL_9eb16e8770fe40669d2306bfc4d51fc5",
        "IPY_MODEL_90649f8dc16b4f0ea00b62274baacbda",
        "IPY_MODEL_7baf40e623ec45979c7a3f90e979f4ce"
       ],
       "layout": "IPY_MODEL_a1c84901f2f248ad9215e3e609863877"
      }
     },
     "9b1e2bf89c8c4de8842e0fc660377dbb": {
      "model_module": "@jupyter-widgets/controls",
      "model_module_version": "1.5.0",
      "model_name": "DescriptionStyleModel",
      "state": {
       "description_width": ""
      }
     },
     "9bbd0abd054042d488525917d9abaf51": {
      "model_module": "@jupyter-widgets/base",
      "model_module_version": "1.2.0",
      "model_name": "LayoutModel",
      "state": {}
     },
     "9bbffc426bd745a4b04cebbc85df00ac": {
      "model_module": "@jupyter-widgets/controls",
      "model_module_version": "1.5.0",
      "model_name": "ValidModel",
      "state": {
       "layout": "IPY_MODEL_7c8d4a43884e4e34acb3af24e3af6de6",
       "style": "IPY_MODEL_be1122bda7a44994a5d11a88d3950c1d"
      }
     },
     "9ca32c82f02b44cc8bb711dd540c0a72": {
      "model_module": "@jupyter-widgets/base",
      "model_module_version": "1.2.0",
      "model_name": "LayoutModel",
      "state": {}
     },
     "9cc0eabf88ac491fafae148918171c73": {
      "model_module": "@jupyter-widgets/base",
      "model_module_version": "1.2.0",
      "model_name": "LayoutModel",
      "state": {}
     },
     "9cc9e45e01f547d2a45f18fb75840c8a": {
      "model_module": "@jupyter-widgets/controls",
      "model_module_version": "1.5.0",
      "model_name": "ButtonStyleModel",
      "state": {}
     },
     "9cdd5f38780145a1b9b4c5b12fc35f05": {
      "model_module": "@jupyter-widgets/controls",
      "model_module_version": "1.5.0",
      "model_name": "ButtonModel",
      "state": {
       "description": "Say Hello",
       "layout": "IPY_MODEL_6cc3623520b04777a34adc5ef6f95805",
       "style": "IPY_MODEL_0becbbea4c5d4399b1553c74110fee9e"
      }
     },
     "9e7ec2ae290e4fb1a4f7ca96ac613b5b": {
      "model_module": "@jupyter-widgets/base",
      "model_module_version": "1.2.0",
      "model_name": "LayoutModel",
      "state": {}
     },
     "9eb16e8770fe40669d2306bfc4d51fc5": {
      "model_module": "@jupyter-widgets/controls",
      "model_module_version": "1.5.0",
      "model_name": "PasswordModel",
      "state": {
       "description": "Password",
       "layout": "IPY_MODEL_a571c9be0035468c91f9899ff9f13d42",
       "style": "IPY_MODEL_057be5f82c464829a36394007d22ac03"
      }
     },
     "9ecef95bfba04d349e01590dea1c35c9": {
      "model_module": "@jupyter-widgets/controls",
      "model_module_version": "1.5.0",
      "model_name": "ValidModel",
      "state": {
       "layout": "IPY_MODEL_babb7851aee44e628fcf329f27cf2fb6",
       "style": "IPY_MODEL_9b1e2bf89c8c4de8842e0fc660377dbb"
      }
     },
     "9f0b9494dd3f492e96504938b605a682": {
      "model_module": "@jupyter-widgets/base",
      "model_module_version": "1.2.0",
      "model_name": "LayoutModel",
      "state": {}
     },
     "9f889ff83797406d89c71a00d4b97abb": {
      "model_module": "@jupyter-widgets/controls",
      "model_module_version": "1.5.0",
      "model_name": "ButtonStyleModel",
      "state": {}
     },
     "9fcf7fcfc0f84d8990043f63253c9f8e": {
      "model_module": "@jupyter-widgets/base",
      "model_module_version": "1.2.0",
      "model_name": "LayoutModel",
      "state": {
       "justify_content": "center",
       "margin": "0 0 0 100px"
      }
     },
     "9fd4ad0c01a94203b1eb64da31783083": {
      "model_module": "@jupyter-widgets/controls",
      "model_module_version": "1.5.0",
      "model_name": "IntSliderModel",
      "state": {
       "layout": "IPY_MODEL_208669ba113a40ae8ce1cbf389a325e6",
       "style": "IPY_MODEL_846d01b554704e1a8b72d45374ee5c00"
      }
     },
     "9ff441d3e5394082b9bf85da7b3f52be": {
      "model_module": "@jupyter-widgets/controls",
      "model_module_version": "1.5.0",
      "model_name": "ButtonModel",
      "state": {
       "button_style": "danger",
       "icon": "times",
       "layout": "IPY_MODEL_5be6ed7ed51a41f8964cec35557bb0be",
       "style": "IPY_MODEL_98b6a61fc2bd47fd89dd17cf1e3d00d7"
      }
     },
     "a04d873281eb4d83831e174343ad66ce": {
      "model_module": "@jupyter-widgets/base",
      "model_module_version": "1.2.0",
      "model_name": "LayoutModel",
      "state": {}
     },
     "a0836a8653c141c59081852196f66f20": {
      "model_module": "@jupyter-widgets/controls",
      "model_module_version": "1.5.0",
      "model_name": "DescriptionStyleModel",
      "state": {
       "description_width": ""
      }
     },
     "a146ebecb8bb4308811b4a0576b58f11": {
      "model_module": "@jupyter-widgets/base",
      "model_module_version": "1.2.0",
      "model_name": "LayoutModel",
      "state": {}
     },
     "a14d7ae5862b471caa03c152826e27ca": {
      "model_module": "@jupyter-widgets/controls",
      "model_module_version": "1.5.0",
      "model_name": "DescriptionStyleModel",
      "state": {
       "description_width": ""
      }
     },
     "a1c84901f2f248ad9215e3e609863877": {
      "model_module": "@jupyter-widgets/base",
      "model_module_version": "1.2.0",
      "model_name": "LayoutModel",
      "state": {}
     },
     "a1cb4502666346ff9a7aff05add60f28": {
      "model_module": "@jupyter-widgets/controls",
      "model_module_version": "1.5.0",
      "model_name": "ButtonStyleModel",
      "state": {}
     },
     "a1f05c773b144283b4ce7281c177aa8e": {
      "model_module": "@jupyter-widgets/base",
      "model_module_version": "1.2.0",
      "model_name": "LayoutModel",
      "state": {}
     },
     "a2ce5b28ec3749a6bfb4f68552b484b5": {
      "model_module": "@jupyter-widgets/controls",
      "model_module_version": "1.5.0",
      "model_name": "IntProgressModel",
      "state": {
       "description": "Loading:",
       "layout": "IPY_MODEL_113aadf129154eefad1dc6a79ed619a7",
       "max": 10,
       "style": "IPY_MODEL_3f990b9e01d04077b5a76a7811abe656",
       "value": 4
      }
     },
     "a306b10b50424fa88d45ccdac802ddc2": {
      "model_module": "@jupyter-widgets/base",
      "model_module_version": "1.2.0",
      "model_name": "LayoutModel",
      "state": {}
     },
     "a3f5ce98c7324e32883add6304deffb3": {
      "model_module": "@jupyter-widgets/controls",
      "model_module_version": "1.5.0",
      "model_name": "HBoxModel",
      "state": {
       "children": [
        "IPY_MODEL_1638205f8b0440d986885018a29188de",
        "IPY_MODEL_2e7a889c535947aa92cbfefb2ca431b7"
       ],
       "layout": "IPY_MODEL_ad40c8bdee3e45478d963a49755e887b"
      }
     },
     "a45dfb0512e241c5b92f3872aea1e3d6": {
      "model_module": "@jupyter-widgets/base",
      "model_module_version": "1.2.0",
      "model_name": "LayoutModel",
      "state": {
       "width": "auto"
      }
     },
     "a4d0720e08f04cc4a0bcc3f671db9bf9": {
      "model_module": "@jupyter-widgets/controls",
      "model_module_version": "1.5.0",
      "model_name": "DescriptionStyleModel",
      "state": {
       "description_width": ""
      }
     },
     "a571c9be0035468c91f9899ff9f13d42": {
      "model_module": "@jupyter-widgets/base",
      "model_module_version": "1.2.0",
      "model_name": "LayoutModel",
      "state": {}
     },
     "a5e6e5296d244d7baf82bc8dfc262b84": {
      "model_module": "@jupyter-widgets/base",
      "model_module_version": "1.2.0",
      "model_name": "LayoutModel",
      "state": {}
     },
     "a66f1dd5fbc54e6d83aafbd25dcdb78e": {
      "model_module": "@jupyter-widgets/base",
      "model_module_version": "1.2.0",
      "model_name": "LayoutModel",
      "state": {}
     },
     "a683fcacc0e945269d9a34649cb60766": {
      "model_module": "@jupyter-widgets/base",
      "model_module_version": "1.2.0",
      "model_name": "LayoutModel",
      "state": {
       "width": "auto"
      }
     },
     "a6c38b5471cc4d44ab59424328b98caa": {
      "model_module": "@jupyter-widgets/controls",
      "model_module_version": "1.5.0",
      "model_name": "DropdownModel",
      "state": {
       "_options_labels": [
        "Apple",
        "Orange",
        "Pineapple"
       ],
       "description": "Fruit:",
       "index": 0,
       "layout": "IPY_MODEL_a86c91af700b49dd8dc123ac5cadb8f5",
       "style": "IPY_MODEL_de331ece92524580a421e0b04603af99"
      }
     },
     "a77ee5d066c344c7b2039de74d040607": {
      "model_module": "@jupyter-widgets/controls",
      "model_module_version": "1.5.0",
      "model_name": "ButtonModel",
      "state": {
       "button_style": "danger",
       "icon": "accessible-icon",
       "layout": "IPY_MODEL_afb66438e8254a099c714f7a1a7a072e",
       "style": "IPY_MODEL_8949379617634efbb0d6afe573b4e5b1"
      }
     },
     "a7cff5975e764d5fb36e475b790a2d9c": {
      "model_module": "@jupyter-widgets/controls",
      "model_module_version": "1.5.0",
      "model_name": "HBoxModel",
      "state": {
       "children": [
        "IPY_MODEL_f2ef65d921e64a2cabc4c36c09904081",
        "IPY_MODEL_3ab872b3e3464821b1d70b1e538387b8",
        "IPY_MODEL_ede65ddb498a4c8caedca69d3598bb9d",
        "IPY_MODEL_8268c093fe504558bc777799c7bb9a9b"
       ],
       "layout": "IPY_MODEL_8101825144e246729942282914fbaf3f"
      }
     },
     "a867c7f1e7174db781756de920e3f9cf": {
      "model_module": "@jupyter-widgets/base",
      "model_module_version": "1.2.0",
      "model_name": "LayoutModel",
      "state": {}
     },
     "a86c91af700b49dd8dc123ac5cadb8f5": {
      "model_module": "@jupyter-widgets/base",
      "model_module_version": "1.2.0",
      "model_name": "LayoutModel",
      "state": {}
     },
     "a89adbdd079b4dc3b8e72d6644dca7ab": {
      "model_module": "@jupyter-widgets/controls",
      "model_module_version": "1.5.0",
      "model_name": "DescriptionStyleModel",
      "state": {
       "description_width": ""
      }
     },
     "a89f83018d294080b3e8a7c2779ecc3b": {
      "model_module": "@jupyter-widgets/controls",
      "model_module_version": "1.5.0",
      "model_name": "ButtonModel",
      "state": {
       "button_style": "danger",
       "icon": "stopwatch",
       "layout": "IPY_MODEL_855837ea38cb4c588a7ae9980679e545",
       "style": "IPY_MODEL_316f9c48d4e043059e82a32ac35b8aff"
      }
     },
     "a95857fa39f3482b99185e193ef1fa98": {
      "model_module": "@jupyter-widgets/controls",
      "model_module_version": "1.5.0",
      "model_name": "DescriptionStyleModel",
      "state": {
       "description_width": ""
      }
     },
     "aa68f3671d264634802b833d958d073c": {
      "model_module": "@jupyter-widgets/base",
      "model_module_version": "1.2.0",
      "model_name": "LayoutModel",
      "state": {}
     },
     "aaf111b8f27e4cf48fda85edbe2956cb": {
      "model_module": "@jupyter-widgets/controls",
      "model_module_version": "1.5.0",
      "model_name": "HBoxModel",
      "state": {
       "children": [
        "IPY_MODEL_90649f8dc16b4f0ea00b62274baacbda",
        "IPY_MODEL_7baf40e623ec45979c7a3f90e979f4ce"
       ],
       "layout": "IPY_MODEL_3467b6c1568c406891b9c95a03356419"
      }
     },
     "ab216aea36b5460385da58baabd356d3": {
      "model_module": "@jupyter-widgets/controls",
      "model_module_version": "1.5.0",
      "model_name": "DescriptionStyleModel",
      "state": {
       "description_width": ""
      }
     },
     "ab7a3c80cd024a9fa19867f65fb4d02a": {
      "model_module": "@jupyter-widgets/base",
      "model_module_version": "1.2.0",
      "model_name": "LayoutModel",
      "state": {}
     },
     "abf8376dd0d14405bb16aea2b13211dc": {
      "model_module": "@jupyter-widgets/controls",
      "model_module_version": "1.5.0",
      "model_name": "ButtonStyleModel",
      "state": {}
     },
     "ac5d39ce74854b5d893d7497dd41f94e": {
      "model_module": "@jupyter-widgets/controls",
      "model_module_version": "1.5.0",
      "model_name": "ButtonModel",
      "state": {
       "description": "Run Interact",
       "layout": "IPY_MODEL_98b05bbb64684ab08a5dba15fe494b71",
       "style": "IPY_MODEL_39f27386f567437dbe67cd6bc33d869f"
      }
     },
     "ac6921066fb04b0f8b73b64e9cce8032": {
      "model_module": "@jupyter-widgets/base",
      "model_module_version": "1.2.0",
      "model_name": "LayoutModel",
      "state": {}
     },
     "ac8f6f67e77b463ab63917104a2af3d4": {
      "model_module": "@jupyter-widgets/controls",
      "model_module_version": "1.5.0",
      "model_name": "DescriptionStyleModel",
      "state": {
       "description_width": ""
      }
     },
     "aca8db7627ee40758e039425e272695b": {
      "model_module": "@jupyter-widgets/controls",
      "model_module_version": "1.5.0",
      "model_name": "ButtonStyleModel",
      "state": {}
     },
     "acac89661dfd4055bf687c3c1c9a3c5d": {
      "model_module": "@jupyter-widgets/base",
      "model_module_version": "1.2.0",
      "model_name": "LayoutModel",
      "state": {}
     },
     "acad222e301044898fc49001b984d9f9": {
      "model_module": "@jupyter-widgets/controls",
      "model_module_version": "1.5.0",
      "model_name": "HBoxModel",
      "state": {
       "children": [
        "IPY_MODEL_c8f715be846045308fcc085a17607676",
        "IPY_MODEL_6ae9d9abdb6342179821b2ea32baf17d",
        "IPY_MODEL_296b89b7b1a141089a23dad60e633bfe",
        "IPY_MODEL_23818f25e55b4be1af307510fa7d709b"
       ],
       "layout": "IPY_MODEL_4bf26155fca24d9698e881af027e350c"
      }
     },
     "acb5acede8f14568ba35a33752535154": {
      "model_module": "@jupyter-widgets/controls",
      "model_module_version": "1.5.0",
      "model_name": "DescriptionStyleModel",
      "state": {
       "description_width": ""
      }
     },
     "acb6791245144eda9ace6a60e837e2ea": {
      "model_module": "@jupyter-widgets/controls",
      "model_module_version": "1.5.0",
      "model_name": "VBoxModel",
      "state": {
       "_dom_classes": [
        "widget-interact"
       ],
       "children": [
        "IPY_MODEL_c1375546cf8e43d8b9c3d5f138ab8f0b",
        "IPY_MODEL_6fe9c85881a4410d9b0f357a0310ada3",
        "IPY_MODEL_0ddaf75c5fbd41a28f5032020e502e75"
       ],
       "layout": "IPY_MODEL_9365354a855149bd8ba8bdbea3fe08bd"
      }
     },
     "acf4bc93a7ae433c8f7c6802657f84de": {
      "model_module": "@jupyter-widgets/controls",
      "model_module_version": "1.5.0",
      "model_name": "VBoxModel",
      "state": {
       "children": [
        "IPY_MODEL_e6d8cc6299ef46da8f5e5dcc61a6eb66",
        "IPY_MODEL_6b83689ed2324c7da3ebfb269805a3aa",
        "IPY_MODEL_c4e20991cebd478da9d19fca0a65e349",
        "IPY_MODEL_7ac7f51361e64281b1efc81edd10cf1b"
       ],
       "layout": "IPY_MODEL_7bbc63db9aa14d3e9f0ef735792a7c93"
      }
     },
     "ad03aba0ba7e43418434d1d185712450": {
      "model_module": "@jupyter-widgets/controls",
      "model_module_version": "1.5.0",
      "model_name": "ButtonStyleModel",
      "state": {}
     },
     "ad40c8bdee3e45478d963a49755e887b": {
      "model_module": "@jupyter-widgets/base",
      "model_module_version": "1.2.0",
      "model_name": "LayoutModel",
      "state": {}
     },
     "ae1a9f0d0c75484cb0ce246a116d0337": {
      "model_module": "@jupyter-widgets/controls",
      "model_module_version": "1.5.0",
      "model_name": "FloatSliderModel",
      "state": {
       "description": "m",
       "layout": "IPY_MODEL_9bbd0abd054042d488525917d9abaf51",
       "max": 2,
       "min": -2,
       "step": 0.1,
       "style": "IPY_MODEL_4d1acc7814334ec082c39c78270b363c",
       "value": 0.6
      }
     },
     "aeb08a23579f4a09a5bd1a6a74dfaa29": {
      "model_module": "@jupyter-widgets/controls",
      "model_module_version": "1.5.0",
      "model_name": "VBoxModel",
      "state": {
       "_dom_classes": [
        "widget-interact"
       ],
       "children": [
        "IPY_MODEL_6358fd67824b4dca85e0cfe1c5c67b7a",
        "IPY_MODEL_64af44256e0e459682c716351f9e62b7",
        "IPY_MODEL_611a4d4e8f044fc29534526fcbb9e54e"
       ],
       "layout": "IPY_MODEL_b417c50b331e4ce2bd0207e038edf09f"
      }
     },
     "afab33ea3dc248b9bfc6eba94d8dff86": {
      "model_module": "@jupyter-widgets/base",
      "model_module_version": "1.2.0",
      "model_name": "LayoutModel",
      "state": {}
     },
     "afb66438e8254a099c714f7a1a7a072e": {
      "model_module": "@jupyter-widgets/base",
      "model_module_version": "1.2.0",
      "model_name": "LayoutModel",
      "state": {
       "width": "auto"
      }
     },
     "b04d39cabd4346a8a4fdecb450a93cf3": {
      "model_module": "@jupyter-widgets/base",
      "model_module_version": "1.2.0",
      "model_name": "LayoutModel",
      "state": {}
     },
     "b09d0f18f71f4a22b002382b81b3e7ce": {
      "model_module": "@jupyter-widgets/base",
      "model_module_version": "1.2.0",
      "model_name": "LayoutModel",
      "state": {}
     },
     "b11b4e206e7c44baba09d3cbe1b0c37e": {
      "model_module": "@jupyter-widgets/base",
      "model_module_version": "1.2.0",
      "model_name": "LayoutModel",
      "state": {}
     },
     "b12247cd5afb431ebf725ce8a516a1a7": {
      "model_module": "@jupyter-widgets/controls",
      "model_module_version": "1.5.0",
      "model_name": "HTMLModel",
      "state": {
       "layout": "IPY_MODEL_d362d5d533914e3c976c103ca6b3d19b",
       "style": "IPY_MODEL_88c361662f2742c7a0de1f3138547b71",
       "value": "<h3 class='text-center'><font color='green'>Login</font> to <a stc='https://github.com/'>Github</a><h3>"
      }
     },
     "b1283d70a1064b82aef7dc29f1404fc6": {
      "model_module": "@jupyter-widgets/controls",
      "model_module_version": "1.5.0",
      "model_name": "DescriptionStyleModel",
      "state": {
       "description_width": ""
      }
     },
     "b241af9bf97d44b09db6b8a886c8d295": {
      "model_module": "@jupyter-widgets/base",
      "model_module_version": "1.2.0",
      "model_name": "LayoutModel",
      "state": {}
     },
     "b2c3d460d8ed4549866cb2c93c99f02d": {
      "model_module": "@jupyter-widgets/controls",
      "model_module_version": "1.5.0",
      "model_name": "VBoxModel",
      "state": {
       "children": [
        "IPY_MODEL_0805b473f0534b9aa21fe6decd2a6117",
        "IPY_MODEL_f2ef65d921e64a2cabc4c36c09904081",
        "IPY_MODEL_3ab872b3e3464821b1d70b1e538387b8",
        "IPY_MODEL_c6c0c239071d435c9bf86de436cf8851"
       ],
       "layout": "IPY_MODEL_f7989170b42e4435ad72d921965f31d5"
      }
     },
     "b417c50b331e4ce2bd0207e038edf09f": {
      "model_module": "@jupyter-widgets/base",
      "model_module_version": "1.2.0",
      "model_name": "LayoutModel",
      "state": {}
     },
     "b436be9ceb6d444d92d8f47dd3817978": {
      "model_module": "@jupyter-widgets/controls",
      "model_module_version": "1.5.0",
      "model_name": "DropdownModel",
      "state": {
       "_options_labels": [
        "Apple",
        "Orange",
        "Pineapple"
       ],
       "description": "Fruit:",
       "index": 0,
       "layout": "IPY_MODEL_7c348206b09649748b86bd9a68aa9d3d",
       "style": "IPY_MODEL_cb1ad1fe968d45db92033ee16265ceff"
      }
     },
     "b443c3b0ed624bfaa11f39c23048fd02": {
      "model_module": "@jupyter-widgets/controls",
      "model_module_version": "1.5.0",
      "model_name": "SliderStyleModel",
      "state": {
       "description_width": ""
      }
     },
     "b4e4d98e3bbe415abc24d9e1921753ff": {
      "model_module": "@jupyter-widgets/base",
      "model_module_version": "1.2.0",
      "model_name": "LayoutModel",
      "state": {}
     },
     "b4f1e74b16814a7fa6e4723a5650eb51": {
      "model_module": "@jupyter-widgets/controls",
      "model_module_version": "1.5.0",
      "model_name": "DescriptionStyleModel",
      "state": {
       "description_width": ""
      }
     },
     "b56cba6c970f4db0899f9deef2b30e6a": {
      "model_module": "@jupyter-widgets/controls",
      "model_module_version": "1.5.0",
      "model_name": "VBoxModel",
      "state": {
       "children": [
        "IPY_MODEL_c63084488b814f49a1455206d3346eb7",
        "IPY_MODEL_6b83689ed2324c7da3ebfb269805a3aa",
        "IPY_MODEL_c4e20991cebd478da9d19fca0a65e349",
        "IPY_MODEL_b7b19044a93a4dcf84c3473ccab7dafb"
       ],
       "layout": "IPY_MODEL_215b4bcd2f4e499383b7a4a5da047f34"
      }
     },
     "b576b0a3616c4dc2b496325a646d2a05": {
      "model_module": "@jupyter-widgets/base",
      "model_module_version": "1.2.0",
      "model_name": "LayoutModel",
      "state": {}
     },
     "b60d446b838d46e2b5cf2e5aa1574c7a": {
      "model_module": "@jupyter-widgets/controls",
      "model_module_version": "1.5.0",
      "model_name": "DescriptionStyleModel",
      "state": {
       "description_width": ""
      }
     },
     "b61eadd5b78c46a09979cd4d399e7fa4": {
      "model_module": "@jupyter-widgets/controls",
      "model_module_version": "1.5.0",
      "model_name": "DescriptionStyleModel",
      "state": {
       "description_width": ""
      }
     },
     "b718c3a306be4bc09e3f19e51590917a": {
      "model_module": "@jupyter-widgets/controls",
      "model_module_version": "1.5.0",
      "model_name": "DescriptionStyleModel",
      "state": {
       "description_width": ""
      }
     },
     "b7518e4fc0704585847c2f39f4223336": {
      "model_module": "@jupyter-widgets/controls",
      "model_module_version": "1.5.0",
      "model_name": "ButtonStyleModel",
      "state": {}
     },
     "b7a3e68006fa44b1b595d5417fca1619": {
      "model_module": "@jupyter-widgets/controls",
      "model_module_version": "1.5.0",
      "model_name": "SliderStyleModel",
      "state": {
       "description_width": ""
      }
     },
     "b7b19044a93a4dcf84c3473ccab7dafb": {
      "model_module": "@jupyter-widgets/controls",
      "model_module_version": "1.5.0",
      "model_name": "HBoxModel",
      "state": {
       "children": [
        "IPY_MODEL_c0d21f3989954c52b7ef89ca54d886aa",
        "IPY_MODEL_018c33c64ed24f139b9c4f4c9d71e4d3"
       ],
       "layout": "IPY_MODEL_db0fd060697c4340bfed435d295d3181"
      }
     },
     "b8324c7140ca4094aed9fd793abb0266": {
      "model_module": "@jupyter-widgets/controls",
      "model_module_version": "1.5.0",
      "model_name": "VBoxModel",
      "state": {
       "_dom_classes": [
        "widget-interact"
       ],
       "children": [
        "IPY_MODEL_fcc2a064627245d8a2c6ab505726e4a6",
        "IPY_MODEL_780a8b6ecd2a47eebe46126fb5d016f2",
        "IPY_MODEL_5a6eba6a7dc34245a0b381f6a2e584fc"
       ],
       "layout": "IPY_MODEL_0d7adc9731e74f8687e80c429bca1a53"
      }
     },
     "b965d237f60c4dc19f905743c34282a7": {
      "model_module": "@jupyter-widgets/controls",
      "model_module_version": "1.5.0",
      "model_name": "HBoxModel",
      "state": {
       "children": [
        "IPY_MODEL_4dc96a034ac740ca8a8d58e138b51e37",
        "IPY_MODEL_3e5b8adcfd244bb7bde8d3082a4c8d68",
        "IPY_MODEL_ee188ca5c8d441daae5a79941ab55e7b",
        "IPY_MODEL_53a8db4e637d45be8c59849aa246a6c6"
       ],
       "layout": "IPY_MODEL_bcbd15195269419c8157f5374a544dcd"
      }
     },
     "b9661557a2c2477dbbbedccf741064cc": {
      "model_module": "@jupyter-widgets/base",
      "model_module_version": "1.2.0",
      "model_name": "LayoutModel",
      "state": {
       "width": "auto"
      }
     },
     "b997320175974a32bc50c7363011a672": {
      "model_module": "@jupyter-widgets/base",
      "model_module_version": "1.2.0",
      "model_name": "LayoutModel",
      "state": {
       "width": "auto"
      }
     },
     "b9b5ed35a23f478c987cc391ff7413cc": {
      "model_module": "@jupyter-widgets/controls",
      "model_module_version": "1.5.0",
      "model_name": "VBoxModel",
      "state": {
       "_dom_classes": [
        "widget-interact"
       ],
       "children": [
        "IPY_MODEL_4a8c9ab25820412f9fe0750e4b3d2c5e",
        "IPY_MODEL_7b8d332734cf448cbd7511260a4abefa",
        "IPY_MODEL_789d97e9b15b4ef59948369b1fc38d60"
       ],
       "layout": "IPY_MODEL_18fd6cd5634d4d7c9f2009ef60344d47"
      }
     },
     "b9ba6ef0d5af4ed0b9e4926d5c64ce14": {
      "model_module": "@jupyter-widgets/base",
      "model_module_version": "1.2.0",
      "model_name": "LayoutModel",
      "state": {}
     },
     "ba9aef1a023f451886817329ccfdbf1c": {
      "model_module": "@jupyter-widgets/controls",
      "model_module_version": "1.5.0",
      "model_name": "ButtonStyleModel",
      "state": {}
     },
     "babb7851aee44e628fcf329f27cf2fb6": {
      "model_module": "@jupyter-widgets/base",
      "model_module_version": "1.2.0",
      "model_name": "LayoutModel",
      "state": {}
     },
     "bb4943fd2aed4ccea7940eeb4048d183": {
      "model_module": "@jupyter-widgets/controls",
      "model_module_version": "1.5.0",
      "model_name": "SliderStyleModel",
      "state": {
       "description_width": ""
      }
     },
     "bbc8dffd892a48e08cab503fbbad68bf": {
      "model_module": "@jupyter-widgets/output",
      "model_module_version": "1.0.0",
      "model_name": "OutputModel",
      "state": {
       "layout": "IPY_MODEL_e3064e7fb4184095a0e5432b668b47f1",
       "outputs": [
        {
         "data": {
          "image/png": "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\n",
          "text/plain": "<Figure size 432x288 with 1 Axes>"
         },
         "metadata": {
          "needs_background": "light"
         },
         "output_type": "display_data"
        }
       ]
      }
     },
     "bbe398f4fb2e4369b9ae5797a1408036": {
      "model_module": "@jupyter-widgets/base",
      "model_module_version": "1.2.0",
      "model_name": "LayoutModel",
      "state": {
       "width": "auto"
      }
     },
     "bbeb2a18ab32400c9cb956775b6e0ca9": {
      "model_module": "@jupyter-widgets/controls",
      "model_module_version": "1.5.0",
      "model_name": "SliderStyleModel",
      "state": {
       "description_width": ""
      }
     },
     "bc0416533c014160b4e67e2899da02e8": {
      "model_module": "@jupyter-widgets/controls",
      "model_module_version": "1.5.0",
      "model_name": "ButtonStyleModel",
      "state": {}
     },
     "bc1c5e3450a54a599f12b792650716c2": {
      "model_module": "@jupyter-widgets/base",
      "model_module_version": "1.2.0",
      "model_name": "LayoutModel",
      "state": {}
     },
     "bc945fa8c1384ec7a3ed02a7c2d5d8d0": {
      "model_module": "@jupyter-widgets/base",
      "model_module_version": "1.2.0",
      "model_name": "LayoutModel",
      "state": {}
     },
     "bcbd15195269419c8157f5374a544dcd": {
      "model_module": "@jupyter-widgets/base",
      "model_module_version": "1.2.0",
      "model_name": "LayoutModel",
      "state": {}
     },
     "bdcac59c7176476bb3cbb05fd2f32d18": {
      "model_module": "@jupyter-widgets/controls",
      "model_module_version": "1.5.0",
      "model_name": "ButtonModel",
      "state": {
       "description": "Click me",
       "icon": "check",
       "layout": "IPY_MODEL_519d49636d5b44139a351619a31b4625",
       "style": "IPY_MODEL_1ef34242b0924d9491bae4ef9e04d877",
       "tooltip": "Click me"
      }
     },
     "bdec4f4b691d44d1945672ab7b6bdfed": {
      "model_module": "@jupyter-widgets/controls",
      "model_module_version": "1.5.0",
      "model_name": "ButtonStyleModel",
      "state": {}
     },
     "be1122bda7a44994a5d11a88d3950c1d": {
      "model_module": "@jupyter-widgets/controls",
      "model_module_version": "1.5.0",
      "model_name": "DescriptionStyleModel",
      "state": {
       "description_width": ""
      }
     },
     "be48667a14664c0a8935bb0b217b683f": {
      "model_module": "@jupyter-widgets/controls",
      "model_module_version": "1.5.0",
      "model_name": "SliderStyleModel",
      "state": {
       "description_width": ""
      }
     },
     "be6ac9c51f594f1eb8ecf86b2bf4ad65": {
      "model_module": "@jupyter-widgets/controls",
      "model_module_version": "1.5.0",
      "model_name": "DescriptionStyleModel",
      "state": {
       "description_width": ""
      }
     },
     "bef4627f8c0348f4b580e35cbcc507b8": {
      "model_module": "@jupyter-widgets/base",
      "model_module_version": "1.2.0",
      "model_name": "LayoutModel",
      "state": {}
     },
     "bf7d8210658848248f788c2c0efa49e2": {
      "model_module": "@jupyter-widgets/controls",
      "model_module_version": "1.5.0",
      "model_name": "DescriptionStyleModel",
      "state": {
       "description_width": ""
      }
     },
     "bfaa9fca474b44efbad37ad0cf0e9e79": {
      "model_module": "@jupyter-widgets/controls",
      "model_module_version": "1.5.0",
      "model_name": "VBoxModel",
      "state": {
       "children": [
        "IPY_MODEL_b12247cd5afb431ebf725ce8a516a1a7",
        "IPY_MODEL_43e0c11af37749f2a9c11ca08768e870",
        "IPY_MODEL_f80b356049b44987adaa90705d150524",
        "IPY_MODEL_75dd2c89029149a1b1b2663238836345"
       ],
       "layout": "IPY_MODEL_7af4b75d88ab453999129f3983fecf2b"
      }
     },
     "c022799648b641dab89eec70e419705d": {
      "model_module": "@jupyter-widgets/controls",
      "model_module_version": "1.5.0",
      "model_name": "VBoxModel",
      "state": {
       "_dom_classes": [
        "widget-interact"
       ],
       "children": [
        "IPY_MODEL_fe84ea14edef450b9423d373b31dfde0",
        "IPY_MODEL_1234041d1e1c4b0784fc8b46d09e7a8f",
        "IPY_MODEL_dcf27a7063ef454a838b8589757f897b"
       ],
       "layout": "IPY_MODEL_63d9b85be25b4eb5ac341c64e0237314"
      }
     },
     "c035391666aa4f5f947b8e996a826235": {
      "model_module": "@jupyter-widgets/base",
      "model_module_version": "1.2.0",
      "model_name": "LayoutModel",
      "state": {}
     },
     "c056395c605a49ba9de390a291d521e9": {
      "model_module": "@jupyter-widgets/base",
      "model_module_version": "1.2.0",
      "model_name": "LayoutModel",
      "state": {}
     },
     "c05f8d40b6b24a448ae7cfc2d01f6e21": {
      "model_module": "@jupyter-widgets/base",
      "model_module_version": "1.2.0",
      "model_name": "LayoutModel",
      "state": {
       "justify_content": "center",
       "margin": "0 0 0 100px"
      }
     },
     "c068c0a512fc4b12b6b2a3dd3a0d4d0e": {
      "model_module": "@jupyter-widgets/controls",
      "model_module_version": "1.5.0",
      "model_name": "VBoxModel",
      "state": {
       "_dom_classes": [
        "widget-interact"
       ],
       "children": [
        "IPY_MODEL_41091d988deb45a38e739e652047316c",
        "IPY_MODEL_3b676216a9354e10bf3f967e0b537a37",
        "IPY_MODEL_7896809ab36e4dfe9fa30051169e9f50"
       ],
       "layout": "IPY_MODEL_9076c6e7c29d43d6b1c3f6c19a0f7e0f"
      }
     },
     "c090307525bd48ae88e8dedea409889d": {
      "model_module": "@jupyter-widgets/controls",
      "model_module_version": "1.5.0",
      "model_name": "HBoxModel",
      "state": {
       "children": [
        "IPY_MODEL_123d21c960fc49fe9b7c8f0445028dcf",
        "IPY_MODEL_28922b73d93a4276afa1b928537eca97",
        "IPY_MODEL_1638205f8b0440d986885018a29188de",
        "IPY_MODEL_2e7a889c535947aa92cbfefb2ca431b7"
       ],
       "layout": "IPY_MODEL_bc945fa8c1384ec7a3ed02a7c2d5d8d0"
      }
     },
     "c0d21f3989954c52b7ef89ca54d886aa": {
      "model_module": "@jupyter-widgets/controls",
      "model_module_version": "1.5.0",
      "model_name": "ButtonModel",
      "state": {
       "button_style": "success",
       "description": "Login",
       "layout": "IPY_MODEL_fc267ff16b864b948cb11738dbd4a3c0",
       "style": "IPY_MODEL_862a4d5cf7dd4893ab5ec6abfa0c0ba4"
      }
     },
     "c0d3c3cf2fb141e998894216002f5444": {
      "model_module": "@jupyter-widgets/base",
      "model_module_version": "1.2.0",
      "model_name": "LayoutModel",
      "state": {}
     },
     "c1162739b21b4f3f97e490ba9607a399": {
      "model_module": "@jupyter-widgets/controls",
      "model_module_version": "1.5.0",
      "model_name": "HBoxModel",
      "state": {
       "children": [
        "IPY_MODEL_f893b9e1d09a4ec3868ab31a03987ee3",
        "IPY_MODEL_04149eb2f6cd4af4af96a90c0b1c0f84"
       ],
       "layout": "IPY_MODEL_e98c5b121b5646e0a6be545f28217b65"
      }
     },
     "c1375546cf8e43d8b9c3d5f138ab8f0b": {
      "model_module": "@jupyter-widgets/controls",
      "model_module_version": "1.5.0",
      "model_name": "TextModel",
      "state": {
       "description": "text",
       "layout": "IPY_MODEL_4e3cdc422c4d4bf9a716c38c00e3a210",
       "style": "IPY_MODEL_049e75e6d943417da00f3425fc16abda",
       "value": "ad"
      }
     },
     "c15bcfa40b03461b86128d73eb25a332": {
      "model_module": "@jupyter-widgets/controls",
      "model_module_version": "1.5.0",
      "model_name": "PasswordModel",
      "state": {
       "description": "Password",
       "layout": "IPY_MODEL_fc49553652ce43518af9152a3fcc0fd9",
       "style": "IPY_MODEL_2285210731974be6982be710cc3c5986"
      }
     },
     "c2252e96241a4c5b91059899cb241068": {
      "model_module": "@jupyter-widgets/controls",
      "model_module_version": "1.5.0",
      "model_name": "ButtonStyleModel",
      "state": {}
     },
     "c257249a12a54066b45cad35e2017a01": {
      "model_module": "@jupyter-widgets/controls",
      "model_module_version": "1.5.0",
      "model_name": "IntSliderModel",
      "state": {
       "description": "times",
       "layout": "IPY_MODEL_18bd0e2d3a394c0b9cee5d298e039cd7",
       "max": 5,
       "style": "IPY_MODEL_338e5bf6cfe843aaac8fd95822021f4f",
       "value": 3
      }
     },
     "c3a5141713484f54b833492b89aaddaf": {
      "model_module": "@jupyter-widgets/controls",
      "model_module_version": "1.5.0",
      "model_name": "FloatSliderModel",
      "state": {
       "description": "m",
       "layout": "IPY_MODEL_3ce455964e3c4127ba4f2f2615e29aaf",
       "max": 2,
       "min": -2,
       "step": 0.1,
       "style": "IPY_MODEL_cf7ff22920634feea1b9d4f285fcfcc8"
      }
     },
     "c3c5f71bd574448495bf65733ef69fdc": {
      "model_module": "@jupyter-widgets/controls",
      "model_module_version": "1.5.0",
      "model_name": "HTMLModel",
      "state": {
       "layout": "IPY_MODEL_75446204067a4ecba5825e4c1610841c",
       "style": "IPY_MODEL_322ab3baf1504c0d84d9b4ba7c6dca29",
       "value": "<h3 class='text-center'><font color='green'>Login</font> to <a stc='https://github.com/'>Github</a><h3>"
      }
     },
     "c42bd8aef06a4076adf5b0178f89ada2": {
      "model_module": "@jupyter-widgets/controls",
      "model_module_version": "1.5.0",
      "model_name": "SliderStyleModel",
      "state": {
       "description_width": ""
      }
     },
     "c4af72d235354b1d8be80c0247b2a762": {
      "model_module": "@jupyter-widgets/controls",
      "model_module_version": "1.5.0",
      "model_name": "HTMLModel",
      "state": {
       "layout": "IPY_MODEL_84beff3fcd9c4f9e99b2aba06ebf061d",
       "style": "IPY_MODEL_5d2f51333f72472f893daa20a778b45a",
       "value": "<font color='red'>Howdy</font>"
      }
     },
     "c4aff5f26b444cf297960f66b9415801": {
      "model_module": "@jupyter-widgets/controls",
      "model_module_version": "1.5.0",
      "model_name": "TextModel",
      "state": {
       "description": "String:",
       "layout": "IPY_MODEL_4a54df588ce843588d006550f2ad56d5",
       "placeholder": "Type something",
       "style": "IPY_MODEL_6116f479fbe54d149da0f4e7d802f74e",
       "value": "Hello World"
      }
     },
     "c4e20991cebd478da9d19fca0a65e349": {
      "model_module": "@jupyter-widgets/controls",
      "model_module_version": "1.5.0",
      "model_name": "PasswordModel",
      "state": {
       "description": "Password",
       "layout": "IPY_MODEL_e63e9c90cb914ccfbb1f66698b5ca102",
       "style": "IPY_MODEL_8de2e1db06b9404188f0e083b21b3290"
      }
     },
     "c4e8422710674e8298129783dde8639f": {
      "model_module": "@jupyter-widgets/controls",
      "model_module_version": "1.5.0",
      "model_name": "TextModel",
      "state": {
       "description": "Username",
       "layout": "IPY_MODEL_623b9249e2b44177ad0f71e27a758c12",
       "style": "IPY_MODEL_865e87f3e5d74da3a70e010d359c8a97"
      }
     },
     "c50c90790798484d8af1fbf87d0ee615": {
      "model_module": "@jupyter-widgets/controls",
      "model_module_version": "1.5.0",
      "model_name": "HBoxModel",
      "state": {
       "children": [
        "IPY_MODEL_6b83689ed2324c7da3ebfb269805a3aa",
        "IPY_MODEL_c4e20991cebd478da9d19fca0a65e349",
        "IPY_MODEL_c0d21f3989954c52b7ef89ca54d886aa",
        "IPY_MODEL_018c33c64ed24f139b9c4f4c9d71e4d3"
       ],
       "layout": "IPY_MODEL_db2e06069093427d923318ab9f0a4141"
      }
     },
     "c51e9e3f8b0841649dd4c13b0c6feb99": {
      "model_module": "@jupyter-widgets/base",
      "model_module_version": "1.2.0",
      "model_name": "LayoutModel",
      "state": {
       "justify_content": "center",
       "margin": "0 0 0 100px"
      }
     },
     "c5278b17840649a5a2ea070918b88695": {
      "model_module": "@jupyter-widgets/controls",
      "model_module_version": "1.5.0",
      "model_name": "DescriptionStyleModel",
      "state": {
       "description_width": ""
      }
     },
     "c63084488b814f49a1455206d3346eb7": {
      "model_module": "@jupyter-widgets/controls",
      "model_module_version": "1.5.0",
      "model_name": "HTMLModel",
      "state": {
       "layout": "IPY_MODEL_96fdb826dc0d452185208925b120e574",
       "style": "IPY_MODEL_91a8ab5be1d04e83a1771fa968abf2f3",
       "value": "<h3 class='text-center'><font color='green'>Login</font> to <a stc='https://github.com/'>Github</a><h3>"
      }
     },
     "c6c0c239071d435c9bf86de436cf8851": {
      "model_module": "@jupyter-widgets/controls",
      "model_module_version": "1.5.0",
      "model_name": "HBoxModel",
      "state": {
       "children": [
        "IPY_MODEL_ede65ddb498a4c8caedca69d3598bb9d",
        "IPY_MODEL_8268c093fe504558bc777799c7bb9a9b"
       ],
       "layout": "IPY_MODEL_db04a0eebe7846768d2a71aed36c2628"
      }
     },
     "c7297f241ab7416aadf0856106b0dccf": {
      "model_module": "@jupyter-widgets/controls",
      "model_module_version": "1.5.0",
      "model_name": "SliderStyleModel",
      "state": {
       "description_width": ""
      }
     },
     "c72dabe2884b46e6a6e2bb8222a6306b": {
      "model_module": "@jupyter-widgets/controls",
      "model_module_version": "1.5.0",
      "model_name": "SliderStyleModel",
      "state": {
       "description_width": ""
      }
     },
     "c7b0e969cace4f0f97242b7e541990dd": {
      "model_module": "@jupyter-widgets/controls",
      "model_module_version": "1.5.0",
      "model_name": "DescriptionStyleModel",
      "state": {
       "description_width": ""
      }
     },
     "c7dba0eda60c461e87ab2dfd242ea892": {
      "model_module": "@jupyter-widgets/controls",
      "model_module_version": "1.5.0",
      "model_name": "TextModel",
      "state": {
       "description": "text",
       "layout": "IPY_MODEL_04ca5db4b3f34bf4a56b2b09b72b6f73",
       "style": "IPY_MODEL_acb5acede8f14568ba35a33752535154",
       "value": "howdy"
      }
     },
     "c880a66ff0b94b6fbfad45e6b21a7fe9": {
      "model_module": "@jupyter-widgets/controls",
      "model_module_version": "1.5.0",
      "model_name": "ButtonStyleModel",
      "state": {}
     },
     "c8f715be846045308fcc085a17607676": {
      "model_module": "@jupyter-widgets/controls",
      "model_module_version": "1.5.0",
      "model_name": "TextModel",
      "state": {
       "description": "Username",
       "layout": "IPY_MODEL_d5dfd2a247fc4cb9a861a1623d33d624",
       "style": "IPY_MODEL_59bcd3b37427481eb0beeba8f69034d8"
      }
     },
     "c96823137d974cff82c2be79dbdeab09": {
      "model_module": "@jupyter-widgets/controls",
      "model_module_version": "1.5.0",
      "model_name": "ValidModel",
      "state": {
       "layout": "IPY_MODEL_40879784ff0e44c98b5bf91807158ae6",
       "style": "IPY_MODEL_6d91df807ba9451299de19f75f696f2e"
      }
     },
     "c9ca2ae6b2de43f6a1d0fa831c6e01e8": {
      "model_module": "@jupyter-widgets/base",
      "model_module_version": "1.2.0",
      "model_name": "LayoutModel",
      "state": {}
     },
     "c9e97abae9d14142b6c95e833b37f700": {
      "model_module": "@jupyter-widgets/controls",
      "model_module_version": "1.5.0",
      "model_name": "SliderStyleModel",
      "state": {
       "description_width": ""
      }
     },
     "c9ec3d951a2d4033abf7f7f51392b81c": {
      "model_module": "@jupyter-widgets/base",
      "model_module_version": "1.2.0",
      "model_name": "LayoutModel",
      "state": {
       "justify_content": "center",
       "margin": "0 0 0 100px"
      }
     },
     "ca9d2c8682674bf698c5ced4518f6939": {
      "model_module": "@jupyter-widgets/controls",
      "model_module_version": "1.5.0",
      "model_name": "TextModel",
      "state": {
       "description": "String:",
       "layout": "IPY_MODEL_841319a51afc42d4a3be22875f8cfe04",
       "placeholder": "Type something",
       "style": "IPY_MODEL_4f53d03fd9544713afeef5e11a0b9dda"
      }
     },
     "cacce58a34214fc4928805a2ef8e6441": {
      "model_module": "@jupyter-widgets/controls",
      "model_module_version": "1.5.0",
      "model_name": "HBoxModel",
      "state": {
       "children": [
        "IPY_MODEL_296b89b7b1a141089a23dad60e633bfe",
        "IPY_MODEL_23818f25e55b4be1af307510fa7d709b"
       ],
       "layout": "IPY_MODEL_682dcb6d33ac473ab56bdbf885b0e0de"
      }
     },
     "cb0a28e347ca4c53a836fb1383eb6ab7": {
      "model_module": "@jupyter-widgets/base",
      "model_module_version": "1.2.0",
      "model_name": "LayoutModel",
      "state": {}
     },
     "cb1ad1fe968d45db92033ee16265ceff": {
      "model_module": "@jupyter-widgets/controls",
      "model_module_version": "1.5.0",
      "model_name": "DescriptionStyleModel",
      "state": {
       "description_width": ""
      }
     },
     "cba135adf23b4aaa80bb285440b37d94": {
      "model_module": "@jupyter-widgets/base",
      "model_module_version": "1.2.0",
      "model_name": "LayoutModel",
      "state": {}
     },
     "cc5fe36338f84a64afccecfac353bc08": {
      "model_module": "@jupyter-widgets/controls",
      "model_module_version": "1.5.0",
      "model_name": "VBoxModel",
      "state": {
       "_dom_classes": [
        "widget-interact"
       ],
       "children": [
        "IPY_MODEL_ae1a9f0d0c75484cb0ce246a116d0337",
        "IPY_MODEL_7f0959988e5d493186154c0a49359dd6",
        "IPY_MODEL_3e7ea11ced02411aa5dad78cac952c40"
       ],
       "layout": "IPY_MODEL_1613143c34434fffb2269304d158e01e"
      }
     },
     "cd5d244378484780a1993aa89be73694": {
      "model_module": "@jupyter-widgets/controls",
      "model_module_version": "1.5.0",
      "model_name": "HTMLModel",
      "state": {
       "layout": "IPY_MODEL_d5d5f4047da54faf9cbff48225fe4c4a",
       "style": "IPY_MODEL_05b5c4e92b3c4622a380b8e40524cf41",
       "value": "<h3 class='text-center'><font color='green'>Login</font> to <a stc='https://github.com/'>Github</a><h3>"
      }
     },
     "ce01e81755ce4b64a237fec4a0ec9dcf": {
      "model_module": "@jupyter-widgets/controls",
      "model_module_version": "1.5.0",
      "model_name": "DescriptionStyleModel",
      "state": {
       "description_width": ""
      }
     },
     "ce0249001391410384673cf24efddbf5": {
      "model_module": "@jupyter-widgets/controls",
      "model_module_version": "1.5.0",
      "model_name": "ButtonModel",
      "state": {
       "button_style": "success",
       "description": "Login",
       "layout": "IPY_MODEL_f8e264b5bb51470a9cb70276219aa7d5",
       "style": "IPY_MODEL_919272dc822e413292258a08cfa032ab"
      }
     },
     "ce3571754acf42339e99ff1db1855c93": {
      "model_module": "@jupyter-widgets/controls",
      "model_module_version": "1.5.0",
      "model_name": "HBoxModel",
      "state": {
       "children": [
        "IPY_MODEL_c0d21f3989954c52b7ef89ca54d886aa",
        "IPY_MODEL_018c33c64ed24f139b9c4f4c9d71e4d3"
       ],
       "layout": "IPY_MODEL_ff2d76d8cb854db98bce33d08b4e2c7a"
      }
     },
     "ce691d4bd7474167a7b385256760942d": {
      "model_module": "@jupyter-widgets/controls",
      "model_module_version": "1.5.0",
      "model_name": "ButtonStyleModel",
      "state": {}
     },
     "cec6e33595fe48baad3b1300c7d3bd0a": {
      "model_module": "@jupyter-widgets/controls",
      "model_module_version": "1.5.0",
      "model_name": "ButtonStyleModel",
      "state": {}
     },
     "cf550fd482cf4d70a5ff18867282f65c": {
      "model_module": "@jupyter-widgets/base",
      "model_module_version": "1.2.0",
      "model_name": "LayoutModel",
      "state": {}
     },
     "cf7ff22920634feea1b9d4f285fcfcc8": {
      "model_module": "@jupyter-widgets/controls",
      "model_module_version": "1.5.0",
      "model_name": "SliderStyleModel",
      "state": {
       "description_width": ""
      }
     },
     "cfd2f18e38e042669e09c1dc3553f8ff": {
      "model_module": "@jupyter-widgets/controls",
      "model_module_version": "1.5.0",
      "model_name": "HTMLModel",
      "state": {
       "layout": "IPY_MODEL_fa9f7e1c22484e3d97460272cd45e6ea",
       "style": "IPY_MODEL_8c6d32e93ce342a197a727d13306f6e9",
       "value": "<h3 class='text-center'><font color='green'>Login</font> to <a stc='https://github.com/'>Github</a><h3>"
      }
     },
     "d004fd655b8f413a88527c992e7139b6": {
      "model_module": "@jupyter-widgets/base",
      "model_module_version": "1.2.0",
      "model_name": "LayoutModel",
      "state": {}
     },
     "d04da889633c4d9f8c2408450565a0d9": {
      "model_module": "@jupyter-widgets/controls",
      "model_module_version": "1.5.0",
      "model_name": "ButtonModel",
      "state": {
       "layout": "IPY_MODEL_68490412132e4674aeb4940d2a175b12",
       "style": "IPY_MODEL_e047dad3bf694231b3315d15a18f56d9"
      }
     },
     "d07bb99de26c4365bddade0165853d5e": {
      "model_module": "@jupyter-widgets/base",
      "model_module_version": "1.2.0",
      "model_name": "LayoutModel",
      "state": {}
     },
     "d1120b3211c741e1870d1d8f77dd400e": {
      "model_module": "@jupyter-widgets/controls",
      "model_module_version": "1.5.0",
      "model_name": "HBoxModel",
      "state": {
       "children": [
        "IPY_MODEL_1c927fff1f1046ed961724e58240649c",
        "IPY_MODEL_30ebbfea17b74107839661e00a2bbd8b"
       ],
       "layout": "IPY_MODEL_fc123d1e6d8248ad90e57ff2de30fdf7"
      }
     },
     "d198ed7f1a384dc99088ab05b2d66787": {
      "model_module": "@jupyter-widgets/controls",
      "model_module_version": "1.5.0",
      "model_name": "ButtonModel",
      "state": {
       "button_style": "danger",
       "icon": "battery-empty",
       "layout": "IPY_MODEL_5be5a1d1edf84a83bad5bcdbc3ba5d01",
       "style": "IPY_MODEL_2abec6364f404b7e9aa6dd763257c5cf"
      }
     },
     "d30aa41d137a4ea0aa2db6b1a8a07754": {
      "model_module": "@jupyter-widgets/controls",
      "model_module_version": "1.5.0",
      "model_name": "SliderStyleModel",
      "state": {
       "description_width": ""
      }
     },
     "d329698de07740f996ae8abcfbda91df": {
      "model_module": "@jupyter-widgets/controls",
      "model_module_version": "1.5.0",
      "model_name": "DescriptionStyleModel",
      "state": {
       "description_width": ""
      }
     },
     "d362d5d533914e3c976c103ca6b3d19b": {
      "model_module": "@jupyter-widgets/base",
      "model_module_version": "1.2.0",
      "model_name": "LayoutModel",
      "state": {}
     },
     "d365936f15f447268469642d9de86ca4": {
      "model_module": "@jupyter-widgets/controls",
      "model_module_version": "1.5.0",
      "model_name": "DescriptionStyleModel",
      "state": {
       "description_width": ""
      }
     },
     "d4124a142b8b47fe9b116831aacea329": {
      "model_module": "@jupyter-widgets/controls",
      "model_module_version": "1.5.0",
      "model_name": "HTMLModel",
      "state": {
       "layout": "IPY_MODEL_301a21b30add41c4a5490df47bb8e3d1",
       "style": "IPY_MODEL_a95857fa39f3482b99185e193ef1fa98",
       "value": "<h3 class='text-center'><font color='green'>Login</font> to <a stc='https://github.com/'>Github</a><h3>"
      }
     },
     "d44ead1f71264680a34bfe35219cc904": {
      "model_module": "@jupyter-widgets/base",
      "model_module_version": "1.2.0",
      "model_name": "LayoutModel",
      "state": {}
     },
     "d46e1605d6614f2995b905ef879fdf37": {
      "model_module": "@jupyter-widgets/controls",
      "model_module_version": "1.5.0",
      "model_name": "DescriptionStyleModel",
      "state": {
       "description_width": ""
      }
     },
     "d48b37ae7cdd4e52bb30cf967c7b0fa7": {
      "model_module": "@jupyter-widgets/controls",
      "model_module_version": "1.5.0",
      "model_name": "FloatSliderModel",
      "state": {
       "continuous_update": false,
       "description": "Test:",
       "layout": "IPY_MODEL_9ca32c82f02b44cc8bb711dd540c0a72",
       "max": 10,
       "readout_format": ".1f",
       "step": 0.1,
       "style": "IPY_MODEL_f74c3b0ecae14b23b0108c231b7cebea",
       "value": 3.8
      }
     },
     "d4c34d41186a4b6dbc43d1d82517c40f": {
      "model_module": "@jupyter-widgets/base",
      "model_module_version": "1.2.0",
      "model_name": "LayoutModel",
      "state": {}
     },
     "d507ea5d842049f39d2eaf4a2f94e5ff": {
      "model_module": "@jupyter-widgets/base",
      "model_module_version": "1.2.0",
      "model_name": "LayoutModel",
      "state": {}
     },
     "d50abe684b9d4e44b79fb261c95b7694": {
      "model_module": "@jupyter-widgets/base",
      "model_module_version": "1.2.0",
      "model_name": "LayoutModel",
      "state": {}
     },
     "d567e8d781324c11927b57ce5db51dad": {
      "model_module": "@jupyter-widgets/controls",
      "model_module_version": "1.5.0",
      "model_name": "DescriptionStyleModel",
      "state": {
       "description_width": ""
      }
     },
     "d5bec9c87157430aa06863e045efea99": {
      "model_module": "@jupyter-widgets/base",
      "model_module_version": "1.2.0",
      "model_name": "LayoutModel",
      "state": {}
     },
     "d5d5f4047da54faf9cbff48225fe4c4a": {
      "model_module": "@jupyter-widgets/base",
      "model_module_version": "1.2.0",
      "model_name": "LayoutModel",
      "state": {}
     },
     "d5dfd2a247fc4cb9a861a1623d33d624": {
      "model_module": "@jupyter-widgets/base",
      "model_module_version": "1.2.0",
      "model_name": "LayoutModel",
      "state": {}
     },
     "d5e4b8e89b594eb5a6167990566ad75b": {
      "model_module": "@jupyter-widgets/controls",
      "model_module_version": "1.5.0",
      "model_name": "HBoxModel",
      "state": {
       "children": [
        "IPY_MODEL_2dcc568d764a436daebdecb7b1e592e5",
        "IPY_MODEL_78a1529141604435952deafe55982fd7",
        "IPY_MODEL_1bc9c5904cbb47f7a8a05ff0ade36dee",
        "IPY_MODEL_44ad96ca53e1457db0a62a3e7f8b65ed"
       ],
       "layout": "IPY_MODEL_784a9eb753384f638dff444156e107c5"
      }
     },
     "d77cc1c8cd30484c8685a8ad738c1dbe": {
      "model_module": "@jupyter-widgets/controls",
      "model_module_version": "1.5.0",
      "model_name": "DescriptionStyleModel",
      "state": {
       "description_width": ""
      }
     },
     "d8f8cb56d0f34c9e87c6f55b906b2a18": {
      "model_module": "@jupyter-widgets/controls",
      "model_module_version": "1.5.0",
      "model_name": "ProgressStyleModel",
      "state": {
       "description_width": ""
      }
     },
     "d95e55dd3f36440d83284be565e6c8fb": {
      "model_module": "@jupyter-widgets/controls",
      "model_module_version": "1.5.0",
      "model_name": "HTMLModel",
      "state": {
       "layout": "IPY_MODEL_2b13b1fada0d4847a18cd7a80f3a48c7",
       "style": "IPY_MODEL_2940ecb511ee41cb8ade12dbba776596",
       "value": "<h3 class='text-center'><font color='green'>Login</font> to <a stc='https://github.com/'>Github</a><h3>"
      }
     },
     "d9bc66d525a845c280dc596c3cbe9503": {
      "model_module": "@jupyter-widgets/base",
      "model_module_version": "1.2.0",
      "model_name": "LayoutModel",
      "state": {}
     },
     "d9d2ba20839a47009070ac7630e22983": {
      "model_module": "@jupyter-widgets/base",
      "model_module_version": "1.2.0",
      "model_name": "LayoutModel",
      "state": {}
     },
     "da09c80007714210a600f8cd914af4ec": {
      "model_module": "@jupyter-widgets/controls",
      "model_module_version": "1.5.0",
      "model_name": "VBoxModel",
      "state": {
       "_dom_classes": [
        "widget-interact"
       ],
       "children": [
        "IPY_MODEL_5a5cbccab3b645e98b8de637ad818e93",
        "IPY_MODEL_14197d211cc8421e8e0a2e1d112aefbf",
        "IPY_MODEL_94bbaffd92594bc19be85dd32f4ba209"
       ],
       "layout": "IPY_MODEL_01ee58b07abf4c5b8923113310dda4e2"
      }
     },
     "dac8aae4695d4c46b4147f3e573d69b1": {
      "model_module": "@jupyter-widgets/base",
      "model_module_version": "1.2.0",
      "model_name": "LayoutModel",
      "state": {}
     },
     "dae4904a0cd441129b3d3a56476068c7": {
      "model_module": "@jupyter-widgets/base",
      "model_module_version": "1.2.0",
      "model_name": "LayoutModel",
      "state": {}
     },
     "daf7a4e5da9c43bd951037ec285b275e": {
      "model_module": "@jupyter-widgets/output",
      "model_module_version": "1.0.0",
      "model_name": "OutputModel",
      "state": {
       "layout": "IPY_MODEL_3c1251374e8e4611a782eea28c0ec720",
       "outputs": [
        {
         "name": "stdout",
         "output_type": "stream",
         "text": "\n"
        }
       ]
      }
     },
     "daffd490339b42328221129250104925": {
      "model_module": "@jupyter-widgets/controls",
      "model_module_version": "1.5.0",
      "model_name": "VBoxModel",
      "state": {
       "_dom_classes": [
        "widget-interact"
       ],
       "children": [
        "IPY_MODEL_3006f1ce849e40f6b87c80fba19fd255",
        "IPY_MODEL_c257249a12a54066b45cad35e2017a01",
        "IPY_MODEL_01772b807db7476d86b8a6d16b7c2c6f"
       ],
       "layout": "IPY_MODEL_86765906529742d9b532f31da74e537c"
      }
     },
     "db04a0eebe7846768d2a71aed36c2628": {
      "model_module": "@jupyter-widgets/base",
      "model_module_version": "1.2.0",
      "model_name": "LayoutModel",
      "state": {}
     },
     "db0fd060697c4340bfed435d295d3181": {
      "model_module": "@jupyter-widgets/base",
      "model_module_version": "1.2.0",
      "model_name": "LayoutModel",
      "state": {
       "justify_content": "center",
       "margin": "0 0 0 100px"
      }
     },
     "db2e06069093427d923318ab9f0a4141": {
      "model_module": "@jupyter-widgets/base",
      "model_module_version": "1.2.0",
      "model_name": "LayoutModel",
      "state": {}
     },
     "dba9d31908e94963b9b018009131d5b8": {
      "model_module": "@jupyter-widgets/base",
      "model_module_version": "1.2.0",
      "model_name": "LayoutModel",
      "state": {}
     },
     "dc7f93aacda442b89fcf9301507491b5": {
      "model_module": "@jupyter-widgets/controls",
      "model_module_version": "1.5.0",
      "model_name": "IntSliderModel",
      "state": {
       "description": "times",
       "layout": "IPY_MODEL_ed869eb90f4b44fdb361bd251d450ee9",
       "max": 5,
       "style": "IPY_MODEL_c42bd8aef06a4076adf5b0178f89ada2"
      }
     },
     "dcf27a7063ef454a838b8589757f897b": {
      "model_module": "@jupyter-widgets/output",
      "model_module_version": "1.0.0",
      "model_name": "OutputModel",
      "state": {
       "layout": "IPY_MODEL_5ae17b69a54c4ba98779ed327700f7ce",
       "outputs": [
        {
         "name": "stdout",
         "output_type": "stream",
         "text": "asd asd \n"
        }
       ]
      }
     },
     "dd3e1854c8a04d998cb8ccc938823ff1": {
      "model_module": "@jupyter-widgets/controls",
      "model_module_version": "1.5.0",
      "model_name": "TextModel",
      "state": {
       "description": "Username",
       "layout": "IPY_MODEL_aa68f3671d264634802b833d958d073c",
       "style": "IPY_MODEL_deb69c2be446425b864f19037489f21f"
      }
     },
     "dd926a14efe641978062725dac0322dc": {
      "model_module": "@jupyter-widgets/base",
      "model_module_version": "1.2.0",
      "model_name": "LayoutModel",
      "state": {}
     },
     "ddee0faaba7f42b2b2c23443c4e06c37": {
      "model_module": "@jupyter-widgets/controls",
      "model_module_version": "1.5.0",
      "model_name": "TextModel",
      "state": {
       "description": "Username",
       "layout": "IPY_MODEL_f5ae503898454bdfa80fd882d2876579",
       "style": "IPY_MODEL_d329698de07740f996ae8abcfbda91df"
      }
     },
     "de331ece92524580a421e0b04603af99": {
      "model_module": "@jupyter-widgets/controls",
      "model_module_version": "1.5.0",
      "model_name": "DescriptionStyleModel",
      "state": {
       "description_width": ""
      }
     },
     "de49c80c31844a748b06c3b3ce1d9469": {
      "model_module": "@jupyter-widgets/controls",
      "model_module_version": "1.5.0",
      "model_name": "HTMLModel",
      "state": {
       "layout": "IPY_MODEL_444c613e46d54bd7a065d3a910c43185",
       "style": "IPY_MODEL_55362c3e54f44ac1b4048576d8bd02a6",
       "value": "<h3 class='text-center'><font color='green'>Login</font> to <a stc='https://github.com/'>Github</a><h3>"
      }
     },
     "de89a7ba28e94a808bfc45de5f6a9425": {
      "model_module": "@jupyter-widgets/controls",
      "model_module_version": "1.5.0",
      "model_name": "IntProgressModel",
      "state": {
       "description": "Loading:",
       "layout": "IPY_MODEL_7c18e20c23d541a3bbb879281d369841",
       "max": 10,
       "style": "IPY_MODEL_18159925ccdf4912a580b806bcfc04bc",
       "value": 7
      }
     },
     "de9755c28b1d4f4dbc87d524066cc0d0": {
      "model_module": "@jupyter-widgets/controls",
      "model_module_version": "1.5.0",
      "model_name": "DescriptionStyleModel",
      "state": {
       "description_width": ""
      }
     },
     "deb69c2be446425b864f19037489f21f": {
      "model_module": "@jupyter-widgets/controls",
      "model_module_version": "1.5.0",
      "model_name": "DescriptionStyleModel",
      "state": {
       "description_width": ""
      }
     },
     "dfc6e04fd8b546738cb8a4bc2e61d637": {
      "model_module": "@jupyter-widgets/base",
      "model_module_version": "1.2.0",
      "model_name": "LayoutModel",
      "state": {
       "visibility": "hidden"
      }
     },
     "dfe3d51886e6455bbcb6f1962ded80ab": {
      "model_module": "@jupyter-widgets/base",
      "model_module_version": "1.2.0",
      "model_name": "LayoutModel",
      "state": {}
     },
     "e047dad3bf694231b3315d15a18f56d9": {
      "model_module": "@jupyter-widgets/controls",
      "model_module_version": "1.5.0",
      "model_name": "ButtonStyleModel",
      "state": {}
     },
     "e04d10ce02e84d95a6d31116b111a428": {
      "model_module": "@jupyter-widgets/base",
      "model_module_version": "1.2.0",
      "model_name": "LayoutModel",
      "state": {}
     },
     "e0740315eb1e42bc8a58e40f984102d5": {
      "model_module": "@jupyter-widgets/output",
      "model_module_version": "1.0.0",
      "model_name": "OutputModel",
      "state": {
       "layout": "IPY_MODEL_44063392c9414904826602784e45f5a5",
       "outputs": [
        {
         "name": "stdout",
         "output_type": "stream",
         "text": "\n"
        }
       ]
      }
     },
     "e0d409d6db464d12bf0410e50e8e0dfb": {
      "model_module": "@jupyter-widgets/base",
      "model_module_version": "1.2.0",
      "model_name": "LayoutModel",
      "state": {}
     },
     "e1c4401761e846dc92ea9666ec541ec9": {
      "model_module": "@jupyter-widgets/controls",
      "model_module_version": "1.5.0",
      "model_name": "HTMLModel",
      "state": {
       "layout": "IPY_MODEL_dfe3d51886e6455bbcb6f1962ded80ab",
       "style": "IPY_MODEL_4a0934efdcc8446bb46725b1e38423f1",
       "value": "<h3 class='text-center'><font color='green'>Login</font> to <a stc='https://github.com/'>Github</a><h3>"
      }
     },
     "e2bbd5d0c63b452bbdf87cd13a3a35b5": {
      "model_module": "@jupyter-widgets/output",
      "model_module_version": "1.0.0",
      "model_name": "OutputModel",
      "state": {
       "layout": "IPY_MODEL_8fc854d9f9764b70aacbfc84210ccff0",
       "outputs": [
        {
         "name": "stdout",
         "output_type": "stream",
         "text": "howdy -1\n"
        }
       ]
      }
     },
     "e2e55a558b394f28a1edef2ab8d1af04": {
      "model_module": "@jupyter-widgets/base",
      "model_module_version": "1.2.0",
      "model_name": "LayoutModel",
      "state": {}
     },
     "e3064e7fb4184095a0e5432b668b47f1": {
      "model_module": "@jupyter-widgets/base",
      "model_module_version": "1.2.0",
      "model_name": "LayoutModel",
      "state": {}
     },
     "e30a3f827e744f70a6433ba2942d004c": {
      "model_module": "@jupyter-widgets/base",
      "model_module_version": "1.2.0",
      "model_name": "LayoutModel",
      "state": {}
     },
     "e5195b3d6c7b433c8e637c6bfaaf9582": {
      "model_module": "@jupyter-widgets/controls",
      "model_module_version": "1.5.0",
      "model_name": "VBoxModel",
      "state": {
       "children": [
        "IPY_MODEL_d4124a142b8b47fe9b116831aacea329",
        "IPY_MODEL_015dda41c6ae467aaa12b6a31542e6a5",
        "IPY_MODEL_7ae3c3305f454c58820a4105261ea68a",
        "IPY_MODEL_23ebed2cefc74fdb954f9103fa1dd363"
       ],
       "layout": "IPY_MODEL_e662d48f77e64249b94a954c1b89b1d6"
      }
     },
     "e533b28fb19e4b478b376941031ebd11": {
      "model_module": "@jupyter-widgets/base",
      "model_module_version": "1.2.0",
      "model_name": "LayoutModel",
      "state": {
       "width": "auto"
      }
     },
     "e53d047f061141569a1f872a2085256c": {
      "model_module": "@jupyter-widgets/controls",
      "model_module_version": "1.5.0",
      "model_name": "HBoxModel",
      "state": {
       "children": [
        "IPY_MODEL_8c1c550f856a4aa7973b7fb5836c3c64",
        "IPY_MODEL_9bbffc426bd745a4b04cebbc85df00ac"
       ],
       "layout": "IPY_MODEL_8aeb74aa0aab4e0caa7ddf76b4dbb11b"
      }
     },
     "e59bdf32a42a49249c71636fc6f19fb5": {
      "model_module": "@jupyter-widgets/base",
      "model_module_version": "1.2.0",
      "model_name": "LayoutModel",
      "state": {}
     },
     "e5f99864778e4433be5f041fef64887a": {
      "model_module": "@jupyter-widgets/controls",
      "model_module_version": "1.5.0",
      "model_name": "VBoxModel",
      "state": {
       "_dom_classes": [
        "widget-interact"
       ],
       "children": [
        "IPY_MODEL_15354b8f453945b78f1d577cbeec985f",
        "IPY_MODEL_130316de852a4408802e8b6c31566469",
        "IPY_MODEL_81d00a8f2c4747478f8ec02fd35621d7"
       ],
       "layout": "IPY_MODEL_d004fd655b8f413a88527c992e7139b6"
      }
     },
     "e60a95d0aa8947a5bc33eeace08beaeb": {
      "model_module": "@jupyter-widgets/base",
      "model_module_version": "1.2.0",
      "model_name": "LayoutModel",
      "state": {}
     },
     "e63e9c90cb914ccfbb1f66698b5ca102": {
      "model_module": "@jupyter-widgets/base",
      "model_module_version": "1.2.0",
      "model_name": "LayoutModel",
      "state": {}
     },
     "e653afe8f8c54e9e8d1bccfafc9f394a": {
      "model_module": "@jupyter-widgets/base",
      "model_module_version": "1.2.0",
      "model_name": "LayoutModel",
      "state": {}
     },
     "e662d48f77e64249b94a954c1b89b1d6": {
      "model_module": "@jupyter-widgets/base",
      "model_module_version": "1.2.0",
      "model_name": "LayoutModel",
      "state": {}
     },
     "e6d8cc6299ef46da8f5e5dcc61a6eb66": {
      "model_module": "@jupyter-widgets/controls",
      "model_module_version": "1.5.0",
      "model_name": "HTMLModel",
      "state": {
       "layout": "IPY_MODEL_acac89661dfd4055bf687c3c1c9a3c5d",
       "style": "IPY_MODEL_27b944ff62254eda8bc36515ef035b0d",
       "value": "<h3 class='text-center'><font color='green'>Login</font> to <a stc='https://github.com/'>Github</a><h3>"
      }
     },
     "e6fe9c8ff8fe4ad08c58f2b5e2f0239a": {
      "model_module": "@jupyter-widgets/controls",
      "model_module_version": "1.5.0",
      "model_name": "ButtonModel",
      "state": {
       "button_style": "success",
       "description": "Login",
       "layout": "IPY_MODEL_c05f8d40b6b24a448ae7cfc2d01f6e21",
       "style": "IPY_MODEL_a1cb4502666346ff9a7aff05add60f28"
      }
     },
     "e7a1da65f14c425b939fe2cc4ff2e7ca": {
      "model_module": "@jupyter-widgets/controls",
      "model_module_version": "1.5.0",
      "model_name": "ButtonModel",
      "state": {
       "button_style": "danger",
       "icon": "times",
       "layout": "IPY_MODEL_2609bb51c7754cf589b4bc5e06756338",
       "style": "IPY_MODEL_9cc9e45e01f547d2a45f18fb75840c8a"
      }
     },
     "e7f13e9cf7a940f2a9586ca16cbe5d6b": {
      "model_module": "@jupyter-widgets/controls",
      "model_module_version": "1.5.0",
      "model_name": "DescriptionStyleModel",
      "state": {
       "description_width": ""
      }
     },
     "e806a436f70a4bfabd5726564c804757": {
      "model_module": "@jupyter-widgets/controls",
      "model_module_version": "1.5.0",
      "model_name": "TextModel",
      "state": {
       "description": "String:",
       "layout": "IPY_MODEL_287dd2be3f5d4028af54467cde35c91c",
       "placeholder": "Type something",
       "style": "IPY_MODEL_a4d0720e08f04cc4a0bcc3f671db9bf9"
      }
     },
     "e8c7997e1c8c4ff9bd625692dd3ce03d": {
      "model_module": "@jupyter-widgets/controls",
      "model_module_version": "1.5.0",
      "model_name": "ButtonModel",
      "state": {
       "description": "Say Hello",
       "layout": "IPY_MODEL_e8f56905c52441eb82f480efac3773aa",
       "style": "IPY_MODEL_2df1bbd9c0af4a828ff1d6876575a886"
      }
     },
     "e8f56905c52441eb82f480efac3773aa": {
      "model_module": "@jupyter-widgets/base",
      "model_module_version": "1.2.0",
      "model_name": "LayoutModel",
      "state": {}
     },
     "e936a1aca504439199e4a6740f2faad1": {
      "model_module": "@jupyter-widgets/controls",
      "model_module_version": "1.5.0",
      "model_name": "DropdownModel",
      "state": {
       "_options_labels": [
        "1",
        "2",
        "3"
       ],
       "description": "Number:",
       "index": 1,
       "layout": "IPY_MODEL_44903e3cb7804651a344692bb02db3ab",
       "style": "IPY_MODEL_423a83ef27e6424381684bcecabf81c4"
      }
     },
     "e98c5b121b5646e0a6be545f28217b65": {
      "model_module": "@jupyter-widgets/base",
      "model_module_version": "1.2.0",
      "model_name": "LayoutModel",
      "state": {}
     },
     "e9cdf05b520c41b48631253618ebb7a0": {
      "model_module": "@jupyter-widgets/base",
      "model_module_version": "1.2.0",
      "model_name": "LayoutModel",
      "state": {}
     },
     "ea69fe7d71d94993b22b3e9996c816d8": {
      "model_module": "@jupyter-widgets/controls",
      "model_module_version": "1.5.0",
      "model_name": "DescriptionStyleModel",
      "state": {
       "description_width": ""
      }
     },
     "eb2a7b5298da4459aff277b38b9085de": {
      "model_module": "@jupyter-widgets/controls",
      "model_module_version": "1.5.0",
      "model_name": "ButtonStyleModel",
      "state": {}
     },
     "ec6ad8aca61142dd919e544071528f06": {
      "model_module": "@jupyter-widgets/controls",
      "model_module_version": "1.5.0",
      "model_name": "TextModel",
      "state": {
       "description": "text",
       "layout": "IPY_MODEL_e30a3f827e744f70a6433ba2942d004c",
       "style": "IPY_MODEL_643ea9daf4514c959fda4f52e178f6bc"
      }
     },
     "ed2faf18a2594bf0a8235298b058ece4": {
      "model_module": "@jupyter-widgets/base",
      "model_module_version": "1.2.0",
      "model_name": "LayoutModel",
      "state": {}
     },
     "ed869eb90f4b44fdb361bd251d450ee9": {
      "model_module": "@jupyter-widgets/base",
      "model_module_version": "1.2.0",
      "model_name": "LayoutModel",
      "state": {}
     },
     "ede65ddb498a4c8caedca69d3598bb9d": {
      "model_module": "@jupyter-widgets/controls",
      "model_module_version": "1.5.0",
      "model_name": "ButtonModel",
      "state": {
       "button_style": "success",
       "description": "Login",
       "layout": "IPY_MODEL_64dca9399a964a738bf2b5fcd6193ab3",
       "style": "IPY_MODEL_982b4d535dad4ef89df857145a1ee86a"
      }
     },
     "edf612315cfa42eab0d576fa92f93a2c": {
      "model_module": "@jupyter-widgets/base",
      "model_module_version": "1.2.0",
      "model_name": "LayoutModel",
      "state": {}
     },
     "ee188ca5c8d441daae5a79941ab55e7b": {
      "model_module": "@jupyter-widgets/controls",
      "model_module_version": "1.5.0",
      "model_name": "ButtonModel",
      "state": {
       "button_style": "success",
       "description": "Login",
       "layout": "IPY_MODEL_f8eee9cf435a4743b8e63f7a90bc750d",
       "style": "IPY_MODEL_20a3b27418da4b5e8b160f75b1ee7470"
      }
     },
     "ee4fb7bee3294117ad1ccd7b6ce40c9a": {
      "model_module": "@jupyter-widgets/controls",
      "model_module_version": "1.5.0",
      "model_name": "HTMLModel",
      "state": {
       "layout": "IPY_MODEL_b4e4d98e3bbe415abc24d9e1921753ff",
       "style": "IPY_MODEL_000c10f6f3dc4ed899c8dc580ad3935d",
       "value": "<h3 class='text-center'><font color='green'>Login</font> to <a stc='https://github.com/'>Github</a><h3>"
      }
     },
     "ee5a133920a64e5185de31134fcc30be": {
      "model_module": "@jupyter-widgets/controls",
      "model_module_version": "1.5.0",
      "model_name": "ButtonModel",
      "state": {
       "button_style": "danger",
       "icon": "clock",
       "layout": "IPY_MODEL_56477a9d861144d0bc4e95a78b4ca4bb",
       "style": "IPY_MODEL_cec6e33595fe48baad3b1300c7d3bd0a"
      }
     },
     "ef4848dec02d4b32834f905f3b380bd2": {
      "model_module": "@jupyter-widgets/controls",
      "model_module_version": "1.5.0",
      "model_name": "SliderStyleModel",
      "state": {
       "description_width": ""
      }
     },
     "ef71696d5837448cb5b9ff37cde1bde7": {
      "model_module": "@jupyter-widgets/base",
      "model_module_version": "1.2.0",
      "model_name": "LayoutModel",
      "state": {}
     },
     "f0083169976f4273a67a0f9e6e6046e1": {
      "model_module": "@jupyter-widgets/controls",
      "model_module_version": "1.5.0",
      "model_name": "VBoxModel",
      "state": {
       "_dom_classes": [
        "widget-interact"
       ],
       "children": [
        "IPY_MODEL_16bbd8ed214a45fabc9ec39bf48fe0ce",
        "IPY_MODEL_66ae4bcb34bc446987de6bc627156bbe",
        "IPY_MODEL_8d0172438a9d404d97c67362d423b6d2"
       ],
       "layout": "IPY_MODEL_b576b0a3616c4dc2b496325a646d2a05"
      }
     },
     "f06e767e8bd543e7bb6cf5c11d71e94c": {
      "model_module": "@jupyter-widgets/base",
      "model_module_version": "1.2.0",
      "model_name": "LayoutModel",
      "state": {}
     },
     "f153f3fe9142483fbd4633047681133c": {
      "model_module": "@jupyter-widgets/controls",
      "model_module_version": "1.5.0",
      "model_name": "HBoxModel",
      "state": {
       "children": [
        "IPY_MODEL_ce0249001391410384673cf24efddbf5",
        "IPY_MODEL_57ee790dccfd4e59b320e166a54c9dae"
       ],
       "layout": "IPY_MODEL_c9ec3d951a2d4033abf7f7f51392b81c"
      }
     },
     "f1ddb7540da94a0abf4b47691d898d09": {
      "model_module": "@jupyter-widgets/controls",
      "model_module_version": "1.5.0",
      "model_name": "ButtonStyleModel",
      "state": {}
     },
     "f20928ae16cb46da83cdfe0bac810c2e": {
      "model_module": "@jupyter-widgets/base",
      "model_module_version": "1.2.0",
      "model_name": "LayoutModel",
      "state": {}
     },
     "f21f0f27fc8044dfb52512045a0b465f": {
      "model_module": "@jupyter-widgets/controls",
      "model_module_version": "1.5.0",
      "model_name": "HBoxModel",
      "state": {
       "children": [
        "IPY_MODEL_c0d21f3989954c52b7ef89ca54d886aa",
        "IPY_MODEL_018c33c64ed24f139b9c4f4c9d71e4d3"
       ],
       "layout": "IPY_MODEL_1c23126e918042f1b5bad89bd0174355"
      }
     },
     "f233e74241db4e06be88f6c447cb3592": {
      "model_module": "@jupyter-widgets/controls",
      "model_module_version": "1.5.0",
      "model_name": "IntSliderModel",
      "state": {
       "layout": "IPY_MODEL_a66f1dd5fbc54e6d83aafbd25dcdb78e",
       "style": "IPY_MODEL_b7a3e68006fa44b1b595d5417fca1619"
      }
     },
     "f253a57ac9ab4e7fb2af3d58c7ef755b": {
      "model_module": "@jupyter-widgets/controls",
      "model_module_version": "1.5.0",
      "model_name": "IntSliderModel",
      "state": {
       "layout": "IPY_MODEL_d9bc66d525a845c280dc596c3cbe9503",
       "style": "IPY_MODEL_8ed04e6cabea48b4bbeb1309360780a9"
      }
     },
     "f2ef65d921e64a2cabc4c36c09904081": {
      "model_module": "@jupyter-widgets/controls",
      "model_module_version": "1.5.0",
      "model_name": "TextModel",
      "state": {
       "description": "Username",
       "layout": "IPY_MODEL_7bde605e2e4943e393693c9f24cb13d4",
       "style": "IPY_MODEL_d365936f15f447268469642d9de86ca4"
      }
     },
     "f32b5329cd994f72acdf691fa0d8d004": {
      "model_module": "@jupyter-widgets/base",
      "model_module_version": "1.2.0",
      "model_name": "LayoutModel",
      "state": {
       "visibility": "hidden"
      }
     },
     "f33af37a085a41558f46753537bfe2f9": {
      "model_module": "@jupyter-widgets/base",
      "model_module_version": "1.2.0",
      "model_name": "LayoutModel",
      "state": {}
     },
     "f3741824c2954115bfdab22a17fdebbd": {
      "model_module": "@jupyter-widgets/base",
      "model_module_version": "1.2.0",
      "model_name": "LayoutModel",
      "state": {
       "visibility": "hidden"
      }
     },
     "f3b2a6f4523e424c8a38435b278bef1b": {
      "model_module": "@jupyter-widgets/controls",
      "model_module_version": "1.5.0",
      "model_name": "DropdownModel",
      "state": {
       "_options_labels": [
        "Apple",
        "Orange",
        "Pineapple"
       ],
       "description": "Fruit:",
       "index": 0,
       "layout": "IPY_MODEL_e9cdf05b520c41b48631253618ebb7a0",
       "style": "IPY_MODEL_51d5ed92f7b44474b1f46a216aacf262"
      }
     },
     "f3eed668302548c798ba420b17ba87f7": {
      "model_module": "@jupyter-widgets/controls",
      "model_module_version": "1.5.0",
      "model_name": "TextModel",
      "state": {
       "description": "text",
       "layout": "IPY_MODEL_f33af37a085a41558f46753537bfe2f9",
       "style": "IPY_MODEL_4e138d6da9cc45bb97e69ae9a5c97e15"
      }
     },
     "f463bc45e09f42ee86ccbce74ff591dc": {
      "model_module": "@jupyter-widgets/controls",
      "model_module_version": "1.5.0",
      "model_name": "FloatSliderModel",
      "state": {
       "description": "m",
       "layout": "IPY_MODEL_186face15a344af28dd79d77684a5349",
       "max": 2,
       "min": -2,
       "step": 0.1,
       "style": "IPY_MODEL_017661965c3f4649aa5a48002265f79d"
      }
     },
     "f466467c79e24c52be2fa82870a0ffb8": {
      "model_module": "@jupyter-widgets/controls",
      "model_module_version": "1.5.0",
      "model_name": "HBoxModel",
      "state": {
       "children": [
        "IPY_MODEL_35dc5c593da64eb7b795b728d7360a29",
        "IPY_MODEL_c15bcfa40b03461b86128d73eb25a332",
        "IPY_MODEL_ce0249001391410384673cf24efddbf5",
        "IPY_MODEL_57ee790dccfd4e59b320e166a54c9dae"
       ],
       "layout": "IPY_MODEL_13774d71a37348bb9ed874a25caeef9f"
      }
     },
     "f5ae503898454bdfa80fd882d2876579": {
      "model_module": "@jupyter-widgets/base",
      "model_module_version": "1.2.0",
      "model_name": "LayoutModel",
      "state": {}
     },
     "f5b301c5cdb440e4b16284f6278fd2e7": {
      "model_module": "@jupyter-widgets/controls",
      "model_module_version": "1.5.0",
      "model_name": "VBoxModel",
      "state": {
       "children": [
        "IPY_MODEL_948d3c16b9c34849917176c3d099c763",
        "IPY_MODEL_35dc5c593da64eb7b795b728d7360a29",
        "IPY_MODEL_c15bcfa40b03461b86128d73eb25a332",
        "IPY_MODEL_f153f3fe9142483fbd4633047681133c"
       ],
       "layout": "IPY_MODEL_3b18647de6444e43b26f0d4d5d0d0241"
      }
     },
     "f6be801aad784ec5a6131f7258151ef4": {
      "model_module": "@jupyter-widgets/controls",
      "model_module_version": "1.5.0",
      "model_name": "DescriptionStyleModel",
      "state": {
       "description_width": ""
      }
     },
     "f74c3b0ecae14b23b0108c231b7cebea": {
      "model_module": "@jupyter-widgets/controls",
      "model_module_version": "1.5.0",
      "model_name": "SliderStyleModel",
      "state": {
       "description_width": ""
      }
     },
     "f78049d2570348c287ad234795e58833": {
      "model_module": "@jupyter-widgets/controls",
      "model_module_version": "1.5.0",
      "model_name": "HBoxModel",
      "state": {
       "children": [
        "IPY_MODEL_f893b9e1d09a4ec3868ab31a03987ee3",
        "IPY_MODEL_04149eb2f6cd4af4af96a90c0b1c0f84"
       ],
       "layout": "IPY_MODEL_533e140d9618423c8a4a54492ad4002a"
      }
     },
     "f7989170b42e4435ad72d921965f31d5": {
      "model_module": "@jupyter-widgets/base",
      "model_module_version": "1.2.0",
      "model_name": "LayoutModel",
      "state": {}
     },
     "f80b356049b44987adaa90705d150524": {
      "model_module": "@jupyter-widgets/controls",
      "model_module_version": "1.5.0",
      "model_name": "PasswordModel",
      "state": {
       "description": "Password",
       "layout": "IPY_MODEL_8bfaa83f9a51476880938b4c32b7e5d0",
       "style": "IPY_MODEL_78a120b16f114bd789858361ca0e5e70"
      }
     },
     "f884584f20f34b4eb00db011d350dddf": {
      "model_module": "@jupyter-widgets/controls",
      "model_module_version": "1.5.0",
      "model_name": "HTMLModel",
      "state": {
       "layout": "IPY_MODEL_8ba29c4cf1a64254b1f5f5e4661acf40",
       "style": "IPY_MODEL_d567e8d781324c11927b57ce5db51dad",
       "value": "<h3 class='text-center'><font color='green'>Login</font> to <a stc='https://github.com/'>Github</a><h3>"
      }
     },
     "f893b9e1d09a4ec3868ab31a03987ee3": {
      "model_module": "@jupyter-widgets/controls",
      "model_module_version": "1.5.0",
      "model_name": "ButtonModel",
      "state": {
       "button_style": "success",
       "description": "Login",
       "layout": "IPY_MODEL_7992d346925b4f3f905550a8dd9e9bb3",
       "style": "IPY_MODEL_bdec4f4b691d44d1945672ab7b6bdfed"
      }
     },
     "f8af5140ef3e404ca50024d9d5f454d9": {
      "model_module": "@jupyter-widgets/base",
      "model_module_version": "1.2.0",
      "model_name": "LayoutModel",
      "state": {
       "width": "auto"
      }
     },
     "f8e264b5bb51470a9cb70276219aa7d5": {
      "model_module": "@jupyter-widgets/base",
      "model_module_version": "1.2.0",
      "model_name": "LayoutModel",
      "state": {
       "width": "auto"
      }
     },
     "f8eee9cf435a4743b8e63f7a90bc750d": {
      "model_module": "@jupyter-widgets/base",
      "model_module_version": "1.2.0",
      "model_name": "LayoutModel",
      "state": {
       "width": "auto"
      }
     },
     "fa447295876f4b7ea76933fdd2358890": {
      "model_module": "@jupyter-widgets/controls",
      "model_module_version": "1.5.0",
      "model_name": "DescriptionStyleModel",
      "state": {
       "description_width": ""
      }
     },
     "fa9f7e1c22484e3d97460272cd45e6ea": {
      "model_module": "@jupyter-widgets/base",
      "model_module_version": "1.2.0",
      "model_name": "LayoutModel",
      "state": {}
     },
     "fb0ef59a047a4665860f929f184d0e1d": {
      "model_module": "@jupyter-widgets/controls",
      "model_module_version": "1.5.0",
      "model_name": "ButtonStyleModel",
      "state": {}
     },
     "fb38c254addf4c7c93d85a945ecfe1af": {
      "model_module": "@jupyter-widgets/controls",
      "model_module_version": "1.5.0",
      "model_name": "DescriptionStyleModel",
      "state": {
       "description_width": ""
      }
     },
     "fbac72e5932d4cc8bdcf4139c5123f34": {
      "model_module": "@jupyter-widgets/base",
      "model_module_version": "1.2.0",
      "model_name": "LayoutModel",
      "state": {}
     },
     "fc123d1e6d8248ad90e57ff2de30fdf7": {
      "model_module": "@jupyter-widgets/base",
      "model_module_version": "1.2.0",
      "model_name": "LayoutModel",
      "state": {}
     },
     "fc267ff16b864b948cb11738dbd4a3c0": {
      "model_module": "@jupyter-widgets/base",
      "model_module_version": "1.2.0",
      "model_name": "LayoutModel",
      "state": {
       "width": "auto"
      }
     },
     "fc49553652ce43518af9152a3fcc0fd9": {
      "model_module": "@jupyter-widgets/base",
      "model_module_version": "1.2.0",
      "model_name": "LayoutModel",
      "state": {}
     },
     "fcb63ccbc28f4b36a13ecb5bc2f345a8": {
      "model_module": "@jupyter-widgets/controls",
      "model_module_version": "1.5.0",
      "model_name": "HBoxModel",
      "state": {
       "children": [
        "IPY_MODEL_85199622551f4c8e81962d6f0b12c8ff",
        "IPY_MODEL_33ad785ca46f480db334d1d87662adff",
        "IPY_MODEL_1c927fff1f1046ed961724e58240649c",
        "IPY_MODEL_30ebbfea17b74107839661e00a2bbd8b"
       ],
       "layout": "IPY_MODEL_1ead8ad845b64626a0941c315313baed"
      }
     },
     "fcc2a064627245d8a2c6ab505726e4a6": {
      "model_module": "@jupyter-widgets/controls",
      "model_module_version": "1.5.0",
      "model_name": "FloatSliderModel",
      "state": {
       "description": "m",
       "layout": "IPY_MODEL_08646ecced784ddda0cdc2f8a8610505",
       "max": 2,
       "min": -2,
       "step": 0.1,
       "style": "IPY_MODEL_136dac1969794acf973e0ddf5d68b275"
      }
     },
     "fcd1dd4cc8af482d82e8256d2010b9de": {
      "model_module": "@jupyter-widgets/base",
      "model_module_version": "1.2.0",
      "model_name": "LayoutModel",
      "state": {}
     },
     "fd91670abf794ae7b4311def5966d2ea": {
      "model_module": "@jupyter-widgets/base",
      "model_module_version": "1.2.0",
      "model_name": "LayoutModel",
      "state": {}
     },
     "fdae70474dab4cb68fe41b35e6aaffe7": {
      "model_module": "@jupyter-widgets/controls",
      "model_module_version": "1.5.0",
      "model_name": "HTMLModel",
      "state": {
       "layout": "IPY_MODEL_548e39b3cc2642a784f398b6d9c20bad",
       "style": "IPY_MODEL_e7f13e9cf7a940f2a9586ca16cbe5d6b",
       "value": "<h3 class='text-center'><font color='green'>Login</font> to <a stc='https://github.com/'>Github</a><h3>"
      }
     },
     "fdd738da8ebe4024b0c1750f51aef95d": {
      "model_module": "@jupyter-widgets/base",
      "model_module_version": "1.2.0",
      "model_name": "LayoutModel",
      "state": {}
     },
     "fdefefd9d10542ed991ae3ed46a8085b": {
      "model_module": "@jupyter-widgets/controls",
      "model_module_version": "1.5.0",
      "model_name": "TextModel",
      "state": {
       "description": "text",
       "layout": "IPY_MODEL_4265f7b1233d4298bb8636ab96a8970d",
       "style": "IPY_MODEL_18303cb746384a5dab1e10dd7885b7cb",
       "value": "asd "
      }
     },
     "fe4885bf9db94314b3a489ec502b29d0": {
      "model_module": "@jupyter-widgets/controls",
      "model_module_version": "1.5.0",
      "model_name": "FloatSliderModel",
      "state": {
       "description": "b",
       "layout": "IPY_MODEL_77d75b2c8fb9427994c2678a2a40b256",
       "max": 3,
       "min": -3,
       "step": 0.5,
       "style": "IPY_MODEL_d30aa41d137a4ea0aa2db6b1a8a07754"
      }
     },
     "fe84ea14edef450b9423d373b31dfde0": {
      "model_module": "@jupyter-widgets/controls",
      "model_module_version": "1.5.0",
      "model_name": "TextModel",
      "state": {
       "description": "text",
       "layout": "IPY_MODEL_89b27a4b4c1d420a876aff6363ea5275",
       "style": "IPY_MODEL_fa447295876f4b7ea76933fdd2358890",
       "value": "asd "
      }
     },
     "ff2d76d8cb854db98bce33d08b4e2c7a": {
      "model_module": "@jupyter-widgets/base",
      "model_module_version": "1.2.0",
      "model_name": "LayoutModel",
      "state": {}
     },
     "ffc57822b3a54c55895fca1547837b4a": {
      "model_module": "@jupyter-widgets/controls",
      "model_module_version": "1.5.0",
      "model_name": "FloatSliderModel",
      "state": {
       "description": "b",
       "layout": "IPY_MODEL_d4c34d41186a4b6dbc43d1d82517c40f",
       "max": 3,
       "min": -3,
       "step": 0.5,
       "style": "IPY_MODEL_b443c3b0ed624bfaa11f39c23048fd02",
       "value": 1
      }
     }
    },
    "version_major": 2,
    "version_minor": 0
   }
  }
 },
 "nbformat": 4,
 "nbformat_minor": 2
}
